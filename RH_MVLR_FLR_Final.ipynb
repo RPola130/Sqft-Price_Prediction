{
  "cells": [
    {
      "cell_type": "code",
      "execution_count": null,
      "metadata": {
        "id": "necglb9YlvFo"
      },
      "outputs": [],
      "source": [
        "import numpy as np\n",
        "import pandas as pd\n",
        "import matplotlib.pyplot as plt\n",
        "import seaborn as sns\n",
        "\n",
        "sns.set(color_codes=True)"
      ]
    },
    {
      "cell_type": "code",
      "execution_count": null,
      "metadata": {
        "colab": {
          "base_uri": "https://localhost:8080/"
        },
        "id": "Ox8rLINfl3S4",
        "outputId": "24de189b-58b6-4734-ce8f-3885188ba80f"
      },
      "outputs": [
        {
          "output_type": "stream",
          "name": "stdout",
          "text": [
            "Drive already mounted at /content/drive; to attempt to forcibly remount, call drive.mount(\"/content/drive\", force_remount=True).\n"
          ]
        }
      ],
      "source": [
        "from google.colab import drive\n",
        "drive.mount('/content/drive')"
      ]
    },
    {
      "cell_type": "code",
      "execution_count": null,
      "metadata": {
        "id": "6_Q9b7fsmAs-"
      },
      "outputs": [],
      "source": [
        "Data = pd.read_csv('/content/drive/MyDrive/DATASETS/raw_house_data.csv')"
      ]
    },
    {
      "cell_type": "code",
      "execution_count": null,
      "metadata": {
        "colab": {
          "base_uri": "https://localhost:8080/",
          "height": 860
        },
        "id": "l_qiVIzLmiRp",
        "outputId": "fd60369d-11dc-436d-a744-3ddf13380865"
      },
      "outputs": [
        {
          "output_type": "execute_result",
          "data": {
            "text/plain": [
              "           MLS  sold_price  zipcode   longitude   latitude  lot_acres  \\\n",
              "0     21530491   5300000.0    85637 -110.378200  31.356362    2154.00   \n",
              "1     21529082   4200000.0    85646 -111.045371  31.594213    1707.00   \n",
              "2      3054672   4200000.0    85646 -111.040707  31.594844    1707.00   \n",
              "3     21919321   4500000.0    85646 -111.035925  31.645878     636.67   \n",
              "4     21306357   3411450.0    85750 -110.813768  32.285162       3.21   \n",
              "...        ...         ...      ...         ...        ...        ...   \n",
              "4995  21810382    495000.0    85641 -110.661829  31.907917       4.98   \n",
              "4996  21908591    550000.0    85750 -110.858556  32.316373       1.42   \n",
              "4997  21832452    475000.0    85192 -110.755428  32.964708      12.06   \n",
              "4998  21900515    550000.0    85745 -111.055528  32.296871       1.01   \n",
              "4999   4111490    450000.0    85621 -110.913054  31.385259       4.16   \n",
              "\n",
              "         taxes  year_built  bedrooms  bathrooms  sqrt_ft  garage  \\\n",
              "0      5272.00        1941        13       10.0  10500.0     0.0   \n",
              "1     10422.36        1997         2        2.0   7300.0     0.0   \n",
              "2     10482.00        1997         2        3.0      NaN     NaN   \n",
              "3      8418.58        1930         7        5.0   9019.0     4.0   \n",
              "4     15393.00        1995         4        6.0   6396.0     3.0   \n",
              "...        ...         ...       ...        ...      ...     ...   \n",
              "4995   2017.00        2005         5        3.0   3601.0     3.0   \n",
              "4996   4822.01        1990         4        3.0   2318.0     3.0   \n",
              "4997   1000.00        1969         3        2.0   1772.0     0.0   \n",
              "4998   5822.93        2009         4        4.0   3724.0     3.0   \n",
              "4999   2814.48        1988         4        4.0   4317.0     NaN   \n",
              "\n",
              "                                       kitchen_features fireplaces  \\\n",
              "0               Dishwasher, Freezer, Refrigerator, Oven          6   \n",
              "1                          Dishwasher, Garbage Disposal          5   \n",
              "2            Dishwasher, Garbage Disposal, Refrigerator          5   \n",
              "3     Dishwasher, Double Sink, Pantry: Butler, Refri...          4   \n",
              "4     Dishwasher, Garbage Disposal, Refrigerator, Mi...          5   \n",
              "...                                                 ...        ...   \n",
              "4995  Dishwasher, Double Sink, Garbage Disposal, Gas...          1   \n",
              "4996  Dishwasher, Double Sink, Electric Range, Garba...          1   \n",
              "4997  Dishwasher, Electric Range, Island, Refrigerat...          0   \n",
              "4998  Dishwasher, Double Sink, Garbage Disposal, Gas...          1   \n",
              "4999  Compactor, Dishwasher, Double Sink, Island, Ap...          3   \n",
              "\n",
              "                    floor_covering  HOA  \n",
              "0               Mexican Tile, Wood    0  \n",
              "1             Natural Stone, Other    0  \n",
              "2       Natural Stone, Other: Rock  NaN  \n",
              "3     Ceramic Tile, Laminate, Wood  NaN  \n",
              "4                 Carpet, Concrete   55  \n",
              "...                            ...  ...  \n",
              "4995          Carpet, Ceramic Tile  NaN  \n",
              "4996          Carpet, Ceramic Tile   43  \n",
              "4997                  Ceramic Tile  NaN  \n",
              "4998          Carpet, Ceramic Tile  NaN  \n",
              "4999          Carpet, Mexican Tile  NaN  \n",
              "\n",
              "[5000 rows x 16 columns]"
            ],
            "text/html": [
              "\n",
              "  <div id=\"df-f2cf7437-3a18-46cc-99d5-4e3342c77c9d\" class=\"colab-df-container\">\n",
              "    <div>\n",
              "<style scoped>\n",
              "    .dataframe tbody tr th:only-of-type {\n",
              "        vertical-align: middle;\n",
              "    }\n",
              "\n",
              "    .dataframe tbody tr th {\n",
              "        vertical-align: top;\n",
              "    }\n",
              "\n",
              "    .dataframe thead th {\n",
              "        text-align: right;\n",
              "    }\n",
              "</style>\n",
              "<table border=\"1\" class=\"dataframe\">\n",
              "  <thead>\n",
              "    <tr style=\"text-align: right;\">\n",
              "      <th></th>\n",
              "      <th>MLS</th>\n",
              "      <th>sold_price</th>\n",
              "      <th>zipcode</th>\n",
              "      <th>longitude</th>\n",
              "      <th>latitude</th>\n",
              "      <th>lot_acres</th>\n",
              "      <th>taxes</th>\n",
              "      <th>year_built</th>\n",
              "      <th>bedrooms</th>\n",
              "      <th>bathrooms</th>\n",
              "      <th>sqrt_ft</th>\n",
              "      <th>garage</th>\n",
              "      <th>kitchen_features</th>\n",
              "      <th>fireplaces</th>\n",
              "      <th>floor_covering</th>\n",
              "      <th>HOA</th>\n",
              "    </tr>\n",
              "  </thead>\n",
              "  <tbody>\n",
              "    <tr>\n",
              "      <th>0</th>\n",
              "      <td>21530491</td>\n",
              "      <td>5300000.0</td>\n",
              "      <td>85637</td>\n",
              "      <td>-110.378200</td>\n",
              "      <td>31.356362</td>\n",
              "      <td>2154.00</td>\n",
              "      <td>5272.00</td>\n",
              "      <td>1941</td>\n",
              "      <td>13</td>\n",
              "      <td>10.0</td>\n",
              "      <td>10500.0</td>\n",
              "      <td>0.0</td>\n",
              "      <td>Dishwasher, Freezer, Refrigerator, Oven</td>\n",
              "      <td>6</td>\n",
              "      <td>Mexican Tile, Wood</td>\n",
              "      <td>0</td>\n",
              "    </tr>\n",
              "    <tr>\n",
              "      <th>1</th>\n",
              "      <td>21529082</td>\n",
              "      <td>4200000.0</td>\n",
              "      <td>85646</td>\n",
              "      <td>-111.045371</td>\n",
              "      <td>31.594213</td>\n",
              "      <td>1707.00</td>\n",
              "      <td>10422.36</td>\n",
              "      <td>1997</td>\n",
              "      <td>2</td>\n",
              "      <td>2.0</td>\n",
              "      <td>7300.0</td>\n",
              "      <td>0.0</td>\n",
              "      <td>Dishwasher, Garbage Disposal</td>\n",
              "      <td>5</td>\n",
              "      <td>Natural Stone, Other</td>\n",
              "      <td>0</td>\n",
              "    </tr>\n",
              "    <tr>\n",
              "      <th>2</th>\n",
              "      <td>3054672</td>\n",
              "      <td>4200000.0</td>\n",
              "      <td>85646</td>\n",
              "      <td>-111.040707</td>\n",
              "      <td>31.594844</td>\n",
              "      <td>1707.00</td>\n",
              "      <td>10482.00</td>\n",
              "      <td>1997</td>\n",
              "      <td>2</td>\n",
              "      <td>3.0</td>\n",
              "      <td>NaN</td>\n",
              "      <td>NaN</td>\n",
              "      <td>Dishwasher, Garbage Disposal, Refrigerator</td>\n",
              "      <td>5</td>\n",
              "      <td>Natural Stone, Other: Rock</td>\n",
              "      <td>NaN</td>\n",
              "    </tr>\n",
              "    <tr>\n",
              "      <th>3</th>\n",
              "      <td>21919321</td>\n",
              "      <td>4500000.0</td>\n",
              "      <td>85646</td>\n",
              "      <td>-111.035925</td>\n",
              "      <td>31.645878</td>\n",
              "      <td>636.67</td>\n",
              "      <td>8418.58</td>\n",
              "      <td>1930</td>\n",
              "      <td>7</td>\n",
              "      <td>5.0</td>\n",
              "      <td>9019.0</td>\n",
              "      <td>4.0</td>\n",
              "      <td>Dishwasher, Double Sink, Pantry: Butler, Refri...</td>\n",
              "      <td>4</td>\n",
              "      <td>Ceramic Tile, Laminate, Wood</td>\n",
              "      <td>NaN</td>\n",
              "    </tr>\n",
              "    <tr>\n",
              "      <th>4</th>\n",
              "      <td>21306357</td>\n",
              "      <td>3411450.0</td>\n",
              "      <td>85750</td>\n",
              "      <td>-110.813768</td>\n",
              "      <td>32.285162</td>\n",
              "      <td>3.21</td>\n",
              "      <td>15393.00</td>\n",
              "      <td>1995</td>\n",
              "      <td>4</td>\n",
              "      <td>6.0</td>\n",
              "      <td>6396.0</td>\n",
              "      <td>3.0</td>\n",
              "      <td>Dishwasher, Garbage Disposal, Refrigerator, Mi...</td>\n",
              "      <td>5</td>\n",
              "      <td>Carpet, Concrete</td>\n",
              "      <td>55</td>\n",
              "    </tr>\n",
              "    <tr>\n",
              "      <th>...</th>\n",
              "      <td>...</td>\n",
              "      <td>...</td>\n",
              "      <td>...</td>\n",
              "      <td>...</td>\n",
              "      <td>...</td>\n",
              "      <td>...</td>\n",
              "      <td>...</td>\n",
              "      <td>...</td>\n",
              "      <td>...</td>\n",
              "      <td>...</td>\n",
              "      <td>...</td>\n",
              "      <td>...</td>\n",
              "      <td>...</td>\n",
              "      <td>...</td>\n",
              "      <td>...</td>\n",
              "      <td>...</td>\n",
              "    </tr>\n",
              "    <tr>\n",
              "      <th>4995</th>\n",
              "      <td>21810382</td>\n",
              "      <td>495000.0</td>\n",
              "      <td>85641</td>\n",
              "      <td>-110.661829</td>\n",
              "      <td>31.907917</td>\n",
              "      <td>4.98</td>\n",
              "      <td>2017.00</td>\n",
              "      <td>2005</td>\n",
              "      <td>5</td>\n",
              "      <td>3.0</td>\n",
              "      <td>3601.0</td>\n",
              "      <td>3.0</td>\n",
              "      <td>Dishwasher, Double Sink, Garbage Disposal, Gas...</td>\n",
              "      <td>1</td>\n",
              "      <td>Carpet, Ceramic Tile</td>\n",
              "      <td>NaN</td>\n",
              "    </tr>\n",
              "    <tr>\n",
              "      <th>4996</th>\n",
              "      <td>21908591</td>\n",
              "      <td>550000.0</td>\n",
              "      <td>85750</td>\n",
              "      <td>-110.858556</td>\n",
              "      <td>32.316373</td>\n",
              "      <td>1.42</td>\n",
              "      <td>4822.01</td>\n",
              "      <td>1990</td>\n",
              "      <td>4</td>\n",
              "      <td>3.0</td>\n",
              "      <td>2318.0</td>\n",
              "      <td>3.0</td>\n",
              "      <td>Dishwasher, Double Sink, Electric Range, Garba...</td>\n",
              "      <td>1</td>\n",
              "      <td>Carpet, Ceramic Tile</td>\n",
              "      <td>43</td>\n",
              "    </tr>\n",
              "    <tr>\n",
              "      <th>4997</th>\n",
              "      <td>21832452</td>\n",
              "      <td>475000.0</td>\n",
              "      <td>85192</td>\n",
              "      <td>-110.755428</td>\n",
              "      <td>32.964708</td>\n",
              "      <td>12.06</td>\n",
              "      <td>1000.00</td>\n",
              "      <td>1969</td>\n",
              "      <td>3</td>\n",
              "      <td>2.0</td>\n",
              "      <td>1772.0</td>\n",
              "      <td>0.0</td>\n",
              "      <td>Dishwasher, Electric Range, Island, Refrigerat...</td>\n",
              "      <td>0</td>\n",
              "      <td>Ceramic Tile</td>\n",
              "      <td>NaN</td>\n",
              "    </tr>\n",
              "    <tr>\n",
              "      <th>4998</th>\n",
              "      <td>21900515</td>\n",
              "      <td>550000.0</td>\n",
              "      <td>85745</td>\n",
              "      <td>-111.055528</td>\n",
              "      <td>32.296871</td>\n",
              "      <td>1.01</td>\n",
              "      <td>5822.93</td>\n",
              "      <td>2009</td>\n",
              "      <td>4</td>\n",
              "      <td>4.0</td>\n",
              "      <td>3724.0</td>\n",
              "      <td>3.0</td>\n",
              "      <td>Dishwasher, Double Sink, Garbage Disposal, Gas...</td>\n",
              "      <td>1</td>\n",
              "      <td>Carpet, Ceramic Tile</td>\n",
              "      <td>NaN</td>\n",
              "    </tr>\n",
              "    <tr>\n",
              "      <th>4999</th>\n",
              "      <td>4111490</td>\n",
              "      <td>450000.0</td>\n",
              "      <td>85621</td>\n",
              "      <td>-110.913054</td>\n",
              "      <td>31.385259</td>\n",
              "      <td>4.16</td>\n",
              "      <td>2814.48</td>\n",
              "      <td>1988</td>\n",
              "      <td>4</td>\n",
              "      <td>4.0</td>\n",
              "      <td>4317.0</td>\n",
              "      <td>NaN</td>\n",
              "      <td>Compactor, Dishwasher, Double Sink, Island, Ap...</td>\n",
              "      <td>3</td>\n",
              "      <td>Carpet, Mexican Tile</td>\n",
              "      <td>NaN</td>\n",
              "    </tr>\n",
              "  </tbody>\n",
              "</table>\n",
              "<p>5000 rows × 16 columns</p>\n",
              "</div>\n",
              "    <div class=\"colab-df-buttons\">\n",
              "\n",
              "  <div class=\"colab-df-container\">\n",
              "    <button class=\"colab-df-convert\" onclick=\"convertToInteractive('df-f2cf7437-3a18-46cc-99d5-4e3342c77c9d')\"\n",
              "            title=\"Convert this dataframe to an interactive table.\"\n",
              "            style=\"display:none;\">\n",
              "\n",
              "  <svg xmlns=\"http://www.w3.org/2000/svg\" height=\"24px\" viewBox=\"0 -960 960 960\">\n",
              "    <path d=\"M120-120v-720h720v720H120Zm60-500h600v-160H180v160Zm220 220h160v-160H400v160Zm0 220h160v-160H400v160ZM180-400h160v-160H180v160Zm440 0h160v-160H620v160ZM180-180h160v-160H180v160Zm440 0h160v-160H620v160Z\"/>\n",
              "  </svg>\n",
              "    </button>\n",
              "\n",
              "  <style>\n",
              "    .colab-df-container {\n",
              "      display:flex;\n",
              "      gap: 12px;\n",
              "    }\n",
              "\n",
              "    .colab-df-convert {\n",
              "      background-color: #E8F0FE;\n",
              "      border: none;\n",
              "      border-radius: 50%;\n",
              "      cursor: pointer;\n",
              "      display: none;\n",
              "      fill: #1967D2;\n",
              "      height: 32px;\n",
              "      padding: 0 0 0 0;\n",
              "      width: 32px;\n",
              "    }\n",
              "\n",
              "    .colab-df-convert:hover {\n",
              "      background-color: #E2EBFA;\n",
              "      box-shadow: 0px 1px 2px rgba(60, 64, 67, 0.3), 0px 1px 3px 1px rgba(60, 64, 67, 0.15);\n",
              "      fill: #174EA6;\n",
              "    }\n",
              "\n",
              "    .colab-df-buttons div {\n",
              "      margin-bottom: 4px;\n",
              "    }\n",
              "\n",
              "    [theme=dark] .colab-df-convert {\n",
              "      background-color: #3B4455;\n",
              "      fill: #D2E3FC;\n",
              "    }\n",
              "\n",
              "    [theme=dark] .colab-df-convert:hover {\n",
              "      background-color: #434B5C;\n",
              "      box-shadow: 0px 1px 3px 1px rgba(0, 0, 0, 0.15);\n",
              "      filter: drop-shadow(0px 1px 2px rgba(0, 0, 0, 0.3));\n",
              "      fill: #FFFFFF;\n",
              "    }\n",
              "  </style>\n",
              "\n",
              "    <script>\n",
              "      const buttonEl =\n",
              "        document.querySelector('#df-f2cf7437-3a18-46cc-99d5-4e3342c77c9d button.colab-df-convert');\n",
              "      buttonEl.style.display =\n",
              "        google.colab.kernel.accessAllowed ? 'block' : 'none';\n",
              "\n",
              "      async function convertToInteractive(key) {\n",
              "        const element = document.querySelector('#df-f2cf7437-3a18-46cc-99d5-4e3342c77c9d');\n",
              "        const dataTable =\n",
              "          await google.colab.kernel.invokeFunction('convertToInteractive',\n",
              "                                                    [key], {});\n",
              "        if (!dataTable) return;\n",
              "\n",
              "        const docLinkHtml = 'Like what you see? Visit the ' +\n",
              "          '<a target=\"_blank\" href=https://colab.research.google.com/notebooks/data_table.ipynb>data table notebook</a>'\n",
              "          + ' to learn more about interactive tables.';\n",
              "        element.innerHTML = '';\n",
              "        dataTable['output_type'] = 'display_data';\n",
              "        await google.colab.output.renderOutput(dataTable, element);\n",
              "        const docLink = document.createElement('div');\n",
              "        docLink.innerHTML = docLinkHtml;\n",
              "        element.appendChild(docLink);\n",
              "      }\n",
              "    </script>\n",
              "  </div>\n",
              "\n",
              "\n",
              "    <div id=\"df-a89177a9-9a51-4f1a-9706-dd30e6d68bc3\">\n",
              "      <button class=\"colab-df-quickchart\" onclick=\"quickchart('df-a89177a9-9a51-4f1a-9706-dd30e6d68bc3')\"\n",
              "                title=\"Suggest charts\"\n",
              "                style=\"display:none;\">\n",
              "\n",
              "<svg xmlns=\"http://www.w3.org/2000/svg\" height=\"24px\"viewBox=\"0 0 24 24\"\n",
              "     width=\"24px\">\n",
              "    <g>\n",
              "        <path d=\"M19 3H5c-1.1 0-2 .9-2 2v14c0 1.1.9 2 2 2h14c1.1 0 2-.9 2-2V5c0-1.1-.9-2-2-2zM9 17H7v-7h2v7zm4 0h-2V7h2v10zm4 0h-2v-4h2v4z\"/>\n",
              "    </g>\n",
              "</svg>\n",
              "      </button>\n",
              "\n",
              "<style>\n",
              "  .colab-df-quickchart {\n",
              "      --bg-color: #E8F0FE;\n",
              "      --fill-color: #1967D2;\n",
              "      --hover-bg-color: #E2EBFA;\n",
              "      --hover-fill-color: #174EA6;\n",
              "      --disabled-fill-color: #AAA;\n",
              "      --disabled-bg-color: #DDD;\n",
              "  }\n",
              "\n",
              "  [theme=dark] .colab-df-quickchart {\n",
              "      --bg-color: #3B4455;\n",
              "      --fill-color: #D2E3FC;\n",
              "      --hover-bg-color: #434B5C;\n",
              "      --hover-fill-color: #FFFFFF;\n",
              "      --disabled-bg-color: #3B4455;\n",
              "      --disabled-fill-color: #666;\n",
              "  }\n",
              "\n",
              "  .colab-df-quickchart {\n",
              "    background-color: var(--bg-color);\n",
              "    border: none;\n",
              "    border-radius: 50%;\n",
              "    cursor: pointer;\n",
              "    display: none;\n",
              "    fill: var(--fill-color);\n",
              "    height: 32px;\n",
              "    padding: 0;\n",
              "    width: 32px;\n",
              "  }\n",
              "\n",
              "  .colab-df-quickchart:hover {\n",
              "    background-color: var(--hover-bg-color);\n",
              "    box-shadow: 0 1px 2px rgba(60, 64, 67, 0.3), 0 1px 3px 1px rgba(60, 64, 67, 0.15);\n",
              "    fill: var(--button-hover-fill-color);\n",
              "  }\n",
              "\n",
              "  .colab-df-quickchart-complete:disabled,\n",
              "  .colab-df-quickchart-complete:disabled:hover {\n",
              "    background-color: var(--disabled-bg-color);\n",
              "    fill: var(--disabled-fill-color);\n",
              "    box-shadow: none;\n",
              "  }\n",
              "\n",
              "  .colab-df-spinner {\n",
              "    border: 2px solid var(--fill-color);\n",
              "    border-color: transparent;\n",
              "    border-bottom-color: var(--fill-color);\n",
              "    animation:\n",
              "      spin 1s steps(1) infinite;\n",
              "  }\n",
              "\n",
              "  @keyframes spin {\n",
              "    0% {\n",
              "      border-color: transparent;\n",
              "      border-bottom-color: var(--fill-color);\n",
              "      border-left-color: var(--fill-color);\n",
              "    }\n",
              "    20% {\n",
              "      border-color: transparent;\n",
              "      border-left-color: var(--fill-color);\n",
              "      border-top-color: var(--fill-color);\n",
              "    }\n",
              "    30% {\n",
              "      border-color: transparent;\n",
              "      border-left-color: var(--fill-color);\n",
              "      border-top-color: var(--fill-color);\n",
              "      border-right-color: var(--fill-color);\n",
              "    }\n",
              "    40% {\n",
              "      border-color: transparent;\n",
              "      border-right-color: var(--fill-color);\n",
              "      border-top-color: var(--fill-color);\n",
              "    }\n",
              "    60% {\n",
              "      border-color: transparent;\n",
              "      border-right-color: var(--fill-color);\n",
              "    }\n",
              "    80% {\n",
              "      border-color: transparent;\n",
              "      border-right-color: var(--fill-color);\n",
              "      border-bottom-color: var(--fill-color);\n",
              "    }\n",
              "    90% {\n",
              "      border-color: transparent;\n",
              "      border-bottom-color: var(--fill-color);\n",
              "    }\n",
              "  }\n",
              "</style>\n",
              "\n",
              "      <script>\n",
              "        async function quickchart(key) {\n",
              "          const quickchartButtonEl =\n",
              "            document.querySelector('#' + key + ' button');\n",
              "          quickchartButtonEl.disabled = true;  // To prevent multiple clicks.\n",
              "          quickchartButtonEl.classList.add('colab-df-spinner');\n",
              "          try {\n",
              "            const charts = await google.colab.kernel.invokeFunction(\n",
              "                'suggestCharts', [key], {});\n",
              "          } catch (error) {\n",
              "            console.error('Error during call to suggestCharts:', error);\n",
              "          }\n",
              "          quickchartButtonEl.classList.remove('colab-df-spinner');\n",
              "          quickchartButtonEl.classList.add('colab-df-quickchart-complete');\n",
              "        }\n",
              "        (() => {\n",
              "          let quickchartButtonEl =\n",
              "            document.querySelector('#df-a89177a9-9a51-4f1a-9706-dd30e6d68bc3 button');\n",
              "          quickchartButtonEl.style.display =\n",
              "            google.colab.kernel.accessAllowed ? 'block' : 'none';\n",
              "        })();\n",
              "      </script>\n",
              "    </div>\n",
              "\n",
              "  <div id=\"id_ab20ea3e-92f2-45a6-9d96-347f2dcc2677\">\n",
              "    <style>\n",
              "      .colab-df-generate {\n",
              "        background-color: #E8F0FE;\n",
              "        border: none;\n",
              "        border-radius: 50%;\n",
              "        cursor: pointer;\n",
              "        display: none;\n",
              "        fill: #1967D2;\n",
              "        height: 32px;\n",
              "        padding: 0 0 0 0;\n",
              "        width: 32px;\n",
              "      }\n",
              "\n",
              "      .colab-df-generate:hover {\n",
              "        background-color: #E2EBFA;\n",
              "        box-shadow: 0px 1px 2px rgba(60, 64, 67, 0.3), 0px 1px 3px 1px rgba(60, 64, 67, 0.15);\n",
              "        fill: #174EA6;\n",
              "      }\n",
              "\n",
              "      [theme=dark] .colab-df-generate {\n",
              "        background-color: #3B4455;\n",
              "        fill: #D2E3FC;\n",
              "      }\n",
              "\n",
              "      [theme=dark] .colab-df-generate:hover {\n",
              "        background-color: #434B5C;\n",
              "        box-shadow: 0px 1px 3px 1px rgba(0, 0, 0, 0.15);\n",
              "        filter: drop-shadow(0px 1px 2px rgba(0, 0, 0, 0.3));\n",
              "        fill: #FFFFFF;\n",
              "      }\n",
              "    </style>\n",
              "    <button class=\"colab-df-generate\" onclick=\"generateWithVariable('Data')\"\n",
              "            title=\"Generate code using this dataframe.\"\n",
              "            style=\"display:none;\">\n",
              "\n",
              "  <svg xmlns=\"http://www.w3.org/2000/svg\" height=\"24px\"viewBox=\"0 0 24 24\"\n",
              "       width=\"24px\">\n",
              "    <path d=\"M7,19H8.4L18.45,9,17,7.55,7,17.6ZM5,21V16.75L18.45,3.32a2,2,0,0,1,2.83,0l1.4,1.43a1.91,1.91,0,0,1,.58,1.4,1.91,1.91,0,0,1-.58,1.4L9.25,21ZM18.45,9,17,7.55Zm-12,3A5.31,5.31,0,0,0,4.9,8.1,5.31,5.31,0,0,0,1,6.5,5.31,5.31,0,0,0,4.9,4.9,5.31,5.31,0,0,0,6.5,1,5.31,5.31,0,0,0,8.1,4.9,5.31,5.31,0,0,0,12,6.5,5.46,5.46,0,0,0,6.5,12Z\"/>\n",
              "  </svg>\n",
              "    </button>\n",
              "    <script>\n",
              "      (() => {\n",
              "      const buttonEl =\n",
              "        document.querySelector('#id_ab20ea3e-92f2-45a6-9d96-347f2dcc2677 button.colab-df-generate');\n",
              "      buttonEl.style.display =\n",
              "        google.colab.kernel.accessAllowed ? 'block' : 'none';\n",
              "\n",
              "      buttonEl.onclick = () => {\n",
              "        google.colab.notebook.generateWithVariable('Data');\n",
              "      }\n",
              "      })();\n",
              "    </script>\n",
              "  </div>\n",
              "\n",
              "    </div>\n",
              "  </div>\n"
            ],
            "application/vnd.google.colaboratory.intrinsic+json": {
              "type": "dataframe",
              "variable_name": "Data",
              "summary": "{\n  \"name\": \"Data\",\n  \"rows\": 5000,\n  \"fields\": [\n    {\n      \"column\": \"MLS\",\n      \"properties\": {\n        \"dtype\": \"number\",\n        \"std\": 2398507,\n        \"min\": 3042851,\n        \"max\": 21928565,\n        \"num_unique_values\": 5000,\n        \"samples\": [\n          21113616,\n          21910943,\n          21509307\n        ],\n        \"semantic_type\": \"\",\n        \"description\": \"\"\n      }\n    },\n    {\n      \"column\": \"sold_price\",\n      \"properties\": {\n        \"dtype\": \"number\",\n        \"std\": 318555.6054750139,\n        \"min\": 169000.0,\n        \"max\": 5300000.0,\n        \"num_unique_values\": 1092,\n        \"samples\": [\n          809771.0,\n          1370000.0,\n          1697215.0\n        ],\n        \"semantic_type\": \"\",\n        \"description\": \"\"\n      }\n    },\n    {\n      \"column\": \"zipcode\",\n      \"properties\": {\n        \"dtype\": \"number\",\n        \"std\": 38,\n        \"min\": 85118,\n        \"max\": 86323,\n        \"num_unique_values\": 56,\n        \"samples\": [\n          85637,\n          85640,\n          85610\n        ],\n        \"semantic_type\": \"\",\n        \"description\": \"\"\n      }\n    },\n    {\n      \"column\": \"longitude\",\n      \"properties\": {\n        \"dtype\": \"number\",\n        \"std\": 0.1206293793898339,\n        \"min\": -112.520168,\n        \"max\": -109.454637,\n        \"num_unique_values\": 4762,\n        \"samples\": [\n          -110.833364,\n          -110.838161,\n          -110.890327\n        ],\n        \"semantic_type\": \"\",\n        \"description\": \"\"\n      }\n    },\n    {\n      \"column\": \"latitude\",\n      \"properties\": {\n        \"dtype\": \"number\",\n        \"std\": 0.17802844329504958,\n        \"min\": 31.356362,\n        \"max\": 34.927884,\n        \"num_unique_values\": 4821,\n        \"samples\": [\n          32.31739,\n          32.461137,\n          32.548989\n        ],\n        \"semantic_type\": \"\",\n        \"description\": \"\"\n      }\n    },\n    {\n      \"column\": \"lot_acres\",\n      \"properties\": {\n        \"dtype\": \"number\",\n        \"std\": 51.68522997922628,\n        \"min\": 0.0,\n        \"max\": 2154.0,\n        \"num_unique_values\": 645,\n        \"samples\": [\n          5.67,\n          2.83,\n          30.9\n        ],\n        \"semantic_type\": \"\",\n        \"description\": \"\"\n      }\n    },\n    {\n      \"column\": \"taxes\",\n      \"properties\": {\n        \"dtype\": \"number\",\n        \"std\": 172938.52714633418,\n        \"min\": 0.0,\n        \"max\": 12215075.0,\n        \"num_unique_values\": 4719,\n        \"samples\": [\n          7541.42,\n          2580.59,\n          5201.02\n        ],\n        \"semantic_type\": \"\",\n        \"description\": \"\"\n      }\n    },\n    {\n      \"column\": \"year_built\",\n      \"properties\": {\n        \"dtype\": \"number\",\n        \"std\": 65,\n        \"min\": 0,\n        \"max\": 2019,\n        \"num_unique_values\": 112,\n        \"samples\": [\n          1989,\n          1958,\n          1999\n        ],\n        \"semantic_type\": \"\",\n        \"description\": \"\"\n      }\n    },\n    {\n      \"column\": \"bedrooms\",\n      \"properties\": {\n        \"dtype\": \"number\",\n        \"std\": 1,\n        \"min\": 1,\n        \"max\": 36,\n        \"num_unique_values\": 15,\n        \"samples\": [\n          19,\n          10,\n          13\n        ],\n        \"semantic_type\": \"\",\n        \"description\": \"\"\n      }\n    },\n    {\n      \"column\": \"bathrooms\",\n      \"properties\": {\n        \"dtype\": \"number\",\n        \"std\": 1.387062662294605,\n        \"min\": 1.0,\n        \"max\": 36.0,\n        \"num_unique_values\": 19,\n        \"samples\": [\n          10.0,\n          4.0,\n          9.0\n        ],\n        \"semantic_type\": \"\",\n        \"description\": \"\"\n      }\n    },\n    {\n      \"column\": \"sqrt_ft\",\n      \"properties\": {\n        \"dtype\": \"number\",\n        \"std\": 1120.683514741974,\n        \"min\": 1100.0,\n        \"max\": 22408.0,\n        \"num_unique_values\": 2361,\n        \"samples\": [\n          3194.0,\n          3035.0,\n          3253.0\n        ],\n        \"semantic_type\": \"\",\n        \"description\": \"\"\n      }\n    },\n    {\n      \"column\": \"garage\",\n      \"properties\": {\n        \"dtype\": \"number\",\n        \"std\": 1.1929462580238044,\n        \"min\": 0.0,\n        \"max\": 30.0,\n        \"num_unique_values\": 21,\n        \"samples\": [\n          0.0,\n          10.0,\n          30.0\n        ],\n        \"semantic_type\": \"\",\n        \"description\": \"\"\n      }\n    },\n    {\n      \"column\": \"kitchen_features\",\n      \"properties\": {\n        \"dtype\": \"category\",\n        \"num_unique_values\": 1871,\n        \"samples\": [\n          \"Dishwasher, Double Sink, Garbage Disposal, Gas Range, Pantry: Walk-In, Refrigerator, Water Purifier, Appliance Color: Stainless, Countertops: Silestone, Microwave: Built in, Oven: Built in\",\n          \"Compactor, Desk, Dishwasher, Double Sink, Electric Range, Garbage Disposal, Island, Lazy Susan, Pantry: Closet, Refrigerator, Appliance Color: Almond, Countertops: Corian\",\n          \"Dishwasher, Double Sink, Garbage Disposal, Gas Range, Pantry: Cabinet, Appliance Color: Stainless, Countertops: Granite slab, Microwave: Stainless over oven, Oven: wall\"\n        ],\n        \"semantic_type\": \"\",\n        \"description\": \"\"\n      }\n    },\n    {\n      \"column\": \"fireplaces\",\n      \"properties\": {\n        \"dtype\": \"category\",\n        \"num_unique_values\": 11,\n        \"samples\": [\n          \"3\",\n          \"6\",\n          \" \"\n        ],\n        \"semantic_type\": \"\",\n        \"description\": \"\"\n      }\n    },\n    {\n      \"column\": \"floor_covering\",\n      \"properties\": {\n        \"dtype\": \"category\",\n        \"num_unique_values\": 310,\n        \"samples\": [\n          \"Carpet, Ceramic Tile, Other: NEW Plank Tile\",\n          \"Mexican Tile, Natural Stone, Wood\",\n          \"Carpet, Mexican Tile, Natural Stone, Wood\"\n        ],\n        \"semantic_type\": \"\",\n        \"description\": \"\"\n      }\n    },\n    {\n      \"column\": \"HOA\",\n      \"properties\": {\n        \"dtype\": \"category\",\n        \"num_unique_values\": 380,\n        \"samples\": [\n          \"1,769\",\n          \"109\",\n          \"77\"\n        ],\n        \"semantic_type\": \"\",\n        \"description\": \"\"\n      }\n    }\n  ]\n}"
            }
          },
          "metadata": {},
          "execution_count": 516
        }
      ],
      "source": [
        "Data"
      ]
    },
    {
      "cell_type": "code",
      "execution_count": null,
      "metadata": {
        "colab": {
          "base_uri": "https://localhost:8080/"
        },
        "id": "ea-AaOUOmjI6",
        "outputId": "11ec7098-dd12-4808-b311-3ca22e2255ea"
      },
      "outputs": [
        {
          "output_type": "execute_result",
          "data": {
            "text/plain": [
              "(5000, 16)"
            ]
          },
          "metadata": {},
          "execution_count": 517
        }
      ],
      "source": [
        "Data.shape"
      ]
    },
    {
      "cell_type": "code",
      "execution_count": null,
      "metadata": {
        "colab": {
          "base_uri": "https://localhost:8080/"
        },
        "id": "ykAZrnqzmman",
        "outputId": "e0f55a99-0f11-4bc0-e6d5-ba88fa9a307e"
      },
      "outputs": [
        {
          "output_type": "stream",
          "name": "stdout",
          "text": [
            "Empty DataFrame\n",
            "Columns: [MLS, sold_price, zipcode, longitude, latitude, lot_acres, taxes, year_built, bedrooms, bathrooms, sqrt_ft, garage, kitchen_features, fireplaces, floor_covering, HOA]\n",
            "Index: []\n"
          ]
        }
      ],
      "source": [
        "df_header = pd.DataFrame(columns=Data.columns)\n",
        "print(df_header)"
      ]
    },
    {
      "cell_type": "code",
      "execution_count": null,
      "metadata": {
        "colab": {
          "base_uri": "https://localhost:8080/"
        },
        "id": "peVNRJXIEy8w",
        "outputId": "8c74422b-21f7-4e71-c759-6c5ac591732d"
      },
      "outputs": [
        {
          "output_type": "stream",
          "name": "stdout",
          "text": [
            "MLS                   0\n",
            "sold_price            0\n",
            "zipcode               0\n",
            "longitude             0\n",
            "latitude              0\n",
            "lot_acres            10\n",
            "taxes                 0\n",
            "year_built            0\n",
            "bedrooms              0\n",
            "bathrooms             6\n",
            "sqrt_ft              56\n",
            "garage                7\n",
            "kitchen_features     33\n",
            "fireplaces            0\n",
            "floor_covering        1\n",
            "HOA                 562\n",
            "dtype: int64\n"
          ]
        }
      ],
      "source": [
        "Null_Values = Data.isnull().sum()\n",
        "print(Null_Values)"
      ]
    },
    {
      "cell_type": "code",
      "execution_count": null,
      "metadata": {
        "colab": {
          "base_uri": "https://localhost:8080/"
        },
        "id": "AndbdnD-CCoB",
        "outputId": "8759c030-4315-4153-e25c-5abc53d61bf6"
      },
      "outputs": [
        {
          "output_type": "stream",
          "name": "stdout",
          "text": [
            "Empty DataFrame\n",
            "Columns: [MLS, sold_price, zipcode, longitude, latitude, lot_acres, taxes, year_built, bedrooms, bathrooms, sqrt_ft, garage, kitchen_features, fireplaces, floor_covering, HOA]\n",
            "Index: []\n"
          ]
        }
      ],
      "source": [
        "\n",
        "duplicates = Data.duplicated()\n",
        "print(Data[duplicates])"
      ]
    },
    {
      "cell_type": "code",
      "execution_count": null,
      "metadata": {
        "colab": {
          "base_uri": "https://localhost:8080/",
          "height": 718
        },
        "id": "TiYnToHDMYEy",
        "outputId": "b07fd79b-ac13-4ae2-ff58-eb4cf20c50c7"
      },
      "outputs": [
        {
          "output_type": "execute_result",
          "data": {
            "text/plain": [
              "      sold_price  zipcode   longitude   latitude  lot_acres     taxes  \\\n",
              "0      5300000.0    85637 -110.378200  31.356362    2154.00   5272.00   \n",
              "1      4200000.0    85646 -111.045371  31.594213    1707.00  10422.36   \n",
              "2      4200000.0    85646 -111.040707  31.594844    1707.00  10482.00   \n",
              "3      4500000.0    85646 -111.035925  31.645878     636.67   8418.58   \n",
              "4      3411450.0    85750 -110.813768  32.285162       3.21  15393.00   \n",
              "...          ...      ...         ...        ...        ...       ...   \n",
              "4995    495000.0    85641 -110.661829  31.907917       4.98   2017.00   \n",
              "4996    550000.0    85750 -110.858556  32.316373       1.42   4822.01   \n",
              "4997    475000.0    85192 -110.755428  32.964708      12.06   1000.00   \n",
              "4998    550000.0    85745 -111.055528  32.296871       1.01   5822.93   \n",
              "4999    450000.0    85621 -110.913054  31.385259       4.16   2814.48   \n",
              "\n",
              "      year_built  bedrooms  bathrooms  sqrt_ft  garage  \\\n",
              "0           1941        13       10.0  10500.0     0.0   \n",
              "1           1997         2        2.0   7300.0     0.0   \n",
              "2           1997         2        3.0      NaN     NaN   \n",
              "3           1930         7        5.0   9019.0     4.0   \n",
              "4           1995         4        6.0   6396.0     3.0   \n",
              "...          ...       ...        ...      ...     ...   \n",
              "4995        2005         5        3.0   3601.0     3.0   \n",
              "4996        1990         4        3.0   2318.0     3.0   \n",
              "4997        1969         3        2.0   1772.0     0.0   \n",
              "4998        2009         4        4.0   3724.0     3.0   \n",
              "4999        1988         4        4.0   4317.0     NaN   \n",
              "\n",
              "                                       kitchen_features fireplaces  \\\n",
              "0               Dishwasher, Freezer, Refrigerator, Oven          6   \n",
              "1                          Dishwasher, Garbage Disposal          5   \n",
              "2            Dishwasher, Garbage Disposal, Refrigerator          5   \n",
              "3     Dishwasher, Double Sink, Pantry: Butler, Refri...          4   \n",
              "4     Dishwasher, Garbage Disposal, Refrigerator, Mi...          5   \n",
              "...                                                 ...        ...   \n",
              "4995  Dishwasher, Double Sink, Garbage Disposal, Gas...          1   \n",
              "4996  Dishwasher, Double Sink, Electric Range, Garba...          1   \n",
              "4997  Dishwasher, Electric Range, Island, Refrigerat...          0   \n",
              "4998  Dishwasher, Double Sink, Garbage Disposal, Gas...          1   \n",
              "4999  Compactor, Dishwasher, Double Sink, Island, Ap...          3   \n",
              "\n",
              "                    floor_covering  HOA  \n",
              "0               Mexican Tile, Wood    0  \n",
              "1             Natural Stone, Other    0  \n",
              "2       Natural Stone, Other: Rock  NaN  \n",
              "3     Ceramic Tile, Laminate, Wood  NaN  \n",
              "4                 Carpet, Concrete   55  \n",
              "...                            ...  ...  \n",
              "4995          Carpet, Ceramic Tile  NaN  \n",
              "4996          Carpet, Ceramic Tile   43  \n",
              "4997                  Ceramic Tile  NaN  \n",
              "4998          Carpet, Ceramic Tile  NaN  \n",
              "4999          Carpet, Mexican Tile  NaN  \n",
              "\n",
              "[5000 rows x 15 columns]"
            ],
            "text/html": [
              "\n",
              "  <div id=\"df-4b09819d-70d3-4659-94d0-b22dbd70d312\" class=\"colab-df-container\">\n",
              "    <div>\n",
              "<style scoped>\n",
              "    .dataframe tbody tr th:only-of-type {\n",
              "        vertical-align: middle;\n",
              "    }\n",
              "\n",
              "    .dataframe tbody tr th {\n",
              "        vertical-align: top;\n",
              "    }\n",
              "\n",
              "    .dataframe thead th {\n",
              "        text-align: right;\n",
              "    }\n",
              "</style>\n",
              "<table border=\"1\" class=\"dataframe\">\n",
              "  <thead>\n",
              "    <tr style=\"text-align: right;\">\n",
              "      <th></th>\n",
              "      <th>sold_price</th>\n",
              "      <th>zipcode</th>\n",
              "      <th>longitude</th>\n",
              "      <th>latitude</th>\n",
              "      <th>lot_acres</th>\n",
              "      <th>taxes</th>\n",
              "      <th>year_built</th>\n",
              "      <th>bedrooms</th>\n",
              "      <th>bathrooms</th>\n",
              "      <th>sqrt_ft</th>\n",
              "      <th>garage</th>\n",
              "      <th>kitchen_features</th>\n",
              "      <th>fireplaces</th>\n",
              "      <th>floor_covering</th>\n",
              "      <th>HOA</th>\n",
              "    </tr>\n",
              "  </thead>\n",
              "  <tbody>\n",
              "    <tr>\n",
              "      <th>0</th>\n",
              "      <td>5300000.0</td>\n",
              "      <td>85637</td>\n",
              "      <td>-110.378200</td>\n",
              "      <td>31.356362</td>\n",
              "      <td>2154.00</td>\n",
              "      <td>5272.00</td>\n",
              "      <td>1941</td>\n",
              "      <td>13</td>\n",
              "      <td>10.0</td>\n",
              "      <td>10500.0</td>\n",
              "      <td>0.0</td>\n",
              "      <td>Dishwasher, Freezer, Refrigerator, Oven</td>\n",
              "      <td>6</td>\n",
              "      <td>Mexican Tile, Wood</td>\n",
              "      <td>0</td>\n",
              "    </tr>\n",
              "    <tr>\n",
              "      <th>1</th>\n",
              "      <td>4200000.0</td>\n",
              "      <td>85646</td>\n",
              "      <td>-111.045371</td>\n",
              "      <td>31.594213</td>\n",
              "      <td>1707.00</td>\n",
              "      <td>10422.36</td>\n",
              "      <td>1997</td>\n",
              "      <td>2</td>\n",
              "      <td>2.0</td>\n",
              "      <td>7300.0</td>\n",
              "      <td>0.0</td>\n",
              "      <td>Dishwasher, Garbage Disposal</td>\n",
              "      <td>5</td>\n",
              "      <td>Natural Stone, Other</td>\n",
              "      <td>0</td>\n",
              "    </tr>\n",
              "    <tr>\n",
              "      <th>2</th>\n",
              "      <td>4200000.0</td>\n",
              "      <td>85646</td>\n",
              "      <td>-111.040707</td>\n",
              "      <td>31.594844</td>\n",
              "      <td>1707.00</td>\n",
              "      <td>10482.00</td>\n",
              "      <td>1997</td>\n",
              "      <td>2</td>\n",
              "      <td>3.0</td>\n",
              "      <td>NaN</td>\n",
              "      <td>NaN</td>\n",
              "      <td>Dishwasher, Garbage Disposal, Refrigerator</td>\n",
              "      <td>5</td>\n",
              "      <td>Natural Stone, Other: Rock</td>\n",
              "      <td>NaN</td>\n",
              "    </tr>\n",
              "    <tr>\n",
              "      <th>3</th>\n",
              "      <td>4500000.0</td>\n",
              "      <td>85646</td>\n",
              "      <td>-111.035925</td>\n",
              "      <td>31.645878</td>\n",
              "      <td>636.67</td>\n",
              "      <td>8418.58</td>\n",
              "      <td>1930</td>\n",
              "      <td>7</td>\n",
              "      <td>5.0</td>\n",
              "      <td>9019.0</td>\n",
              "      <td>4.0</td>\n",
              "      <td>Dishwasher, Double Sink, Pantry: Butler, Refri...</td>\n",
              "      <td>4</td>\n",
              "      <td>Ceramic Tile, Laminate, Wood</td>\n",
              "      <td>NaN</td>\n",
              "    </tr>\n",
              "    <tr>\n",
              "      <th>4</th>\n",
              "      <td>3411450.0</td>\n",
              "      <td>85750</td>\n",
              "      <td>-110.813768</td>\n",
              "      <td>32.285162</td>\n",
              "      <td>3.21</td>\n",
              "      <td>15393.00</td>\n",
              "      <td>1995</td>\n",
              "      <td>4</td>\n",
              "      <td>6.0</td>\n",
              "      <td>6396.0</td>\n",
              "      <td>3.0</td>\n",
              "      <td>Dishwasher, Garbage Disposal, Refrigerator, Mi...</td>\n",
              "      <td>5</td>\n",
              "      <td>Carpet, Concrete</td>\n",
              "      <td>55</td>\n",
              "    </tr>\n",
              "    <tr>\n",
              "      <th>...</th>\n",
              "      <td>...</td>\n",
              "      <td>...</td>\n",
              "      <td>...</td>\n",
              "      <td>...</td>\n",
              "      <td>...</td>\n",
              "      <td>...</td>\n",
              "      <td>...</td>\n",
              "      <td>...</td>\n",
              "      <td>...</td>\n",
              "      <td>...</td>\n",
              "      <td>...</td>\n",
              "      <td>...</td>\n",
              "      <td>...</td>\n",
              "      <td>...</td>\n",
              "      <td>...</td>\n",
              "    </tr>\n",
              "    <tr>\n",
              "      <th>4995</th>\n",
              "      <td>495000.0</td>\n",
              "      <td>85641</td>\n",
              "      <td>-110.661829</td>\n",
              "      <td>31.907917</td>\n",
              "      <td>4.98</td>\n",
              "      <td>2017.00</td>\n",
              "      <td>2005</td>\n",
              "      <td>5</td>\n",
              "      <td>3.0</td>\n",
              "      <td>3601.0</td>\n",
              "      <td>3.0</td>\n",
              "      <td>Dishwasher, Double Sink, Garbage Disposal, Gas...</td>\n",
              "      <td>1</td>\n",
              "      <td>Carpet, Ceramic Tile</td>\n",
              "      <td>NaN</td>\n",
              "    </tr>\n",
              "    <tr>\n",
              "      <th>4996</th>\n",
              "      <td>550000.0</td>\n",
              "      <td>85750</td>\n",
              "      <td>-110.858556</td>\n",
              "      <td>32.316373</td>\n",
              "      <td>1.42</td>\n",
              "      <td>4822.01</td>\n",
              "      <td>1990</td>\n",
              "      <td>4</td>\n",
              "      <td>3.0</td>\n",
              "      <td>2318.0</td>\n",
              "      <td>3.0</td>\n",
              "      <td>Dishwasher, Double Sink, Electric Range, Garba...</td>\n",
              "      <td>1</td>\n",
              "      <td>Carpet, Ceramic Tile</td>\n",
              "      <td>43</td>\n",
              "    </tr>\n",
              "    <tr>\n",
              "      <th>4997</th>\n",
              "      <td>475000.0</td>\n",
              "      <td>85192</td>\n",
              "      <td>-110.755428</td>\n",
              "      <td>32.964708</td>\n",
              "      <td>12.06</td>\n",
              "      <td>1000.00</td>\n",
              "      <td>1969</td>\n",
              "      <td>3</td>\n",
              "      <td>2.0</td>\n",
              "      <td>1772.0</td>\n",
              "      <td>0.0</td>\n",
              "      <td>Dishwasher, Electric Range, Island, Refrigerat...</td>\n",
              "      <td>0</td>\n",
              "      <td>Ceramic Tile</td>\n",
              "      <td>NaN</td>\n",
              "    </tr>\n",
              "    <tr>\n",
              "      <th>4998</th>\n",
              "      <td>550000.0</td>\n",
              "      <td>85745</td>\n",
              "      <td>-111.055528</td>\n",
              "      <td>32.296871</td>\n",
              "      <td>1.01</td>\n",
              "      <td>5822.93</td>\n",
              "      <td>2009</td>\n",
              "      <td>4</td>\n",
              "      <td>4.0</td>\n",
              "      <td>3724.0</td>\n",
              "      <td>3.0</td>\n",
              "      <td>Dishwasher, Double Sink, Garbage Disposal, Gas...</td>\n",
              "      <td>1</td>\n",
              "      <td>Carpet, Ceramic Tile</td>\n",
              "      <td>NaN</td>\n",
              "    </tr>\n",
              "    <tr>\n",
              "      <th>4999</th>\n",
              "      <td>450000.0</td>\n",
              "      <td>85621</td>\n",
              "      <td>-110.913054</td>\n",
              "      <td>31.385259</td>\n",
              "      <td>4.16</td>\n",
              "      <td>2814.48</td>\n",
              "      <td>1988</td>\n",
              "      <td>4</td>\n",
              "      <td>4.0</td>\n",
              "      <td>4317.0</td>\n",
              "      <td>NaN</td>\n",
              "      <td>Compactor, Dishwasher, Double Sink, Island, Ap...</td>\n",
              "      <td>3</td>\n",
              "      <td>Carpet, Mexican Tile</td>\n",
              "      <td>NaN</td>\n",
              "    </tr>\n",
              "  </tbody>\n",
              "</table>\n",
              "<p>5000 rows × 15 columns</p>\n",
              "</div>\n",
              "    <div class=\"colab-df-buttons\">\n",
              "\n",
              "  <div class=\"colab-df-container\">\n",
              "    <button class=\"colab-df-convert\" onclick=\"convertToInteractive('df-4b09819d-70d3-4659-94d0-b22dbd70d312')\"\n",
              "            title=\"Convert this dataframe to an interactive table.\"\n",
              "            style=\"display:none;\">\n",
              "\n",
              "  <svg xmlns=\"http://www.w3.org/2000/svg\" height=\"24px\" viewBox=\"0 -960 960 960\">\n",
              "    <path d=\"M120-120v-720h720v720H120Zm60-500h600v-160H180v160Zm220 220h160v-160H400v160Zm0 220h160v-160H400v160ZM180-400h160v-160H180v160Zm440 0h160v-160H620v160ZM180-180h160v-160H180v160Zm440 0h160v-160H620v160Z\"/>\n",
              "  </svg>\n",
              "    </button>\n",
              "\n",
              "  <style>\n",
              "    .colab-df-container {\n",
              "      display:flex;\n",
              "      gap: 12px;\n",
              "    }\n",
              "\n",
              "    .colab-df-convert {\n",
              "      background-color: #E8F0FE;\n",
              "      border: none;\n",
              "      border-radius: 50%;\n",
              "      cursor: pointer;\n",
              "      display: none;\n",
              "      fill: #1967D2;\n",
              "      height: 32px;\n",
              "      padding: 0 0 0 0;\n",
              "      width: 32px;\n",
              "    }\n",
              "\n",
              "    .colab-df-convert:hover {\n",
              "      background-color: #E2EBFA;\n",
              "      box-shadow: 0px 1px 2px rgba(60, 64, 67, 0.3), 0px 1px 3px 1px rgba(60, 64, 67, 0.15);\n",
              "      fill: #174EA6;\n",
              "    }\n",
              "\n",
              "    .colab-df-buttons div {\n",
              "      margin-bottom: 4px;\n",
              "    }\n",
              "\n",
              "    [theme=dark] .colab-df-convert {\n",
              "      background-color: #3B4455;\n",
              "      fill: #D2E3FC;\n",
              "    }\n",
              "\n",
              "    [theme=dark] .colab-df-convert:hover {\n",
              "      background-color: #434B5C;\n",
              "      box-shadow: 0px 1px 3px 1px rgba(0, 0, 0, 0.15);\n",
              "      filter: drop-shadow(0px 1px 2px rgba(0, 0, 0, 0.3));\n",
              "      fill: #FFFFFF;\n",
              "    }\n",
              "  </style>\n",
              "\n",
              "    <script>\n",
              "      const buttonEl =\n",
              "        document.querySelector('#df-4b09819d-70d3-4659-94d0-b22dbd70d312 button.colab-df-convert');\n",
              "      buttonEl.style.display =\n",
              "        google.colab.kernel.accessAllowed ? 'block' : 'none';\n",
              "\n",
              "      async function convertToInteractive(key) {\n",
              "        const element = document.querySelector('#df-4b09819d-70d3-4659-94d0-b22dbd70d312');\n",
              "        const dataTable =\n",
              "          await google.colab.kernel.invokeFunction('convertToInteractive',\n",
              "                                                    [key], {});\n",
              "        if (!dataTable) return;\n",
              "\n",
              "        const docLinkHtml = 'Like what you see? Visit the ' +\n",
              "          '<a target=\"_blank\" href=https://colab.research.google.com/notebooks/data_table.ipynb>data table notebook</a>'\n",
              "          + ' to learn more about interactive tables.';\n",
              "        element.innerHTML = '';\n",
              "        dataTable['output_type'] = 'display_data';\n",
              "        await google.colab.output.renderOutput(dataTable, element);\n",
              "        const docLink = document.createElement('div');\n",
              "        docLink.innerHTML = docLinkHtml;\n",
              "        element.appendChild(docLink);\n",
              "      }\n",
              "    </script>\n",
              "  </div>\n",
              "\n",
              "\n",
              "    <div id=\"df-a5e24e02-7947-4119-bf75-c763816ac250\">\n",
              "      <button class=\"colab-df-quickchart\" onclick=\"quickchart('df-a5e24e02-7947-4119-bf75-c763816ac250')\"\n",
              "                title=\"Suggest charts\"\n",
              "                style=\"display:none;\">\n",
              "\n",
              "<svg xmlns=\"http://www.w3.org/2000/svg\" height=\"24px\"viewBox=\"0 0 24 24\"\n",
              "     width=\"24px\">\n",
              "    <g>\n",
              "        <path d=\"M19 3H5c-1.1 0-2 .9-2 2v14c0 1.1.9 2 2 2h14c1.1 0 2-.9 2-2V5c0-1.1-.9-2-2-2zM9 17H7v-7h2v7zm4 0h-2V7h2v10zm4 0h-2v-4h2v4z\"/>\n",
              "    </g>\n",
              "</svg>\n",
              "      </button>\n",
              "\n",
              "<style>\n",
              "  .colab-df-quickchart {\n",
              "      --bg-color: #E8F0FE;\n",
              "      --fill-color: #1967D2;\n",
              "      --hover-bg-color: #E2EBFA;\n",
              "      --hover-fill-color: #174EA6;\n",
              "      --disabled-fill-color: #AAA;\n",
              "      --disabled-bg-color: #DDD;\n",
              "  }\n",
              "\n",
              "  [theme=dark] .colab-df-quickchart {\n",
              "      --bg-color: #3B4455;\n",
              "      --fill-color: #D2E3FC;\n",
              "      --hover-bg-color: #434B5C;\n",
              "      --hover-fill-color: #FFFFFF;\n",
              "      --disabled-bg-color: #3B4455;\n",
              "      --disabled-fill-color: #666;\n",
              "  }\n",
              "\n",
              "  .colab-df-quickchart {\n",
              "    background-color: var(--bg-color);\n",
              "    border: none;\n",
              "    border-radius: 50%;\n",
              "    cursor: pointer;\n",
              "    display: none;\n",
              "    fill: var(--fill-color);\n",
              "    height: 32px;\n",
              "    padding: 0;\n",
              "    width: 32px;\n",
              "  }\n",
              "\n",
              "  .colab-df-quickchart:hover {\n",
              "    background-color: var(--hover-bg-color);\n",
              "    box-shadow: 0 1px 2px rgba(60, 64, 67, 0.3), 0 1px 3px 1px rgba(60, 64, 67, 0.15);\n",
              "    fill: var(--button-hover-fill-color);\n",
              "  }\n",
              "\n",
              "  .colab-df-quickchart-complete:disabled,\n",
              "  .colab-df-quickchart-complete:disabled:hover {\n",
              "    background-color: var(--disabled-bg-color);\n",
              "    fill: var(--disabled-fill-color);\n",
              "    box-shadow: none;\n",
              "  }\n",
              "\n",
              "  .colab-df-spinner {\n",
              "    border: 2px solid var(--fill-color);\n",
              "    border-color: transparent;\n",
              "    border-bottom-color: var(--fill-color);\n",
              "    animation:\n",
              "      spin 1s steps(1) infinite;\n",
              "  }\n",
              "\n",
              "  @keyframes spin {\n",
              "    0% {\n",
              "      border-color: transparent;\n",
              "      border-bottom-color: var(--fill-color);\n",
              "      border-left-color: var(--fill-color);\n",
              "    }\n",
              "    20% {\n",
              "      border-color: transparent;\n",
              "      border-left-color: var(--fill-color);\n",
              "      border-top-color: var(--fill-color);\n",
              "    }\n",
              "    30% {\n",
              "      border-color: transparent;\n",
              "      border-left-color: var(--fill-color);\n",
              "      border-top-color: var(--fill-color);\n",
              "      border-right-color: var(--fill-color);\n",
              "    }\n",
              "    40% {\n",
              "      border-color: transparent;\n",
              "      border-right-color: var(--fill-color);\n",
              "      border-top-color: var(--fill-color);\n",
              "    }\n",
              "    60% {\n",
              "      border-color: transparent;\n",
              "      border-right-color: var(--fill-color);\n",
              "    }\n",
              "    80% {\n",
              "      border-color: transparent;\n",
              "      border-right-color: var(--fill-color);\n",
              "      border-bottom-color: var(--fill-color);\n",
              "    }\n",
              "    90% {\n",
              "      border-color: transparent;\n",
              "      border-bottom-color: var(--fill-color);\n",
              "    }\n",
              "  }\n",
              "</style>\n",
              "\n",
              "      <script>\n",
              "        async function quickchart(key) {\n",
              "          const quickchartButtonEl =\n",
              "            document.querySelector('#' + key + ' button');\n",
              "          quickchartButtonEl.disabled = true;  // To prevent multiple clicks.\n",
              "          quickchartButtonEl.classList.add('colab-df-spinner');\n",
              "          try {\n",
              "            const charts = await google.colab.kernel.invokeFunction(\n",
              "                'suggestCharts', [key], {});\n",
              "          } catch (error) {\n",
              "            console.error('Error during call to suggestCharts:', error);\n",
              "          }\n",
              "          quickchartButtonEl.classList.remove('colab-df-spinner');\n",
              "          quickchartButtonEl.classList.add('colab-df-quickchart-complete');\n",
              "        }\n",
              "        (() => {\n",
              "          let quickchartButtonEl =\n",
              "            document.querySelector('#df-a5e24e02-7947-4119-bf75-c763816ac250 button');\n",
              "          quickchartButtonEl.style.display =\n",
              "            google.colab.kernel.accessAllowed ? 'block' : 'none';\n",
              "        })();\n",
              "      </script>\n",
              "    </div>\n",
              "\n",
              "  <div id=\"id_c26e1732-18cf-4ee3-a923-676e19b34351\">\n",
              "    <style>\n",
              "      .colab-df-generate {\n",
              "        background-color: #E8F0FE;\n",
              "        border: none;\n",
              "        border-radius: 50%;\n",
              "        cursor: pointer;\n",
              "        display: none;\n",
              "        fill: #1967D2;\n",
              "        height: 32px;\n",
              "        padding: 0 0 0 0;\n",
              "        width: 32px;\n",
              "      }\n",
              "\n",
              "      .colab-df-generate:hover {\n",
              "        background-color: #E2EBFA;\n",
              "        box-shadow: 0px 1px 2px rgba(60, 64, 67, 0.3), 0px 1px 3px 1px rgba(60, 64, 67, 0.15);\n",
              "        fill: #174EA6;\n",
              "      }\n",
              "\n",
              "      [theme=dark] .colab-df-generate {\n",
              "        background-color: #3B4455;\n",
              "        fill: #D2E3FC;\n",
              "      }\n",
              "\n",
              "      [theme=dark] .colab-df-generate:hover {\n",
              "        background-color: #434B5C;\n",
              "        box-shadow: 0px 1px 3px 1px rgba(0, 0, 0, 0.15);\n",
              "        filter: drop-shadow(0px 1px 2px rgba(0, 0, 0, 0.3));\n",
              "        fill: #FFFFFF;\n",
              "      }\n",
              "    </style>\n",
              "    <button class=\"colab-df-generate\" onclick=\"generateWithVariable('Data')\"\n",
              "            title=\"Generate code using this dataframe.\"\n",
              "            style=\"display:none;\">\n",
              "\n",
              "  <svg xmlns=\"http://www.w3.org/2000/svg\" height=\"24px\"viewBox=\"0 0 24 24\"\n",
              "       width=\"24px\">\n",
              "    <path d=\"M7,19H8.4L18.45,9,17,7.55,7,17.6ZM5,21V16.75L18.45,3.32a2,2,0,0,1,2.83,0l1.4,1.43a1.91,1.91,0,0,1,.58,1.4,1.91,1.91,0,0,1-.58,1.4L9.25,21ZM18.45,9,17,7.55Zm-12,3A5.31,5.31,0,0,0,4.9,8.1,5.31,5.31,0,0,0,1,6.5,5.31,5.31,0,0,0,4.9,4.9,5.31,5.31,0,0,0,6.5,1,5.31,5.31,0,0,0,8.1,4.9,5.31,5.31,0,0,0,12,6.5,5.46,5.46,0,0,0,6.5,12Z\"/>\n",
              "  </svg>\n",
              "    </button>\n",
              "    <script>\n",
              "      (() => {\n",
              "      const buttonEl =\n",
              "        document.querySelector('#id_c26e1732-18cf-4ee3-a923-676e19b34351 button.colab-df-generate');\n",
              "      buttonEl.style.display =\n",
              "        google.colab.kernel.accessAllowed ? 'block' : 'none';\n",
              "\n",
              "      buttonEl.onclick = () => {\n",
              "        google.colab.notebook.generateWithVariable('Data');\n",
              "      }\n",
              "      })();\n",
              "    </script>\n",
              "  </div>\n",
              "\n",
              "    </div>\n",
              "  </div>\n"
            ],
            "application/vnd.google.colaboratory.intrinsic+json": {
              "type": "dataframe",
              "variable_name": "Data",
              "summary": "{\n  \"name\": \"Data\",\n  \"rows\": 5000,\n  \"fields\": [\n    {\n      \"column\": \"sold_price\",\n      \"properties\": {\n        \"dtype\": \"number\",\n        \"std\": 318555.6054750139,\n        \"min\": 169000.0,\n        \"max\": 5300000.0,\n        \"num_unique_values\": 1092,\n        \"samples\": [\n          809771.0,\n          1370000.0,\n          1697215.0\n        ],\n        \"semantic_type\": \"\",\n        \"description\": \"\"\n      }\n    },\n    {\n      \"column\": \"zipcode\",\n      \"properties\": {\n        \"dtype\": \"number\",\n        \"std\": 38,\n        \"min\": 85118,\n        \"max\": 86323,\n        \"num_unique_values\": 56,\n        \"samples\": [\n          85637,\n          85640,\n          85610\n        ],\n        \"semantic_type\": \"\",\n        \"description\": \"\"\n      }\n    },\n    {\n      \"column\": \"longitude\",\n      \"properties\": {\n        \"dtype\": \"number\",\n        \"std\": 0.1206293793898339,\n        \"min\": -112.520168,\n        \"max\": -109.454637,\n        \"num_unique_values\": 4762,\n        \"samples\": [\n          -110.833364,\n          -110.838161,\n          -110.890327\n        ],\n        \"semantic_type\": \"\",\n        \"description\": \"\"\n      }\n    },\n    {\n      \"column\": \"latitude\",\n      \"properties\": {\n        \"dtype\": \"number\",\n        \"std\": 0.17802844329504958,\n        \"min\": 31.356362,\n        \"max\": 34.927884,\n        \"num_unique_values\": 4821,\n        \"samples\": [\n          32.31739,\n          32.461137,\n          32.548989\n        ],\n        \"semantic_type\": \"\",\n        \"description\": \"\"\n      }\n    },\n    {\n      \"column\": \"lot_acres\",\n      \"properties\": {\n        \"dtype\": \"number\",\n        \"std\": 51.68522997922628,\n        \"min\": 0.0,\n        \"max\": 2154.0,\n        \"num_unique_values\": 645,\n        \"samples\": [\n          5.67,\n          2.83,\n          30.9\n        ],\n        \"semantic_type\": \"\",\n        \"description\": \"\"\n      }\n    },\n    {\n      \"column\": \"taxes\",\n      \"properties\": {\n        \"dtype\": \"number\",\n        \"std\": 172938.52714633418,\n        \"min\": 0.0,\n        \"max\": 12215075.0,\n        \"num_unique_values\": 4719,\n        \"samples\": [\n          7541.42,\n          2580.59,\n          5201.02\n        ],\n        \"semantic_type\": \"\",\n        \"description\": \"\"\n      }\n    },\n    {\n      \"column\": \"year_built\",\n      \"properties\": {\n        \"dtype\": \"number\",\n        \"std\": 65,\n        \"min\": 0,\n        \"max\": 2019,\n        \"num_unique_values\": 112,\n        \"samples\": [\n          1989,\n          1958,\n          1999\n        ],\n        \"semantic_type\": \"\",\n        \"description\": \"\"\n      }\n    },\n    {\n      \"column\": \"bedrooms\",\n      \"properties\": {\n        \"dtype\": \"number\",\n        \"std\": 1,\n        \"min\": 1,\n        \"max\": 36,\n        \"num_unique_values\": 15,\n        \"samples\": [\n          19,\n          10,\n          13\n        ],\n        \"semantic_type\": \"\",\n        \"description\": \"\"\n      }\n    },\n    {\n      \"column\": \"bathrooms\",\n      \"properties\": {\n        \"dtype\": \"number\",\n        \"std\": 1.387062662294605,\n        \"min\": 1.0,\n        \"max\": 36.0,\n        \"num_unique_values\": 19,\n        \"samples\": [\n          10.0,\n          4.0,\n          9.0\n        ],\n        \"semantic_type\": \"\",\n        \"description\": \"\"\n      }\n    },\n    {\n      \"column\": \"sqrt_ft\",\n      \"properties\": {\n        \"dtype\": \"number\",\n        \"std\": 1120.683514741974,\n        \"min\": 1100.0,\n        \"max\": 22408.0,\n        \"num_unique_values\": 2361,\n        \"samples\": [\n          3194.0,\n          3035.0,\n          3253.0\n        ],\n        \"semantic_type\": \"\",\n        \"description\": \"\"\n      }\n    },\n    {\n      \"column\": \"garage\",\n      \"properties\": {\n        \"dtype\": \"number\",\n        \"std\": 1.1929462580238044,\n        \"min\": 0.0,\n        \"max\": 30.0,\n        \"num_unique_values\": 21,\n        \"samples\": [\n          0.0,\n          10.0,\n          30.0\n        ],\n        \"semantic_type\": \"\",\n        \"description\": \"\"\n      }\n    },\n    {\n      \"column\": \"kitchen_features\",\n      \"properties\": {\n        \"dtype\": \"category\",\n        \"num_unique_values\": 1871,\n        \"samples\": [\n          \"Dishwasher, Double Sink, Garbage Disposal, Gas Range, Pantry: Walk-In, Refrigerator, Water Purifier, Appliance Color: Stainless, Countertops: Silestone, Microwave: Built in, Oven: Built in\",\n          \"Compactor, Desk, Dishwasher, Double Sink, Electric Range, Garbage Disposal, Island, Lazy Susan, Pantry: Closet, Refrigerator, Appliance Color: Almond, Countertops: Corian\",\n          \"Dishwasher, Double Sink, Garbage Disposal, Gas Range, Pantry: Cabinet, Appliance Color: Stainless, Countertops: Granite slab, Microwave: Stainless over oven, Oven: wall\"\n        ],\n        \"semantic_type\": \"\",\n        \"description\": \"\"\n      }\n    },\n    {\n      \"column\": \"fireplaces\",\n      \"properties\": {\n        \"dtype\": \"category\",\n        \"num_unique_values\": 11,\n        \"samples\": [\n          \"3\",\n          \"6\",\n          \" \"\n        ],\n        \"semantic_type\": \"\",\n        \"description\": \"\"\n      }\n    },\n    {\n      \"column\": \"floor_covering\",\n      \"properties\": {\n        \"dtype\": \"category\",\n        \"num_unique_values\": 310,\n        \"samples\": [\n          \"Carpet, Ceramic Tile, Other: NEW Plank Tile\",\n          \"Mexican Tile, Natural Stone, Wood\",\n          \"Carpet, Mexican Tile, Natural Stone, Wood\"\n        ],\n        \"semantic_type\": \"\",\n        \"description\": \"\"\n      }\n    },\n    {\n      \"column\": \"HOA\",\n      \"properties\": {\n        \"dtype\": \"category\",\n        \"num_unique_values\": 380,\n        \"samples\": [\n          \"1,769\",\n          \"109\",\n          \"77\"\n        ],\n        \"semantic_type\": \"\",\n        \"description\": \"\"\n      }\n    }\n  ]\n}"
            }
          },
          "metadata": {},
          "execution_count": 521
        }
      ],
      "source": [
        "Data = Data.drop(\"MLS\", axis = 1)\n",
        "Data"
      ]
    },
    {
      "cell_type": "code",
      "execution_count": null,
      "metadata": {
        "colab": {
          "base_uri": "https://localhost:8080/"
        },
        "id": "jvYBAmEZCP8d",
        "outputId": "ab1207d1-ae9c-4c5d-aca2-5958099f49ab"
      },
      "outputs": [
        {
          "output_type": "execute_result",
          "data": {
            "text/plain": [
              "np.int64(0)"
            ]
          },
          "metadata": {},
          "execution_count": 522
        }
      ],
      "source": [
        "duplicates = Data.duplicated()\n",
        "\n",
        "# Print duplicate rows\n",
        "#print(Data[duplicates])\n",
        "duplicates.sum()"
      ]
    },
    {
      "cell_type": "code",
      "execution_count": null,
      "metadata": {
        "colab": {
          "base_uri": "https://localhost:8080/",
          "height": 554
        },
        "id": "pn1_8eDjMYBb",
        "outputId": "69586d24-024f-48e4-f9e2-c29bcecd982c"
      },
      "outputs": [
        {
          "output_type": "execute_result",
          "data": {
            "text/plain": [
              "sold_price          float64\n",
              "zipcode               int64\n",
              "longitude           float64\n",
              "latitude            float64\n",
              "lot_acres           float64\n",
              "taxes               float64\n",
              "year_built            int64\n",
              "bedrooms              int64\n",
              "bathrooms           float64\n",
              "sqrt_ft             float64\n",
              "garage              float64\n",
              "kitchen_features     object\n",
              "fireplaces           object\n",
              "floor_covering       object\n",
              "HOA                  object\n",
              "dtype: object"
            ],
            "text/html": [
              "<div>\n",
              "<style scoped>\n",
              "    .dataframe tbody tr th:only-of-type {\n",
              "        vertical-align: middle;\n",
              "    }\n",
              "\n",
              "    .dataframe tbody tr th {\n",
              "        vertical-align: top;\n",
              "    }\n",
              "\n",
              "    .dataframe thead th {\n",
              "        text-align: right;\n",
              "    }\n",
              "</style>\n",
              "<table border=\"1\" class=\"dataframe\">\n",
              "  <thead>\n",
              "    <tr style=\"text-align: right;\">\n",
              "      <th></th>\n",
              "      <th>0</th>\n",
              "    </tr>\n",
              "  </thead>\n",
              "  <tbody>\n",
              "    <tr>\n",
              "      <th>sold_price</th>\n",
              "      <td>float64</td>\n",
              "    </tr>\n",
              "    <tr>\n",
              "      <th>zipcode</th>\n",
              "      <td>int64</td>\n",
              "    </tr>\n",
              "    <tr>\n",
              "      <th>longitude</th>\n",
              "      <td>float64</td>\n",
              "    </tr>\n",
              "    <tr>\n",
              "      <th>latitude</th>\n",
              "      <td>float64</td>\n",
              "    </tr>\n",
              "    <tr>\n",
              "      <th>lot_acres</th>\n",
              "      <td>float64</td>\n",
              "    </tr>\n",
              "    <tr>\n",
              "      <th>taxes</th>\n",
              "      <td>float64</td>\n",
              "    </tr>\n",
              "    <tr>\n",
              "      <th>year_built</th>\n",
              "      <td>int64</td>\n",
              "    </tr>\n",
              "    <tr>\n",
              "      <th>bedrooms</th>\n",
              "      <td>int64</td>\n",
              "    </tr>\n",
              "    <tr>\n",
              "      <th>bathrooms</th>\n",
              "      <td>float64</td>\n",
              "    </tr>\n",
              "    <tr>\n",
              "      <th>sqrt_ft</th>\n",
              "      <td>float64</td>\n",
              "    </tr>\n",
              "    <tr>\n",
              "      <th>garage</th>\n",
              "      <td>float64</td>\n",
              "    </tr>\n",
              "    <tr>\n",
              "      <th>kitchen_features</th>\n",
              "      <td>object</td>\n",
              "    </tr>\n",
              "    <tr>\n",
              "      <th>fireplaces</th>\n",
              "      <td>object</td>\n",
              "    </tr>\n",
              "    <tr>\n",
              "      <th>floor_covering</th>\n",
              "      <td>object</td>\n",
              "    </tr>\n",
              "    <tr>\n",
              "      <th>HOA</th>\n",
              "      <td>object</td>\n",
              "    </tr>\n",
              "  </tbody>\n",
              "</table>\n",
              "</div><br><label><b>dtype:</b> object</label>"
            ]
          },
          "metadata": {},
          "execution_count": 523
        }
      ],
      "source": [
        "Data.dtypes"
      ]
    },
    {
      "cell_type": "code",
      "execution_count": null,
      "metadata": {
        "colab": {
          "base_uri": "https://localhost:8080/",
          "height": 736
        },
        "id": "8Ia3FYN7MXyA",
        "outputId": "785fb8e8-4d87-4890-da9a-d92f4c5844db"
      },
      "outputs": [
        {
          "output_type": "execute_result",
          "data": {
            "text/plain": [
              "      sold_price  zipcode   longitude   latitude  lot_acres     taxes  \\\n",
              "0      5300000.0    85637 -110.378200  31.356362    2154.00   5272.00   \n",
              "1      4200000.0    85646 -111.045371  31.594213    1707.00  10422.36   \n",
              "3      4500000.0    85646 -111.035925  31.645878     636.67   8418.58   \n",
              "4      3411450.0    85750 -110.813768  32.285162       3.21  15393.00   \n",
              "5      3250000.0    85718 -110.910593  32.339090       1.67  27802.84   \n",
              "...          ...      ...         ...        ...        ...       ...   \n",
              "4994    535000.0    85718 -110.922291  32.317496       0.18   4414.00   \n",
              "4995    495000.0    85641 -110.661829  31.907917       4.98   2017.00   \n",
              "4996    550000.0    85750 -110.858556  32.316373       1.42   4822.01   \n",
              "4997    475000.0    85192 -110.755428  32.964708      12.06   1000.00   \n",
              "4998    550000.0    85745 -111.055528  32.296871       1.01   5822.93   \n",
              "\n",
              "      year_built  bedrooms  bathrooms  sqrt_ft  garage  \\\n",
              "0           1941        13       10.0  10500.0     0.0   \n",
              "1           1997         2        2.0   7300.0     0.0   \n",
              "3           1930         7        5.0   9019.0     4.0   \n",
              "4           1995         4        6.0   6396.0     3.0   \n",
              "5           1999         3        4.0   6842.0     3.0   \n",
              "...          ...       ...        ...      ...     ...   \n",
              "4994        2002         3        2.0   2106.0     2.0   \n",
              "4995        2005         5        3.0   3601.0     3.0   \n",
              "4996        1990         4        3.0   2318.0     3.0   \n",
              "4997        1969         3        2.0   1772.0     0.0   \n",
              "4998        2009         4        4.0   3724.0     3.0   \n",
              "\n",
              "                                       kitchen_features fireplaces  \\\n",
              "0               Dishwasher, Freezer, Refrigerator, Oven          6   \n",
              "1                          Dishwasher, Garbage Disposal          5   \n",
              "3     Dishwasher, Double Sink, Pantry: Butler, Refri...          4   \n",
              "4     Dishwasher, Garbage Disposal, Refrigerator, Mi...          5   \n",
              "5     Dishwasher, Garbage Disposal, Refrigerator, Mi...          5   \n",
              "...                                                 ...        ...   \n",
              "4994  Dishwasher, Double Sink, Electric Range, Garba...          1   \n",
              "4995  Dishwasher, Double Sink, Garbage Disposal, Gas...          1   \n",
              "4996  Dishwasher, Double Sink, Electric Range, Garba...          1   \n",
              "4997  Dishwasher, Electric Range, Island, Refrigerat...          0   \n",
              "4998  Dishwasher, Double Sink, Garbage Disposal, Gas...          1   \n",
              "\n",
              "                    floor_covering  HOA  \n",
              "0               Mexican Tile, Wood    0  \n",
              "1             Natural Stone, Other    0  \n",
              "3     Ceramic Tile, Laminate, Wood  NaN  \n",
              "4                 Carpet, Concrete   55  \n",
              "5       Natural Stone, Wood, Other  422  \n",
              "...                            ...  ...  \n",
              "4994                  Ceramic Tile  198  \n",
              "4995          Carpet, Ceramic Tile  NaN  \n",
              "4996          Carpet, Ceramic Tile   43  \n",
              "4997                  Ceramic Tile  NaN  \n",
              "4998          Carpet, Ceramic Tile  NaN  \n",
              "\n",
              "[4908 rows x 15 columns]"
            ],
            "text/html": [
              "\n",
              "  <div id=\"df-38ba504f-0be7-4267-86a4-b5c0f09d8cf8\" class=\"colab-df-container\">\n",
              "    <div>\n",
              "<style scoped>\n",
              "    .dataframe tbody tr th:only-of-type {\n",
              "        vertical-align: middle;\n",
              "    }\n",
              "\n",
              "    .dataframe tbody tr th {\n",
              "        vertical-align: top;\n",
              "    }\n",
              "\n",
              "    .dataframe thead th {\n",
              "        text-align: right;\n",
              "    }\n",
              "</style>\n",
              "<table border=\"1\" class=\"dataframe\">\n",
              "  <thead>\n",
              "    <tr style=\"text-align: right;\">\n",
              "      <th></th>\n",
              "      <th>sold_price</th>\n",
              "      <th>zipcode</th>\n",
              "      <th>longitude</th>\n",
              "      <th>latitude</th>\n",
              "      <th>lot_acres</th>\n",
              "      <th>taxes</th>\n",
              "      <th>year_built</th>\n",
              "      <th>bedrooms</th>\n",
              "      <th>bathrooms</th>\n",
              "      <th>sqrt_ft</th>\n",
              "      <th>garage</th>\n",
              "      <th>kitchen_features</th>\n",
              "      <th>fireplaces</th>\n",
              "      <th>floor_covering</th>\n",
              "      <th>HOA</th>\n",
              "    </tr>\n",
              "  </thead>\n",
              "  <tbody>\n",
              "    <tr>\n",
              "      <th>0</th>\n",
              "      <td>5300000.0</td>\n",
              "      <td>85637</td>\n",
              "      <td>-110.378200</td>\n",
              "      <td>31.356362</td>\n",
              "      <td>2154.00</td>\n",
              "      <td>5272.00</td>\n",
              "      <td>1941</td>\n",
              "      <td>13</td>\n",
              "      <td>10.0</td>\n",
              "      <td>10500.0</td>\n",
              "      <td>0.0</td>\n",
              "      <td>Dishwasher, Freezer, Refrigerator, Oven</td>\n",
              "      <td>6</td>\n",
              "      <td>Mexican Tile, Wood</td>\n",
              "      <td>0</td>\n",
              "    </tr>\n",
              "    <tr>\n",
              "      <th>1</th>\n",
              "      <td>4200000.0</td>\n",
              "      <td>85646</td>\n",
              "      <td>-111.045371</td>\n",
              "      <td>31.594213</td>\n",
              "      <td>1707.00</td>\n",
              "      <td>10422.36</td>\n",
              "      <td>1997</td>\n",
              "      <td>2</td>\n",
              "      <td>2.0</td>\n",
              "      <td>7300.0</td>\n",
              "      <td>0.0</td>\n",
              "      <td>Dishwasher, Garbage Disposal</td>\n",
              "      <td>5</td>\n",
              "      <td>Natural Stone, Other</td>\n",
              "      <td>0</td>\n",
              "    </tr>\n",
              "    <tr>\n",
              "      <th>3</th>\n",
              "      <td>4500000.0</td>\n",
              "      <td>85646</td>\n",
              "      <td>-111.035925</td>\n",
              "      <td>31.645878</td>\n",
              "      <td>636.67</td>\n",
              "      <td>8418.58</td>\n",
              "      <td>1930</td>\n",
              "      <td>7</td>\n",
              "      <td>5.0</td>\n",
              "      <td>9019.0</td>\n",
              "      <td>4.0</td>\n",
              "      <td>Dishwasher, Double Sink, Pantry: Butler, Refri...</td>\n",
              "      <td>4</td>\n",
              "      <td>Ceramic Tile, Laminate, Wood</td>\n",
              "      <td>NaN</td>\n",
              "    </tr>\n",
              "    <tr>\n",
              "      <th>4</th>\n",
              "      <td>3411450.0</td>\n",
              "      <td>85750</td>\n",
              "      <td>-110.813768</td>\n",
              "      <td>32.285162</td>\n",
              "      <td>3.21</td>\n",
              "      <td>15393.00</td>\n",
              "      <td>1995</td>\n",
              "      <td>4</td>\n",
              "      <td>6.0</td>\n",
              "      <td>6396.0</td>\n",
              "      <td>3.0</td>\n",
              "      <td>Dishwasher, Garbage Disposal, Refrigerator, Mi...</td>\n",
              "      <td>5</td>\n",
              "      <td>Carpet, Concrete</td>\n",
              "      <td>55</td>\n",
              "    </tr>\n",
              "    <tr>\n",
              "      <th>5</th>\n",
              "      <td>3250000.0</td>\n",
              "      <td>85718</td>\n",
              "      <td>-110.910593</td>\n",
              "      <td>32.339090</td>\n",
              "      <td>1.67</td>\n",
              "      <td>27802.84</td>\n",
              "      <td>1999</td>\n",
              "      <td>3</td>\n",
              "      <td>4.0</td>\n",
              "      <td>6842.0</td>\n",
              "      <td>3.0</td>\n",
              "      <td>Dishwasher, Garbage Disposal, Refrigerator, Mi...</td>\n",
              "      <td>5</td>\n",
              "      <td>Natural Stone, Wood, Other</td>\n",
              "      <td>422</td>\n",
              "    </tr>\n",
              "    <tr>\n",
              "      <th>...</th>\n",
              "      <td>...</td>\n",
              "      <td>...</td>\n",
              "      <td>...</td>\n",
              "      <td>...</td>\n",
              "      <td>...</td>\n",
              "      <td>...</td>\n",
              "      <td>...</td>\n",
              "      <td>...</td>\n",
              "      <td>...</td>\n",
              "      <td>...</td>\n",
              "      <td>...</td>\n",
              "      <td>...</td>\n",
              "      <td>...</td>\n",
              "      <td>...</td>\n",
              "      <td>...</td>\n",
              "    </tr>\n",
              "    <tr>\n",
              "      <th>4994</th>\n",
              "      <td>535000.0</td>\n",
              "      <td>85718</td>\n",
              "      <td>-110.922291</td>\n",
              "      <td>32.317496</td>\n",
              "      <td>0.18</td>\n",
              "      <td>4414.00</td>\n",
              "      <td>2002</td>\n",
              "      <td>3</td>\n",
              "      <td>2.0</td>\n",
              "      <td>2106.0</td>\n",
              "      <td>2.0</td>\n",
              "      <td>Dishwasher, Double Sink, Electric Range, Garba...</td>\n",
              "      <td>1</td>\n",
              "      <td>Ceramic Tile</td>\n",
              "      <td>198</td>\n",
              "    </tr>\n",
              "    <tr>\n",
              "      <th>4995</th>\n",
              "      <td>495000.0</td>\n",
              "      <td>85641</td>\n",
              "      <td>-110.661829</td>\n",
              "      <td>31.907917</td>\n",
              "      <td>4.98</td>\n",
              "      <td>2017.00</td>\n",
              "      <td>2005</td>\n",
              "      <td>5</td>\n",
              "      <td>3.0</td>\n",
              "      <td>3601.0</td>\n",
              "      <td>3.0</td>\n",
              "      <td>Dishwasher, Double Sink, Garbage Disposal, Gas...</td>\n",
              "      <td>1</td>\n",
              "      <td>Carpet, Ceramic Tile</td>\n",
              "      <td>NaN</td>\n",
              "    </tr>\n",
              "    <tr>\n",
              "      <th>4996</th>\n",
              "      <td>550000.0</td>\n",
              "      <td>85750</td>\n",
              "      <td>-110.858556</td>\n",
              "      <td>32.316373</td>\n",
              "      <td>1.42</td>\n",
              "      <td>4822.01</td>\n",
              "      <td>1990</td>\n",
              "      <td>4</td>\n",
              "      <td>3.0</td>\n",
              "      <td>2318.0</td>\n",
              "      <td>3.0</td>\n",
              "      <td>Dishwasher, Double Sink, Electric Range, Garba...</td>\n",
              "      <td>1</td>\n",
              "      <td>Carpet, Ceramic Tile</td>\n",
              "      <td>43</td>\n",
              "    </tr>\n",
              "    <tr>\n",
              "      <th>4997</th>\n",
              "      <td>475000.0</td>\n",
              "      <td>85192</td>\n",
              "      <td>-110.755428</td>\n",
              "      <td>32.964708</td>\n",
              "      <td>12.06</td>\n",
              "      <td>1000.00</td>\n",
              "      <td>1969</td>\n",
              "      <td>3</td>\n",
              "      <td>2.0</td>\n",
              "      <td>1772.0</td>\n",
              "      <td>0.0</td>\n",
              "      <td>Dishwasher, Electric Range, Island, Refrigerat...</td>\n",
              "      <td>0</td>\n",
              "      <td>Ceramic Tile</td>\n",
              "      <td>NaN</td>\n",
              "    </tr>\n",
              "    <tr>\n",
              "      <th>4998</th>\n",
              "      <td>550000.0</td>\n",
              "      <td>85745</td>\n",
              "      <td>-111.055528</td>\n",
              "      <td>32.296871</td>\n",
              "      <td>1.01</td>\n",
              "      <td>5822.93</td>\n",
              "      <td>2009</td>\n",
              "      <td>4</td>\n",
              "      <td>4.0</td>\n",
              "      <td>3724.0</td>\n",
              "      <td>3.0</td>\n",
              "      <td>Dishwasher, Double Sink, Garbage Disposal, Gas...</td>\n",
              "      <td>1</td>\n",
              "      <td>Carpet, Ceramic Tile</td>\n",
              "      <td>NaN</td>\n",
              "    </tr>\n",
              "  </tbody>\n",
              "</table>\n",
              "<p>4908 rows × 15 columns</p>\n",
              "</div>\n",
              "    <div class=\"colab-df-buttons\">\n",
              "\n",
              "  <div class=\"colab-df-container\">\n",
              "    <button class=\"colab-df-convert\" onclick=\"convertToInteractive('df-38ba504f-0be7-4267-86a4-b5c0f09d8cf8')\"\n",
              "            title=\"Convert this dataframe to an interactive table.\"\n",
              "            style=\"display:none;\">\n",
              "\n",
              "  <svg xmlns=\"http://www.w3.org/2000/svg\" height=\"24px\" viewBox=\"0 -960 960 960\">\n",
              "    <path d=\"M120-120v-720h720v720H120Zm60-500h600v-160H180v160Zm220 220h160v-160H400v160Zm0 220h160v-160H400v160ZM180-400h160v-160H180v160Zm440 0h160v-160H620v160ZM180-180h160v-160H180v160Zm440 0h160v-160H620v160Z\"/>\n",
              "  </svg>\n",
              "    </button>\n",
              "\n",
              "  <style>\n",
              "    .colab-df-container {\n",
              "      display:flex;\n",
              "      gap: 12px;\n",
              "    }\n",
              "\n",
              "    .colab-df-convert {\n",
              "      background-color: #E8F0FE;\n",
              "      border: none;\n",
              "      border-radius: 50%;\n",
              "      cursor: pointer;\n",
              "      display: none;\n",
              "      fill: #1967D2;\n",
              "      height: 32px;\n",
              "      padding: 0 0 0 0;\n",
              "      width: 32px;\n",
              "    }\n",
              "\n",
              "    .colab-df-convert:hover {\n",
              "      background-color: #E2EBFA;\n",
              "      box-shadow: 0px 1px 2px rgba(60, 64, 67, 0.3), 0px 1px 3px 1px rgba(60, 64, 67, 0.15);\n",
              "      fill: #174EA6;\n",
              "    }\n",
              "\n",
              "    .colab-df-buttons div {\n",
              "      margin-bottom: 4px;\n",
              "    }\n",
              "\n",
              "    [theme=dark] .colab-df-convert {\n",
              "      background-color: #3B4455;\n",
              "      fill: #D2E3FC;\n",
              "    }\n",
              "\n",
              "    [theme=dark] .colab-df-convert:hover {\n",
              "      background-color: #434B5C;\n",
              "      box-shadow: 0px 1px 3px 1px rgba(0, 0, 0, 0.15);\n",
              "      filter: drop-shadow(0px 1px 2px rgba(0, 0, 0, 0.3));\n",
              "      fill: #FFFFFF;\n",
              "    }\n",
              "  </style>\n",
              "\n",
              "    <script>\n",
              "      const buttonEl =\n",
              "        document.querySelector('#df-38ba504f-0be7-4267-86a4-b5c0f09d8cf8 button.colab-df-convert');\n",
              "      buttonEl.style.display =\n",
              "        google.colab.kernel.accessAllowed ? 'block' : 'none';\n",
              "\n",
              "      async function convertToInteractive(key) {\n",
              "        const element = document.querySelector('#df-38ba504f-0be7-4267-86a4-b5c0f09d8cf8');\n",
              "        const dataTable =\n",
              "          await google.colab.kernel.invokeFunction('convertToInteractive',\n",
              "                                                    [key], {});\n",
              "        if (!dataTable) return;\n",
              "\n",
              "        const docLinkHtml = 'Like what you see? Visit the ' +\n",
              "          '<a target=\"_blank\" href=https://colab.research.google.com/notebooks/data_table.ipynb>data table notebook</a>'\n",
              "          + ' to learn more about interactive tables.';\n",
              "        element.innerHTML = '';\n",
              "        dataTable['output_type'] = 'display_data';\n",
              "        await google.colab.output.renderOutput(dataTable, element);\n",
              "        const docLink = document.createElement('div');\n",
              "        docLink.innerHTML = docLinkHtml;\n",
              "        element.appendChild(docLink);\n",
              "      }\n",
              "    </script>\n",
              "  </div>\n",
              "\n",
              "\n",
              "    <div id=\"df-9edd4685-e416-48ab-b98b-7f58ab3f4321\">\n",
              "      <button class=\"colab-df-quickchart\" onclick=\"quickchart('df-9edd4685-e416-48ab-b98b-7f58ab3f4321')\"\n",
              "                title=\"Suggest charts\"\n",
              "                style=\"display:none;\">\n",
              "\n",
              "<svg xmlns=\"http://www.w3.org/2000/svg\" height=\"24px\"viewBox=\"0 0 24 24\"\n",
              "     width=\"24px\">\n",
              "    <g>\n",
              "        <path d=\"M19 3H5c-1.1 0-2 .9-2 2v14c0 1.1.9 2 2 2h14c1.1 0 2-.9 2-2V5c0-1.1-.9-2-2-2zM9 17H7v-7h2v7zm4 0h-2V7h2v10zm4 0h-2v-4h2v4z\"/>\n",
              "    </g>\n",
              "</svg>\n",
              "      </button>\n",
              "\n",
              "<style>\n",
              "  .colab-df-quickchart {\n",
              "      --bg-color: #E8F0FE;\n",
              "      --fill-color: #1967D2;\n",
              "      --hover-bg-color: #E2EBFA;\n",
              "      --hover-fill-color: #174EA6;\n",
              "      --disabled-fill-color: #AAA;\n",
              "      --disabled-bg-color: #DDD;\n",
              "  }\n",
              "\n",
              "  [theme=dark] .colab-df-quickchart {\n",
              "      --bg-color: #3B4455;\n",
              "      --fill-color: #D2E3FC;\n",
              "      --hover-bg-color: #434B5C;\n",
              "      --hover-fill-color: #FFFFFF;\n",
              "      --disabled-bg-color: #3B4455;\n",
              "      --disabled-fill-color: #666;\n",
              "  }\n",
              "\n",
              "  .colab-df-quickchart {\n",
              "    background-color: var(--bg-color);\n",
              "    border: none;\n",
              "    border-radius: 50%;\n",
              "    cursor: pointer;\n",
              "    display: none;\n",
              "    fill: var(--fill-color);\n",
              "    height: 32px;\n",
              "    padding: 0;\n",
              "    width: 32px;\n",
              "  }\n",
              "\n",
              "  .colab-df-quickchart:hover {\n",
              "    background-color: var(--hover-bg-color);\n",
              "    box-shadow: 0 1px 2px rgba(60, 64, 67, 0.3), 0 1px 3px 1px rgba(60, 64, 67, 0.15);\n",
              "    fill: var(--button-hover-fill-color);\n",
              "  }\n",
              "\n",
              "  .colab-df-quickchart-complete:disabled,\n",
              "  .colab-df-quickchart-complete:disabled:hover {\n",
              "    background-color: var(--disabled-bg-color);\n",
              "    fill: var(--disabled-fill-color);\n",
              "    box-shadow: none;\n",
              "  }\n",
              "\n",
              "  .colab-df-spinner {\n",
              "    border: 2px solid var(--fill-color);\n",
              "    border-color: transparent;\n",
              "    border-bottom-color: var(--fill-color);\n",
              "    animation:\n",
              "      spin 1s steps(1) infinite;\n",
              "  }\n",
              "\n",
              "  @keyframes spin {\n",
              "    0% {\n",
              "      border-color: transparent;\n",
              "      border-bottom-color: var(--fill-color);\n",
              "      border-left-color: var(--fill-color);\n",
              "    }\n",
              "    20% {\n",
              "      border-color: transparent;\n",
              "      border-left-color: var(--fill-color);\n",
              "      border-top-color: var(--fill-color);\n",
              "    }\n",
              "    30% {\n",
              "      border-color: transparent;\n",
              "      border-left-color: var(--fill-color);\n",
              "      border-top-color: var(--fill-color);\n",
              "      border-right-color: var(--fill-color);\n",
              "    }\n",
              "    40% {\n",
              "      border-color: transparent;\n",
              "      border-right-color: var(--fill-color);\n",
              "      border-top-color: var(--fill-color);\n",
              "    }\n",
              "    60% {\n",
              "      border-color: transparent;\n",
              "      border-right-color: var(--fill-color);\n",
              "    }\n",
              "    80% {\n",
              "      border-color: transparent;\n",
              "      border-right-color: var(--fill-color);\n",
              "      border-bottom-color: var(--fill-color);\n",
              "    }\n",
              "    90% {\n",
              "      border-color: transparent;\n",
              "      border-bottom-color: var(--fill-color);\n",
              "    }\n",
              "  }\n",
              "</style>\n",
              "\n",
              "      <script>\n",
              "        async function quickchart(key) {\n",
              "          const quickchartButtonEl =\n",
              "            document.querySelector('#' + key + ' button');\n",
              "          quickchartButtonEl.disabled = true;  // To prevent multiple clicks.\n",
              "          quickchartButtonEl.classList.add('colab-df-spinner');\n",
              "          try {\n",
              "            const charts = await google.colab.kernel.invokeFunction(\n",
              "                'suggestCharts', [key], {});\n",
              "          } catch (error) {\n",
              "            console.error('Error during call to suggestCharts:', error);\n",
              "          }\n",
              "          quickchartButtonEl.classList.remove('colab-df-spinner');\n",
              "          quickchartButtonEl.classList.add('colab-df-quickchart-complete');\n",
              "        }\n",
              "        (() => {\n",
              "          let quickchartButtonEl =\n",
              "            document.querySelector('#df-9edd4685-e416-48ab-b98b-7f58ab3f4321 button');\n",
              "          quickchartButtonEl.style.display =\n",
              "            google.colab.kernel.accessAllowed ? 'block' : 'none';\n",
              "        })();\n",
              "      </script>\n",
              "    </div>\n",
              "\n",
              "  <div id=\"id_94dfae84-9510-405d-b626-5089ca60667f\">\n",
              "    <style>\n",
              "      .colab-df-generate {\n",
              "        background-color: #E8F0FE;\n",
              "        border: none;\n",
              "        border-radius: 50%;\n",
              "        cursor: pointer;\n",
              "        display: none;\n",
              "        fill: #1967D2;\n",
              "        height: 32px;\n",
              "        padding: 0 0 0 0;\n",
              "        width: 32px;\n",
              "      }\n",
              "\n",
              "      .colab-df-generate:hover {\n",
              "        background-color: #E2EBFA;\n",
              "        box-shadow: 0px 1px 2px rgba(60, 64, 67, 0.3), 0px 1px 3px 1px rgba(60, 64, 67, 0.15);\n",
              "        fill: #174EA6;\n",
              "      }\n",
              "\n",
              "      [theme=dark] .colab-df-generate {\n",
              "        background-color: #3B4455;\n",
              "        fill: #D2E3FC;\n",
              "      }\n",
              "\n",
              "      [theme=dark] .colab-df-generate:hover {\n",
              "        background-color: #434B5C;\n",
              "        box-shadow: 0px 1px 3px 1px rgba(0, 0, 0, 0.15);\n",
              "        filter: drop-shadow(0px 1px 2px rgba(0, 0, 0, 0.3));\n",
              "        fill: #FFFFFF;\n",
              "      }\n",
              "    </style>\n",
              "    <button class=\"colab-df-generate\" onclick=\"generateWithVariable('Data_cleaned')\"\n",
              "            title=\"Generate code using this dataframe.\"\n",
              "            style=\"display:none;\">\n",
              "\n",
              "  <svg xmlns=\"http://www.w3.org/2000/svg\" height=\"24px\"viewBox=\"0 0 24 24\"\n",
              "       width=\"24px\">\n",
              "    <path d=\"M7,19H8.4L18.45,9,17,7.55,7,17.6ZM5,21V16.75L18.45,3.32a2,2,0,0,1,2.83,0l1.4,1.43a1.91,1.91,0,0,1,.58,1.4,1.91,1.91,0,0,1-.58,1.4L9.25,21ZM18.45,9,17,7.55Zm-12,3A5.31,5.31,0,0,0,4.9,8.1,5.31,5.31,0,0,0,1,6.5,5.31,5.31,0,0,0,4.9,4.9,5.31,5.31,0,0,0,6.5,1,5.31,5.31,0,0,0,8.1,4.9,5.31,5.31,0,0,0,12,6.5,5.46,5.46,0,0,0,6.5,12Z\"/>\n",
              "  </svg>\n",
              "    </button>\n",
              "    <script>\n",
              "      (() => {\n",
              "      const buttonEl =\n",
              "        document.querySelector('#id_94dfae84-9510-405d-b626-5089ca60667f button.colab-df-generate');\n",
              "      buttonEl.style.display =\n",
              "        google.colab.kernel.accessAllowed ? 'block' : 'none';\n",
              "\n",
              "      buttonEl.onclick = () => {\n",
              "        google.colab.notebook.generateWithVariable('Data_cleaned');\n",
              "      }\n",
              "      })();\n",
              "    </script>\n",
              "  </div>\n",
              "\n",
              "    </div>\n",
              "  </div>\n"
            ],
            "application/vnd.google.colaboratory.intrinsic+json": {
              "type": "dataframe",
              "variable_name": "Data_cleaned",
              "summary": "{\n  \"name\": \"Data_cleaned\",\n  \"rows\": 4908,\n  \"fields\": [\n    {\n      \"column\": \"sold_price\",\n      \"properties\": {\n        \"dtype\": \"number\",\n        \"std\": 316586.8827701102,\n        \"min\": 300000.0,\n        \"max\": 5300000.0,\n        \"num_unique_values\": 1084,\n        \"samples\": [\n          656500.0,\n          1937000.0,\n          800000.0\n        ],\n        \"semantic_type\": \"\",\n        \"description\": \"\"\n      }\n    },\n    {\n      \"column\": \"zipcode\",\n      \"properties\": {\n        \"dtype\": \"number\",\n        \"std\": 36,\n        \"min\": 85118,\n        \"max\": 86323,\n        \"num_unique_values\": 55,\n        \"samples\": [\n          85602,\n          85640,\n          85621\n        ],\n        \"semantic_type\": \"\",\n        \"description\": \"\"\n      }\n    },\n    {\n      \"column\": \"longitude\",\n      \"properties\": {\n        \"dtype\": \"number\",\n        \"std\": 0.12054063422259342,\n        \"min\": -112.520168,\n        \"max\": -109.454637,\n        \"num_unique_values\": 4688,\n        \"samples\": [\n          -110.982209,\n          -110.921255,\n          -110.988618\n        ],\n        \"semantic_type\": \"\",\n        \"description\": \"\"\n      }\n    },\n    {\n      \"column\": \"latitude\",\n      \"properties\": {\n        \"dtype\": \"number\",\n        \"std\": 0.1669631008820867,\n        \"min\": 31.356362,\n        \"max\": 34.927884,\n        \"num_unique_values\": 4741,\n        \"samples\": [\n          32.468527,\n          32.290675,\n          32.283338\n        ],\n        \"semantic_type\": \"\",\n        \"description\": \"\"\n      }\n    },\n    {\n      \"column\": \"lot_acres\",\n      \"properties\": {\n        \"dtype\": \"number\",\n        \"std\": 45.966452536348946,\n        \"min\": 0.0,\n        \"max\": 2154.0,\n        \"num_unique_values\": 633,\n        \"samples\": [\n          0.42,\n          1.84,\n          4.56\n        ],\n        \"semantic_type\": \"\",\n        \"description\": \"\"\n      }\n    },\n    {\n      \"column\": \"taxes\",\n      \"properties\": {\n        \"dtype\": \"number\",\n        \"std\": 174550.71586735177,\n        \"min\": 0.0,\n        \"max\": 12215075.0,\n        \"num_unique_values\": 4660,\n        \"samples\": [\n          10434.67,\n          6573.53,\n          5703.91\n        ],\n        \"semantic_type\": \"\",\n        \"description\": \"\"\n      }\n    },\n    {\n      \"column\": \"year_built\",\n      \"properties\": {\n        \"dtype\": \"number\",\n        \"std\": 66,\n        \"min\": 0,\n        \"max\": 2019,\n        \"num_unique_values\": 112,\n        \"samples\": [\n          1989,\n          1973,\n          1999\n        ],\n        \"semantic_type\": \"\",\n        \"description\": \"\"\n      }\n    },\n    {\n      \"column\": \"bedrooms\",\n      \"properties\": {\n        \"dtype\": \"number\",\n        \"std\": 1,\n        \"min\": 1,\n        \"max\": 36,\n        \"num_unique_values\": 14,\n        \"samples\": [\n          19,\n          10,\n          13\n        ],\n        \"semantic_type\": \"\",\n        \"description\": \"\"\n      }\n    },\n    {\n      \"column\": \"bathrooms\",\n      \"properties\": {\n        \"dtype\": \"number\",\n        \"std\": 1.3106717932976262,\n        \"min\": 1.0,\n        \"max\": 36.0,\n        \"num_unique_values\": 18,\n        \"samples\": [\n          10.0,\n          2.0,\n          15.0\n        ],\n        \"semantic_type\": \"\",\n        \"description\": \"\"\n      }\n    },\n    {\n      \"column\": \"sqrt_ft\",\n      \"properties\": {\n        \"dtype\": \"number\",\n        \"std\": 1106.8313996167242,\n        \"min\": 1100.0,\n        \"max\": 22408.0,\n        \"num_unique_values\": 2345,\n        \"samples\": [\n          3279.0,\n          3524.0,\n          2663.0\n        ],\n        \"semantic_type\": \"\",\n        \"description\": \"\"\n      }\n    },\n    {\n      \"column\": \"garage\",\n      \"properties\": {\n        \"dtype\": \"number\",\n        \"std\": 1.1973718540782459,\n        \"min\": 0.0,\n        \"max\": 30.0,\n        \"num_unique_values\": 21,\n        \"samples\": [\n          0.0,\n          10.0,\n          30.0\n        ],\n        \"semantic_type\": \"\",\n        \"description\": \"\"\n      }\n    },\n    {\n      \"column\": \"kitchen_features\",\n      \"properties\": {\n        \"dtype\": \"category\",\n        \"num_unique_values\": 1813,\n        \"samples\": [\n          \"Compactor, Dishwasher, Double Sink, Garbage Disposal, Gas Range, Island, Pantry: Walk-In, Refrigerator, Reverse Osmosis, Water Purifier, Appliance Color: Stainless, Countertops: Granite, Oven: Electric\",\n          \"Desk, Dishwasher, Double Sink, Electric Range, Garbage Disposal, Island, Pantry: Cabinet, Prep Sink, Refrigerator, Warming Drawer, Appliance Color: Stainless, Countertops: granite, Microwave: SS, Oven: SS\",\n          \"Compactor, Desk, Dishwasher, Double Sink, Garbage Disposal, Gas Range, Lazy Susan, Pantry: Closet, Appliance Color: Black, Countertops: Sllestone, Microwave: blt in black, Oven: blt black\"\n        ],\n        \"semantic_type\": \"\",\n        \"description\": \"\"\n      }\n    },\n    {\n      \"column\": \"fireplaces\",\n      \"properties\": {\n        \"dtype\": \"category\",\n        \"num_unique_values\": 10,\n        \"samples\": [\n          \"9\",\n          \"5\",\n          \"3\"\n        ],\n        \"semantic_type\": \"\",\n        \"description\": \"\"\n      }\n    },\n    {\n      \"column\": \"floor_covering\",\n      \"properties\": {\n        \"dtype\": \"category\",\n        \"num_unique_values\": 295,\n        \"samples\": [\n          \"Ceramic Tile, Other: Engineered Wood\",\n          \"Concrete, Other: porclain tile\",\n          \"Carpet, Other: Travertine\"\n        ],\n        \"semantic_type\": \"\",\n        \"description\": \"\"\n      }\n    },\n    {\n      \"column\": \"HOA\",\n      \"properties\": {\n        \"dtype\": \"category\",\n        \"num_unique_values\": 371,\n        \"samples\": [\n          \"60.5\",\n          \"69\",\n          \"1,717\"\n        ],\n        \"semantic_type\": \"\",\n        \"description\": \"\"\n      }\n    }\n  ]\n}"
            }
          },
          "metadata": {},
          "execution_count": 524
        }
      ],
      "source": [
        "Data_cleaned = Data.dropna(subset = ['lot_acres',\n",
        "                                     'sqrt_ft',\n",
        "                                     'garage',\n",
        "                                     'kitchen_features',\n",
        "                                     'floor_covering'])\n",
        "Data_cleaned"
      ]
    },
    {
      "cell_type": "code",
      "execution_count": null,
      "metadata": {
        "colab": {
          "base_uri": "https://localhost:8080/",
          "height": 762
        },
        "id": "dG6OCP_WMX_A",
        "outputId": "4667d10d-d462-4b58-c952-deebe3c914c7"
      },
      "outputs": [
        {
          "output_type": "stream",
          "name": "stderr",
          "text": [
            "/tmp/ipython-input-525-3063404381.py:1: SettingWithCopyWarning: \n",
            "A value is trying to be set on a copy of a slice from a DataFrame.\n",
            "Try using .loc[row_indexer,col_indexer] = value instead\n",
            "\n",
            "See the caveats in the documentation: https://pandas.pydata.org/pandas-docs/stable/user_guide/indexing.html#returning-a-view-versus-a-copy\n",
            "  Data_cleaned['fireplaces'] = pd.to_numeric(Data_cleaned['fireplaces'], errors='coerce')\n",
            "/tmp/ipython-input-525-3063404381.py:2: SettingWithCopyWarning: \n",
            "A value is trying to be set on a copy of a slice from a DataFrame.\n",
            "Try using .loc[row_indexer,col_indexer] = value instead\n",
            "\n",
            "See the caveats in the documentation: https://pandas.pydata.org/pandas-docs/stable/user_guide/indexing.html#returning-a-view-versus-a-copy\n",
            "  Data_cleaned['HOA'] = pd.to_numeric(Data_cleaned['HOA'], errors='coerce')\n"
          ]
        },
        {
          "output_type": "execute_result",
          "data": {
            "text/plain": [
              "sold_price          float64\n",
              "zipcode               int64\n",
              "longitude           float64\n",
              "latitude            float64\n",
              "lot_acres           float64\n",
              "taxes               float64\n",
              "year_built            int64\n",
              "bedrooms              int64\n",
              "bathrooms           float64\n",
              "sqrt_ft             float64\n",
              "garage              float64\n",
              "kitchen_features     object\n",
              "fireplaces           object\n",
              "floor_covering       object\n",
              "HOA                  object\n",
              "dtype: object"
            ],
            "text/html": [
              "<div>\n",
              "<style scoped>\n",
              "    .dataframe tbody tr th:only-of-type {\n",
              "        vertical-align: middle;\n",
              "    }\n",
              "\n",
              "    .dataframe tbody tr th {\n",
              "        vertical-align: top;\n",
              "    }\n",
              "\n",
              "    .dataframe thead th {\n",
              "        text-align: right;\n",
              "    }\n",
              "</style>\n",
              "<table border=\"1\" class=\"dataframe\">\n",
              "  <thead>\n",
              "    <tr style=\"text-align: right;\">\n",
              "      <th></th>\n",
              "      <th>0</th>\n",
              "    </tr>\n",
              "  </thead>\n",
              "  <tbody>\n",
              "    <tr>\n",
              "      <th>sold_price</th>\n",
              "      <td>float64</td>\n",
              "    </tr>\n",
              "    <tr>\n",
              "      <th>zipcode</th>\n",
              "      <td>int64</td>\n",
              "    </tr>\n",
              "    <tr>\n",
              "      <th>longitude</th>\n",
              "      <td>float64</td>\n",
              "    </tr>\n",
              "    <tr>\n",
              "      <th>latitude</th>\n",
              "      <td>float64</td>\n",
              "    </tr>\n",
              "    <tr>\n",
              "      <th>lot_acres</th>\n",
              "      <td>float64</td>\n",
              "    </tr>\n",
              "    <tr>\n",
              "      <th>taxes</th>\n",
              "      <td>float64</td>\n",
              "    </tr>\n",
              "    <tr>\n",
              "      <th>year_built</th>\n",
              "      <td>int64</td>\n",
              "    </tr>\n",
              "    <tr>\n",
              "      <th>bedrooms</th>\n",
              "      <td>int64</td>\n",
              "    </tr>\n",
              "    <tr>\n",
              "      <th>bathrooms</th>\n",
              "      <td>float64</td>\n",
              "    </tr>\n",
              "    <tr>\n",
              "      <th>sqrt_ft</th>\n",
              "      <td>float64</td>\n",
              "    </tr>\n",
              "    <tr>\n",
              "      <th>garage</th>\n",
              "      <td>float64</td>\n",
              "    </tr>\n",
              "    <tr>\n",
              "      <th>kitchen_features</th>\n",
              "      <td>object</td>\n",
              "    </tr>\n",
              "    <tr>\n",
              "      <th>fireplaces</th>\n",
              "      <td>object</td>\n",
              "    </tr>\n",
              "    <tr>\n",
              "      <th>floor_covering</th>\n",
              "      <td>object</td>\n",
              "    </tr>\n",
              "    <tr>\n",
              "      <th>HOA</th>\n",
              "      <td>object</td>\n",
              "    </tr>\n",
              "  </tbody>\n",
              "</table>\n",
              "</div><br><label><b>dtype:</b> object</label>"
            ]
          },
          "metadata": {},
          "execution_count": 525
        }
      ],
      "source": [
        "Data_cleaned['fireplaces'] = pd.to_numeric(Data_cleaned['fireplaces'], errors='coerce')\n",
        "Data_cleaned['HOA'] = pd.to_numeric(Data_cleaned['HOA'], errors='coerce')\n",
        "#Data['kitchen_features'] = pd.to_numeric(Data['kitchen_features'], errors='coerce')\n",
        "#Data['floor_covering'] = pd.to_numeric(Data['floor_covering'], errors='coerce')\n",
        "Data.dtypes"
      ]
    },
    {
      "cell_type": "code",
      "execution_count": null,
      "metadata": {
        "colab": {
          "base_uri": "https://localhost:8080/"
        },
        "id": "h0yGe8nC0gOT",
        "outputId": "7197c996-955e-41c2-ca0f-d96434d3e9d8"
      },
      "outputs": [
        {
          "output_type": "stream",
          "name": "stderr",
          "text": [
            "/tmp/ipython-input-526-2447480376.py:3: SettingWithCopyWarning: \n",
            "A value is trying to be set on a copy of a slice from a DataFrame.\n",
            "Try using .loc[row_indexer,col_indexer] = value instead\n",
            "\n",
            "See the caveats in the documentation: https://pandas.pydata.org/pandas-docs/stable/user_guide/indexing.html#returning-a-view-versus-a-copy\n",
            "  Data_cleaned['HOA'] = Data_cleaned['HOA'].fillna(mean_HOA)\n"
          ]
        }
      ],
      "source": [
        "mean_HOA = Data_cleaned['HOA'].mean()\n",
        "mean_HOA\n",
        "Data_cleaned['HOA'] = Data_cleaned['HOA'].fillna(mean_HOA)"
      ]
    },
    {
      "cell_type": "code",
      "execution_count": null,
      "metadata": {
        "colab": {
          "base_uri": "https://localhost:8080/",
          "height": 458
        },
        "id": "_b9h1oPF1DLx",
        "outputId": "c86dcb56-4747-40a1-91ec-01619b60fdb0"
      },
      "outputs": [
        {
          "output_type": "execute_result",
          "data": {
            "text/plain": [
              "0         0.00000\n",
              "1         0.00000\n",
              "3        82.62059\n",
              "4        55.00000\n",
              "5       422.00000\n",
              "          ...    \n",
              "4994    198.00000\n",
              "4995     82.62059\n",
              "4996     43.00000\n",
              "4997     82.62059\n",
              "4998     82.62059\n",
              "Name: HOA, Length: 4908, dtype: float64"
            ],
            "text/html": [
              "<div>\n",
              "<style scoped>\n",
              "    .dataframe tbody tr th:only-of-type {\n",
              "        vertical-align: middle;\n",
              "    }\n",
              "\n",
              "    .dataframe tbody tr th {\n",
              "        vertical-align: top;\n",
              "    }\n",
              "\n",
              "    .dataframe thead th {\n",
              "        text-align: right;\n",
              "    }\n",
              "</style>\n",
              "<table border=\"1\" class=\"dataframe\">\n",
              "  <thead>\n",
              "    <tr style=\"text-align: right;\">\n",
              "      <th></th>\n",
              "      <th>HOA</th>\n",
              "    </tr>\n",
              "  </thead>\n",
              "  <tbody>\n",
              "    <tr>\n",
              "      <th>0</th>\n",
              "      <td>0.00000</td>\n",
              "    </tr>\n",
              "    <tr>\n",
              "      <th>1</th>\n",
              "      <td>0.00000</td>\n",
              "    </tr>\n",
              "    <tr>\n",
              "      <th>3</th>\n",
              "      <td>82.62059</td>\n",
              "    </tr>\n",
              "    <tr>\n",
              "      <th>4</th>\n",
              "      <td>55.00000</td>\n",
              "    </tr>\n",
              "    <tr>\n",
              "      <th>5</th>\n",
              "      <td>422.00000</td>\n",
              "    </tr>\n",
              "    <tr>\n",
              "      <th>...</th>\n",
              "      <td>...</td>\n",
              "    </tr>\n",
              "    <tr>\n",
              "      <th>4994</th>\n",
              "      <td>198.00000</td>\n",
              "    </tr>\n",
              "    <tr>\n",
              "      <th>4995</th>\n",
              "      <td>82.62059</td>\n",
              "    </tr>\n",
              "    <tr>\n",
              "      <th>4996</th>\n",
              "      <td>43.00000</td>\n",
              "    </tr>\n",
              "    <tr>\n",
              "      <th>4997</th>\n",
              "      <td>82.62059</td>\n",
              "    </tr>\n",
              "    <tr>\n",
              "      <th>4998</th>\n",
              "      <td>82.62059</td>\n",
              "    </tr>\n",
              "  </tbody>\n",
              "</table>\n",
              "<p>4908 rows × 1 columns</p>\n",
              "</div><br><label><b>dtype:</b> float64</label>"
            ]
          },
          "metadata": {},
          "execution_count": 527
        }
      ],
      "source": [
        "Data_cleaned['HOA']"
      ]
    },
    {
      "cell_type": "code",
      "execution_count": null,
      "metadata": {
        "id": "uWgjEjiNDaIb"
      },
      "outputs": [],
      "source": [
        "pps = Data_cleaned['sold_price']/Data_cleaned['sqrt_ft']"
      ]
    },
    {
      "cell_type": "code",
      "execution_count": null,
      "metadata": {
        "colab": {
          "base_uri": "https://localhost:8080/"
        },
        "id": "xuKZMSfUCf7u",
        "outputId": "f26b24e8-ad81-4b00-d00e-d757882006c1"
      },
      "outputs": [
        {
          "output_type": "stream",
          "name": "stderr",
          "text": [
            "/tmp/ipython-input-529-2025178975.py:1: SettingWithCopyWarning: \n",
            "A value is trying to be set on a copy of a slice from a DataFrame.\n",
            "Try using .loc[row_indexer,col_indexer] = value instead\n",
            "\n",
            "See the caveats in the documentation: https://pandas.pydata.org/pandas-docs/stable/user_guide/indexing.html#returning-a-view-versus-a-copy\n",
            "  Data_cleaned['pps'] = pps\n"
          ]
        }
      ],
      "source": [
        "Data_cleaned['pps'] = pps"
      ]
    },
    {
      "cell_type": "code",
      "execution_count": null,
      "metadata": {
        "colab": {
          "base_uri": "https://localhost:8080/",
          "height": 335
        },
        "id": "wSuBc45_Cf4M",
        "outputId": "a9d153c9-a7c7-46bb-8757-a53be9e0036f"
      },
      "outputs": [
        {
          "output_type": "execute_result",
          "data": {
            "text/plain": [
              "count    4908.000000\n",
              "mean      212.862452\n",
              "std        66.661496\n",
              "min        24.544805\n",
              "25%       175.912964\n",
              "50%       202.822657\n",
              "75%       234.292724\n",
              "max      1208.333333\n",
              "Name: pps, dtype: float64"
            ],
            "text/html": [
              "<div>\n",
              "<style scoped>\n",
              "    .dataframe tbody tr th:only-of-type {\n",
              "        vertical-align: middle;\n",
              "    }\n",
              "\n",
              "    .dataframe tbody tr th {\n",
              "        vertical-align: top;\n",
              "    }\n",
              "\n",
              "    .dataframe thead th {\n",
              "        text-align: right;\n",
              "    }\n",
              "</style>\n",
              "<table border=\"1\" class=\"dataframe\">\n",
              "  <thead>\n",
              "    <tr style=\"text-align: right;\">\n",
              "      <th></th>\n",
              "      <th>pps</th>\n",
              "    </tr>\n",
              "  </thead>\n",
              "  <tbody>\n",
              "    <tr>\n",
              "      <th>count</th>\n",
              "      <td>4908.000000</td>\n",
              "    </tr>\n",
              "    <tr>\n",
              "      <th>mean</th>\n",
              "      <td>212.862452</td>\n",
              "    </tr>\n",
              "    <tr>\n",
              "      <th>std</th>\n",
              "      <td>66.661496</td>\n",
              "    </tr>\n",
              "    <tr>\n",
              "      <th>min</th>\n",
              "      <td>24.544805</td>\n",
              "    </tr>\n",
              "    <tr>\n",
              "      <th>25%</th>\n",
              "      <td>175.912964</td>\n",
              "    </tr>\n",
              "    <tr>\n",
              "      <th>50%</th>\n",
              "      <td>202.822657</td>\n",
              "    </tr>\n",
              "    <tr>\n",
              "      <th>75%</th>\n",
              "      <td>234.292724</td>\n",
              "    </tr>\n",
              "    <tr>\n",
              "      <th>max</th>\n",
              "      <td>1208.333333</td>\n",
              "    </tr>\n",
              "  </tbody>\n",
              "</table>\n",
              "</div><br><label><b>dtype:</b> float64</label>"
            ]
          },
          "metadata": {},
          "execution_count": 530
        }
      ],
      "source": [
        "Data_cleaned['pps'].describe()"
      ]
    },
    {
      "cell_type": "code",
      "execution_count": null,
      "metadata": {
        "id": "pbPDhrdtCf2N"
      },
      "outputs": [],
      "source": [
        "Data_cleaned =  Data_cleaned[(Data_cleaned['pps']>=50)&(Data_cleaned['pps']<=800)]"
      ]
    },
    {
      "cell_type": "code",
      "execution_count": null,
      "metadata": {
        "colab": {
          "base_uri": "https://localhost:8080/"
        },
        "id": "2we-kR1iCf0P",
        "outputId": "9cbe2090-5ea8-43a5-f94d-9b84f496c403"
      },
      "outputs": [
        {
          "output_type": "execute_result",
          "data": {
            "text/plain": [
              "(4898, 16)"
            ]
          },
          "metadata": {},
          "execution_count": 532
        }
      ],
      "source": [
        "Data_cleaned.shape"
      ]
    },
    {
      "cell_type": "code",
      "execution_count": null,
      "metadata": {
        "colab": {
          "base_uri": "https://localhost:8080/",
          "height": 335
        },
        "id": "UAmkbt1bEpvS",
        "outputId": "164f7fc4-eba8-412b-fb21-a20a7243ebce"
      },
      "outputs": [
        {
          "output_type": "execute_result",
          "data": {
            "text/plain": [
              "count    4898.000000\n",
              "mean      211.794764\n",
              "std        60.118263\n",
              "min        56.652457\n",
              "25%       175.907788\n",
              "50%       202.727189\n",
              "75%       234.104227\n",
              "max       787.834372\n",
              "Name: pps, dtype: float64"
            ],
            "text/html": [
              "<div>\n",
              "<style scoped>\n",
              "    .dataframe tbody tr th:only-of-type {\n",
              "        vertical-align: middle;\n",
              "    }\n",
              "\n",
              "    .dataframe tbody tr th {\n",
              "        vertical-align: top;\n",
              "    }\n",
              "\n",
              "    .dataframe thead th {\n",
              "        text-align: right;\n",
              "    }\n",
              "</style>\n",
              "<table border=\"1\" class=\"dataframe\">\n",
              "  <thead>\n",
              "    <tr style=\"text-align: right;\">\n",
              "      <th></th>\n",
              "      <th>pps</th>\n",
              "    </tr>\n",
              "  </thead>\n",
              "  <tbody>\n",
              "    <tr>\n",
              "      <th>count</th>\n",
              "      <td>4898.000000</td>\n",
              "    </tr>\n",
              "    <tr>\n",
              "      <th>mean</th>\n",
              "      <td>211.794764</td>\n",
              "    </tr>\n",
              "    <tr>\n",
              "      <th>std</th>\n",
              "      <td>60.118263</td>\n",
              "    </tr>\n",
              "    <tr>\n",
              "      <th>min</th>\n",
              "      <td>56.652457</td>\n",
              "    </tr>\n",
              "    <tr>\n",
              "      <th>25%</th>\n",
              "      <td>175.907788</td>\n",
              "    </tr>\n",
              "    <tr>\n",
              "      <th>50%</th>\n",
              "      <td>202.727189</td>\n",
              "    </tr>\n",
              "    <tr>\n",
              "      <th>75%</th>\n",
              "      <td>234.104227</td>\n",
              "    </tr>\n",
              "    <tr>\n",
              "      <th>max</th>\n",
              "      <td>787.834372</td>\n",
              "    </tr>\n",
              "  </tbody>\n",
              "</table>\n",
              "</div><br><label><b>dtype:</b> float64</label>"
            ]
          },
          "metadata": {},
          "execution_count": 533
        }
      ],
      "source": [
        "Data_cleaned['pps'].describe()"
      ]
    },
    {
      "cell_type": "code",
      "execution_count": null,
      "metadata": {
        "id": "stevNMAhIZiB"
      },
      "outputs": [],
      "source": [
        "i = 50\n",
        "bin_range = []\n",
        "while i<(Data_cleaned['pps'].max()):\n",
        "  bin_range.append(i)\n",
        "  i = i+50"
      ]
    },
    {
      "cell_type": "code",
      "execution_count": null,
      "metadata": {
        "colab": {
          "base_uri": "https://localhost:8080/"
        },
        "id": "SvFctNVHIZgI",
        "outputId": "82792d45-3bf2-4a8f-b704-5c1c08c6f118"
      },
      "outputs": [
        {
          "output_type": "execute_result",
          "data": {
            "text/plain": [
              "[50, 100, 150, 200, 250, 300, 350, 400, 450, 500, 550, 600, 650, 700, 750]"
            ]
          },
          "metadata": {},
          "execution_count": 535
        }
      ],
      "source": [
        "bin_range"
      ]
    },
    {
      "cell_type": "code",
      "execution_count": null,
      "metadata": {
        "colab": {
          "base_uri": "https://localhost:8080/"
        },
        "id": "Z18RdyApIZeL",
        "outputId": "f6d2b41b-0cce-47cd-a3fe-e4fd85dbe1ff"
      },
      "outputs": [
        {
          "output_type": "stream",
          "name": "stderr",
          "text": [
            "/tmp/ipython-input-536-4124307219.py:1: SettingWithCopyWarning: \n",
            "A value is trying to be set on a copy of a slice from a DataFrame.\n",
            "Try using .loc[row_indexer,col_indexer] = value instead\n",
            "\n",
            "See the caveats in the documentation: https://pandas.pydata.org/pandas-docs/stable/user_guide/indexing.html#returning-a-view-versus-a-copy\n",
            "  Data_cleaned['bin_label'] = pd.cut(Data_cleaned['pps'],bin_range, labels = False)\n"
          ]
        }
      ],
      "source": [
        "Data_cleaned['bin_label'] = pd.cut(Data_cleaned['pps'],bin_range, labels = False)"
      ]
    },
    {
      "cell_type": "code",
      "execution_count": null,
      "metadata": {
        "colab": {
          "base_uri": "https://localhost:8080/"
        },
        "id": "AuJapjOoJQ8O",
        "outputId": "5e45be4f-b41b-454e-98de-11c05cbc44ba"
      },
      "outputs": [
        {
          "output_type": "stream",
          "name": "stderr",
          "text": [
            "/tmp/ipython-input-537-925056761.py:1: SettingWithCopyWarning: \n",
            "A value is trying to be set on a copy of a slice from a DataFrame.\n",
            "Try using .loc[row_indexer,col_indexer] = value instead\n",
            "\n",
            "See the caveats in the documentation: https://pandas.pydata.org/pandas-docs/stable/user_guide/indexing.html#returning-a-view-versus-a-copy\n",
            "  Data_cleaned['bin_label'] = Data_cleaned['bin_label']+1\n"
          ]
        }
      ],
      "source": [
        "Data_cleaned['bin_label'] = Data_cleaned['bin_label']+1"
      ]
    },
    {
      "cell_type": "code",
      "execution_count": null,
      "metadata": {
        "colab": {
          "base_uri": "https://localhost:8080/",
          "height": 335
        },
        "id": "MqYLd1GcIZcC",
        "outputId": "d8839083-aa29-4dc2-b94b-07802a2e6c20"
      },
      "outputs": [
        {
          "output_type": "execute_result",
          "data": {
            "text/plain": [
              "count    4897.000000\n",
              "mean        3.739637\n",
              "std         1.223663\n",
              "min         1.000000\n",
              "25%         3.000000\n",
              "50%         4.000000\n",
              "75%         4.000000\n",
              "max        14.000000\n",
              "Name: bin_label, dtype: float64"
            ],
            "text/html": [
              "<div>\n",
              "<style scoped>\n",
              "    .dataframe tbody tr th:only-of-type {\n",
              "        vertical-align: middle;\n",
              "    }\n",
              "\n",
              "    .dataframe tbody tr th {\n",
              "        vertical-align: top;\n",
              "    }\n",
              "\n",
              "    .dataframe thead th {\n",
              "        text-align: right;\n",
              "    }\n",
              "</style>\n",
              "<table border=\"1\" class=\"dataframe\">\n",
              "  <thead>\n",
              "    <tr style=\"text-align: right;\">\n",
              "      <th></th>\n",
              "      <th>bin_label</th>\n",
              "    </tr>\n",
              "  </thead>\n",
              "  <tbody>\n",
              "    <tr>\n",
              "      <th>count</th>\n",
              "      <td>4897.000000</td>\n",
              "    </tr>\n",
              "    <tr>\n",
              "      <th>mean</th>\n",
              "      <td>3.739637</td>\n",
              "    </tr>\n",
              "    <tr>\n",
              "      <th>std</th>\n",
              "      <td>1.223663</td>\n",
              "    </tr>\n",
              "    <tr>\n",
              "      <th>min</th>\n",
              "      <td>1.000000</td>\n",
              "    </tr>\n",
              "    <tr>\n",
              "      <th>25%</th>\n",
              "      <td>3.000000</td>\n",
              "    </tr>\n",
              "    <tr>\n",
              "      <th>50%</th>\n",
              "      <td>4.000000</td>\n",
              "    </tr>\n",
              "    <tr>\n",
              "      <th>75%</th>\n",
              "      <td>4.000000</td>\n",
              "    </tr>\n",
              "    <tr>\n",
              "      <th>max</th>\n",
              "      <td>14.000000</td>\n",
              "    </tr>\n",
              "  </tbody>\n",
              "</table>\n",
              "</div><br><label><b>dtype:</b> float64</label>"
            ]
          },
          "metadata": {},
          "execution_count": 538
        }
      ],
      "source": [
        "Data_cleaned['bin_label'].describe()"
      ]
    },
    {
      "cell_type": "code",
      "execution_count": null,
      "metadata": {
        "colab": {
          "base_uri": "https://localhost:8080/"
        },
        "id": "wdKLZkpb0909",
        "outputId": "84ddc3b8-331a-4505-9c87-6c75cb301ac7"
      },
      "outputs": [
        {
          "output_type": "stream",
          "name": "stdout",
          "text": [
            "sold_price          0\n",
            "zipcode             0\n",
            "longitude           0\n",
            "latitude            0\n",
            "lot_acres           0\n",
            "taxes               0\n",
            "year_built          0\n",
            "bedrooms            0\n",
            "bathrooms           0\n",
            "sqrt_ft             0\n",
            "garage              0\n",
            "kitchen_features    0\n",
            "fireplaces          0\n",
            "floor_covering      0\n",
            "HOA                 0\n",
            "pps                 0\n",
            "bin_label           1\n",
            "dtype: int64\n"
          ]
        }
      ],
      "source": [
        "Null_Values = Data_cleaned.isnull().sum()\n",
        "print(Null_Values)"
      ]
    },
    {
      "cell_type": "code",
      "execution_count": null,
      "metadata": {
        "id": "XS3EAcBCrAme"
      },
      "outputs": [],
      "source": [
        "Data_cleaned = Data_cleaned.dropna(subset=['bin_label'])"
      ]
    },
    {
      "cell_type": "code",
      "source": [
        "Data_cleaned['sold_price_normal'] = round((Data_cleaned['sold_price']-Data_cleaned['sold_price'].mean())/Data_cleaned['sold_price'].std(),2)"
      ],
      "metadata": {
        "id": "RaALhDdLGj4t"
      },
      "execution_count": null,
      "outputs": []
    },
    {
      "cell_type": "code",
      "source": [
        "Data_cleaned['sqrt_ft_normal'] = round((Data_cleaned['sqrt_ft']-Data_cleaned['sqrt_ft'].mean())/Data_cleaned['sqrt_ft'].std(),2)"
      ],
      "metadata": {
        "id": "azJhWVYeLtHv"
      },
      "execution_count": null,
      "outputs": []
    },
    {
      "cell_type": "code",
      "execution_count": null,
      "metadata": {
        "id": "n5v9qcJ0QIz_"
      },
      "outputs": [],
      "source": [
        "selected_coloumns = [\"sold_price\",\n",
        "                     \"longitude\",\n",
        "                     \"latitude\",\n",
        "                     \"lot_acres\",\n",
        "                     \"taxes\",\n",
        "                     \"year_built\",\n",
        "                     \"bedrooms\",\n",
        "                     \"bathrooms\",\n",
        "                     \"sqrt_ft\",\n",
        "                     \"garage\",\n",
        "                     \"fireplaces\",\n",
        "                     \"HOA\",\n",
        "                     \"sold_price_normal\",\n",
        "                     \"sqrt_ft_normal\",\n",
        "                     \"pps\",\n",
        "                     \"zipcode\",\n",
        "                     \"bin_label\"]\n",
        "\n",
        "Data_subset = Data_cleaned[selected_coloumns]"
      ]
    },
    {
      "cell_type": "code",
      "execution_count": null,
      "metadata": {
        "colab": {
          "base_uri": "https://localhost:8080/",
          "height": 617
        },
        "id": "nQh1ppY-QIwn",
        "outputId": "2973daea-95ae-4ef0-c989-03ffb8c64353"
      },
      "outputs": [
        {
          "output_type": "execute_result",
          "data": {
            "text/plain": [
              "sold_price           float64\n",
              "longitude            float64\n",
              "latitude             float64\n",
              "lot_acres            float64\n",
              "taxes                float64\n",
              "year_built             int64\n",
              "bedrooms               int64\n",
              "bathrooms            float64\n",
              "sqrt_ft              float64\n",
              "garage               float64\n",
              "fireplaces             int64\n",
              "HOA                  float64\n",
              "sold_price_normal    float64\n",
              "sqrt_ft_normal       float64\n",
              "pps                  float64\n",
              "zipcode                int64\n",
              "bin_label            float64\n",
              "dtype: object"
            ],
            "text/html": [
              "<div>\n",
              "<style scoped>\n",
              "    .dataframe tbody tr th:only-of-type {\n",
              "        vertical-align: middle;\n",
              "    }\n",
              "\n",
              "    .dataframe tbody tr th {\n",
              "        vertical-align: top;\n",
              "    }\n",
              "\n",
              "    .dataframe thead th {\n",
              "        text-align: right;\n",
              "    }\n",
              "</style>\n",
              "<table border=\"1\" class=\"dataframe\">\n",
              "  <thead>\n",
              "    <tr style=\"text-align: right;\">\n",
              "      <th></th>\n",
              "      <th>0</th>\n",
              "    </tr>\n",
              "  </thead>\n",
              "  <tbody>\n",
              "    <tr>\n",
              "      <th>sold_price</th>\n",
              "      <td>float64</td>\n",
              "    </tr>\n",
              "    <tr>\n",
              "      <th>longitude</th>\n",
              "      <td>float64</td>\n",
              "    </tr>\n",
              "    <tr>\n",
              "      <th>latitude</th>\n",
              "      <td>float64</td>\n",
              "    </tr>\n",
              "    <tr>\n",
              "      <th>lot_acres</th>\n",
              "      <td>float64</td>\n",
              "    </tr>\n",
              "    <tr>\n",
              "      <th>taxes</th>\n",
              "      <td>float64</td>\n",
              "    </tr>\n",
              "    <tr>\n",
              "      <th>year_built</th>\n",
              "      <td>int64</td>\n",
              "    </tr>\n",
              "    <tr>\n",
              "      <th>bedrooms</th>\n",
              "      <td>int64</td>\n",
              "    </tr>\n",
              "    <tr>\n",
              "      <th>bathrooms</th>\n",
              "      <td>float64</td>\n",
              "    </tr>\n",
              "    <tr>\n",
              "      <th>sqrt_ft</th>\n",
              "      <td>float64</td>\n",
              "    </tr>\n",
              "    <tr>\n",
              "      <th>garage</th>\n",
              "      <td>float64</td>\n",
              "    </tr>\n",
              "    <tr>\n",
              "      <th>fireplaces</th>\n",
              "      <td>int64</td>\n",
              "    </tr>\n",
              "    <tr>\n",
              "      <th>HOA</th>\n",
              "      <td>float64</td>\n",
              "    </tr>\n",
              "    <tr>\n",
              "      <th>sold_price_normal</th>\n",
              "      <td>float64</td>\n",
              "    </tr>\n",
              "    <tr>\n",
              "      <th>sqrt_ft_normal</th>\n",
              "      <td>float64</td>\n",
              "    </tr>\n",
              "    <tr>\n",
              "      <th>pps</th>\n",
              "      <td>float64</td>\n",
              "    </tr>\n",
              "    <tr>\n",
              "      <th>zipcode</th>\n",
              "      <td>int64</td>\n",
              "    </tr>\n",
              "    <tr>\n",
              "      <th>bin_label</th>\n",
              "      <td>float64</td>\n",
              "    </tr>\n",
              "  </tbody>\n",
              "</table>\n",
              "</div><br><label><b>dtype:</b> object</label>"
            ]
          },
          "metadata": {},
          "execution_count": 544
        }
      ],
      "source": [
        "Data_subset.dtypes"
      ]
    },
    {
      "cell_type": "code",
      "execution_count": null,
      "metadata": {
        "colab": {
          "base_uri": "https://localhost:8080/",
          "height": 443
        },
        "id": "ArL9-VLHQIa6",
        "outputId": "c1bc0066-3b4d-4f13-ec9b-f7557dc432df"
      },
      "outputs": [
        {
          "output_type": "execute_result",
          "data": {
            "text/plain": [
              "      sold_price   longitude   latitude  lot_acres     taxes  year_built  \\\n",
              "0      5300000.0 -110.378200  31.356362    2154.00   5272.00        1941   \n",
              "1      4200000.0 -111.045371  31.594213    1707.00  10422.36        1997   \n",
              "3      4500000.0 -111.035925  31.645878     636.67   8418.58        1930   \n",
              "4      3411450.0 -110.813768  32.285162       3.21  15393.00        1995   \n",
              "5      3250000.0 -110.910593  32.339090       1.67  27802.84        1999   \n",
              "...          ...         ...        ...        ...       ...         ...   \n",
              "4994    535000.0 -110.922291  32.317496       0.18   4414.00        2002   \n",
              "4995    495000.0 -110.661829  31.907917       4.98   2017.00        2005   \n",
              "4996    550000.0 -110.858556  32.316373       1.42   4822.01        1990   \n",
              "4997    475000.0 -110.755428  32.964708      12.06   1000.00        1969   \n",
              "4998    550000.0 -111.055528  32.296871       1.01   5822.93        2009   \n",
              "\n",
              "      bedrooms  bathrooms  sqrt_ft  garage  fireplaces        HOA  \\\n",
              "0           13       10.0  10500.0     0.0           6    0.00000   \n",
              "1            2        2.0   7300.0     0.0           5    0.00000   \n",
              "3            7        5.0   9019.0     4.0           4   82.62059   \n",
              "4            4        6.0   6396.0     3.0           5   55.00000   \n",
              "5            3        4.0   6842.0     3.0           5  422.00000   \n",
              "...        ...        ...      ...     ...         ...        ...   \n",
              "4994         3        2.0   2106.0     2.0           1  198.00000   \n",
              "4995         5        3.0   3601.0     3.0           1   82.62059   \n",
              "4996         4        3.0   2318.0     3.0           1   43.00000   \n",
              "4997         3        2.0   1772.0     0.0           0   82.62059   \n",
              "4998         4        4.0   3724.0     3.0           1   82.62059   \n",
              "\n",
              "      sold_price_normal  sqrt_ft_normal         pps  zipcode  bin_label  \n",
              "0                 14.66            6.52  504.761905    85637       10.0  \n",
              "1                 11.09            3.45  575.342466    85646       11.0  \n",
              "3                 12.07            5.10  498.946668    85646        9.0  \n",
              "4                  8.54            2.58  533.372420    85750       10.0  \n",
              "5                  8.02            3.01  475.007308    85718        9.0  \n",
              "...                 ...             ...         ...      ...        ...  \n",
              "4994              -0.77           -1.53  254.036087    85718        5.0  \n",
              "4995              -0.90           -0.10  137.461816    85641        2.0  \n",
              "4996              -0.72           -1.33  237.273512    85750        4.0  \n",
              "4997              -0.97           -1.85  268.058691    85192        5.0  \n",
              "4998              -0.72            0.02  147.690655    85745        2.0  \n",
              "\n",
              "[4897 rows x 17 columns]"
            ],
            "text/html": [
              "\n",
              "  <div id=\"df-02da395b-563e-402e-8c9d-c4c7bb06a008\" class=\"colab-df-container\">\n",
              "    <div>\n",
              "<style scoped>\n",
              "    .dataframe tbody tr th:only-of-type {\n",
              "        vertical-align: middle;\n",
              "    }\n",
              "\n",
              "    .dataframe tbody tr th {\n",
              "        vertical-align: top;\n",
              "    }\n",
              "\n",
              "    .dataframe thead th {\n",
              "        text-align: right;\n",
              "    }\n",
              "</style>\n",
              "<table border=\"1\" class=\"dataframe\">\n",
              "  <thead>\n",
              "    <tr style=\"text-align: right;\">\n",
              "      <th></th>\n",
              "      <th>sold_price</th>\n",
              "      <th>longitude</th>\n",
              "      <th>latitude</th>\n",
              "      <th>lot_acres</th>\n",
              "      <th>taxes</th>\n",
              "      <th>year_built</th>\n",
              "      <th>bedrooms</th>\n",
              "      <th>bathrooms</th>\n",
              "      <th>sqrt_ft</th>\n",
              "      <th>garage</th>\n",
              "      <th>fireplaces</th>\n",
              "      <th>HOA</th>\n",
              "      <th>sold_price_normal</th>\n",
              "      <th>sqrt_ft_normal</th>\n",
              "      <th>pps</th>\n",
              "      <th>zipcode</th>\n",
              "      <th>bin_label</th>\n",
              "    </tr>\n",
              "  </thead>\n",
              "  <tbody>\n",
              "    <tr>\n",
              "      <th>0</th>\n",
              "      <td>5300000.0</td>\n",
              "      <td>-110.378200</td>\n",
              "      <td>31.356362</td>\n",
              "      <td>2154.00</td>\n",
              "      <td>5272.00</td>\n",
              "      <td>1941</td>\n",
              "      <td>13</td>\n",
              "      <td>10.0</td>\n",
              "      <td>10500.0</td>\n",
              "      <td>0.0</td>\n",
              "      <td>6</td>\n",
              "      <td>0.00000</td>\n",
              "      <td>14.66</td>\n",
              "      <td>6.52</td>\n",
              "      <td>504.761905</td>\n",
              "      <td>85637</td>\n",
              "      <td>10.0</td>\n",
              "    </tr>\n",
              "    <tr>\n",
              "      <th>1</th>\n",
              "      <td>4200000.0</td>\n",
              "      <td>-111.045371</td>\n",
              "      <td>31.594213</td>\n",
              "      <td>1707.00</td>\n",
              "      <td>10422.36</td>\n",
              "      <td>1997</td>\n",
              "      <td>2</td>\n",
              "      <td>2.0</td>\n",
              "      <td>7300.0</td>\n",
              "      <td>0.0</td>\n",
              "      <td>5</td>\n",
              "      <td>0.00000</td>\n",
              "      <td>11.09</td>\n",
              "      <td>3.45</td>\n",
              "      <td>575.342466</td>\n",
              "      <td>85646</td>\n",
              "      <td>11.0</td>\n",
              "    </tr>\n",
              "    <tr>\n",
              "      <th>3</th>\n",
              "      <td>4500000.0</td>\n",
              "      <td>-111.035925</td>\n",
              "      <td>31.645878</td>\n",
              "      <td>636.67</td>\n",
              "      <td>8418.58</td>\n",
              "      <td>1930</td>\n",
              "      <td>7</td>\n",
              "      <td>5.0</td>\n",
              "      <td>9019.0</td>\n",
              "      <td>4.0</td>\n",
              "      <td>4</td>\n",
              "      <td>82.62059</td>\n",
              "      <td>12.07</td>\n",
              "      <td>5.10</td>\n",
              "      <td>498.946668</td>\n",
              "      <td>85646</td>\n",
              "      <td>9.0</td>\n",
              "    </tr>\n",
              "    <tr>\n",
              "      <th>4</th>\n",
              "      <td>3411450.0</td>\n",
              "      <td>-110.813768</td>\n",
              "      <td>32.285162</td>\n",
              "      <td>3.21</td>\n",
              "      <td>15393.00</td>\n",
              "      <td>1995</td>\n",
              "      <td>4</td>\n",
              "      <td>6.0</td>\n",
              "      <td>6396.0</td>\n",
              "      <td>3.0</td>\n",
              "      <td>5</td>\n",
              "      <td>55.00000</td>\n",
              "      <td>8.54</td>\n",
              "      <td>2.58</td>\n",
              "      <td>533.372420</td>\n",
              "      <td>85750</td>\n",
              "      <td>10.0</td>\n",
              "    </tr>\n",
              "    <tr>\n",
              "      <th>5</th>\n",
              "      <td>3250000.0</td>\n",
              "      <td>-110.910593</td>\n",
              "      <td>32.339090</td>\n",
              "      <td>1.67</td>\n",
              "      <td>27802.84</td>\n",
              "      <td>1999</td>\n",
              "      <td>3</td>\n",
              "      <td>4.0</td>\n",
              "      <td>6842.0</td>\n",
              "      <td>3.0</td>\n",
              "      <td>5</td>\n",
              "      <td>422.00000</td>\n",
              "      <td>8.02</td>\n",
              "      <td>3.01</td>\n",
              "      <td>475.007308</td>\n",
              "      <td>85718</td>\n",
              "      <td>9.0</td>\n",
              "    </tr>\n",
              "    <tr>\n",
              "      <th>...</th>\n",
              "      <td>...</td>\n",
              "      <td>...</td>\n",
              "      <td>...</td>\n",
              "      <td>...</td>\n",
              "      <td>...</td>\n",
              "      <td>...</td>\n",
              "      <td>...</td>\n",
              "      <td>...</td>\n",
              "      <td>...</td>\n",
              "      <td>...</td>\n",
              "      <td>...</td>\n",
              "      <td>...</td>\n",
              "      <td>...</td>\n",
              "      <td>...</td>\n",
              "      <td>...</td>\n",
              "      <td>...</td>\n",
              "      <td>...</td>\n",
              "    </tr>\n",
              "    <tr>\n",
              "      <th>4994</th>\n",
              "      <td>535000.0</td>\n",
              "      <td>-110.922291</td>\n",
              "      <td>32.317496</td>\n",
              "      <td>0.18</td>\n",
              "      <td>4414.00</td>\n",
              "      <td>2002</td>\n",
              "      <td>3</td>\n",
              "      <td>2.0</td>\n",
              "      <td>2106.0</td>\n",
              "      <td>2.0</td>\n",
              "      <td>1</td>\n",
              "      <td>198.00000</td>\n",
              "      <td>-0.77</td>\n",
              "      <td>-1.53</td>\n",
              "      <td>254.036087</td>\n",
              "      <td>85718</td>\n",
              "      <td>5.0</td>\n",
              "    </tr>\n",
              "    <tr>\n",
              "      <th>4995</th>\n",
              "      <td>495000.0</td>\n",
              "      <td>-110.661829</td>\n",
              "      <td>31.907917</td>\n",
              "      <td>4.98</td>\n",
              "      <td>2017.00</td>\n",
              "      <td>2005</td>\n",
              "      <td>5</td>\n",
              "      <td>3.0</td>\n",
              "      <td>3601.0</td>\n",
              "      <td>3.0</td>\n",
              "      <td>1</td>\n",
              "      <td>82.62059</td>\n",
              "      <td>-0.90</td>\n",
              "      <td>-0.10</td>\n",
              "      <td>137.461816</td>\n",
              "      <td>85641</td>\n",
              "      <td>2.0</td>\n",
              "    </tr>\n",
              "    <tr>\n",
              "      <th>4996</th>\n",
              "      <td>550000.0</td>\n",
              "      <td>-110.858556</td>\n",
              "      <td>32.316373</td>\n",
              "      <td>1.42</td>\n",
              "      <td>4822.01</td>\n",
              "      <td>1990</td>\n",
              "      <td>4</td>\n",
              "      <td>3.0</td>\n",
              "      <td>2318.0</td>\n",
              "      <td>3.0</td>\n",
              "      <td>1</td>\n",
              "      <td>43.00000</td>\n",
              "      <td>-0.72</td>\n",
              "      <td>-1.33</td>\n",
              "      <td>237.273512</td>\n",
              "      <td>85750</td>\n",
              "      <td>4.0</td>\n",
              "    </tr>\n",
              "    <tr>\n",
              "      <th>4997</th>\n",
              "      <td>475000.0</td>\n",
              "      <td>-110.755428</td>\n",
              "      <td>32.964708</td>\n",
              "      <td>12.06</td>\n",
              "      <td>1000.00</td>\n",
              "      <td>1969</td>\n",
              "      <td>3</td>\n",
              "      <td>2.0</td>\n",
              "      <td>1772.0</td>\n",
              "      <td>0.0</td>\n",
              "      <td>0</td>\n",
              "      <td>82.62059</td>\n",
              "      <td>-0.97</td>\n",
              "      <td>-1.85</td>\n",
              "      <td>268.058691</td>\n",
              "      <td>85192</td>\n",
              "      <td>5.0</td>\n",
              "    </tr>\n",
              "    <tr>\n",
              "      <th>4998</th>\n",
              "      <td>550000.0</td>\n",
              "      <td>-111.055528</td>\n",
              "      <td>32.296871</td>\n",
              "      <td>1.01</td>\n",
              "      <td>5822.93</td>\n",
              "      <td>2009</td>\n",
              "      <td>4</td>\n",
              "      <td>4.0</td>\n",
              "      <td>3724.0</td>\n",
              "      <td>3.0</td>\n",
              "      <td>1</td>\n",
              "      <td>82.62059</td>\n",
              "      <td>-0.72</td>\n",
              "      <td>0.02</td>\n",
              "      <td>147.690655</td>\n",
              "      <td>85745</td>\n",
              "      <td>2.0</td>\n",
              "    </tr>\n",
              "  </tbody>\n",
              "</table>\n",
              "<p>4897 rows × 17 columns</p>\n",
              "</div>\n",
              "    <div class=\"colab-df-buttons\">\n",
              "\n",
              "  <div class=\"colab-df-container\">\n",
              "    <button class=\"colab-df-convert\" onclick=\"convertToInteractive('df-02da395b-563e-402e-8c9d-c4c7bb06a008')\"\n",
              "            title=\"Convert this dataframe to an interactive table.\"\n",
              "            style=\"display:none;\">\n",
              "\n",
              "  <svg xmlns=\"http://www.w3.org/2000/svg\" height=\"24px\" viewBox=\"0 -960 960 960\">\n",
              "    <path d=\"M120-120v-720h720v720H120Zm60-500h600v-160H180v160Zm220 220h160v-160H400v160Zm0 220h160v-160H400v160ZM180-400h160v-160H180v160Zm440 0h160v-160H620v160ZM180-180h160v-160H180v160Zm440 0h160v-160H620v160Z\"/>\n",
              "  </svg>\n",
              "    </button>\n",
              "\n",
              "  <style>\n",
              "    .colab-df-container {\n",
              "      display:flex;\n",
              "      gap: 12px;\n",
              "    }\n",
              "\n",
              "    .colab-df-convert {\n",
              "      background-color: #E8F0FE;\n",
              "      border: none;\n",
              "      border-radius: 50%;\n",
              "      cursor: pointer;\n",
              "      display: none;\n",
              "      fill: #1967D2;\n",
              "      height: 32px;\n",
              "      padding: 0 0 0 0;\n",
              "      width: 32px;\n",
              "    }\n",
              "\n",
              "    .colab-df-convert:hover {\n",
              "      background-color: #E2EBFA;\n",
              "      box-shadow: 0px 1px 2px rgba(60, 64, 67, 0.3), 0px 1px 3px 1px rgba(60, 64, 67, 0.15);\n",
              "      fill: #174EA6;\n",
              "    }\n",
              "\n",
              "    .colab-df-buttons div {\n",
              "      margin-bottom: 4px;\n",
              "    }\n",
              "\n",
              "    [theme=dark] .colab-df-convert {\n",
              "      background-color: #3B4455;\n",
              "      fill: #D2E3FC;\n",
              "    }\n",
              "\n",
              "    [theme=dark] .colab-df-convert:hover {\n",
              "      background-color: #434B5C;\n",
              "      box-shadow: 0px 1px 3px 1px rgba(0, 0, 0, 0.15);\n",
              "      filter: drop-shadow(0px 1px 2px rgba(0, 0, 0, 0.3));\n",
              "      fill: #FFFFFF;\n",
              "    }\n",
              "  </style>\n",
              "\n",
              "    <script>\n",
              "      const buttonEl =\n",
              "        document.querySelector('#df-02da395b-563e-402e-8c9d-c4c7bb06a008 button.colab-df-convert');\n",
              "      buttonEl.style.display =\n",
              "        google.colab.kernel.accessAllowed ? 'block' : 'none';\n",
              "\n",
              "      async function convertToInteractive(key) {\n",
              "        const element = document.querySelector('#df-02da395b-563e-402e-8c9d-c4c7bb06a008');\n",
              "        const dataTable =\n",
              "          await google.colab.kernel.invokeFunction('convertToInteractive',\n",
              "                                                    [key], {});\n",
              "        if (!dataTable) return;\n",
              "\n",
              "        const docLinkHtml = 'Like what you see? Visit the ' +\n",
              "          '<a target=\"_blank\" href=https://colab.research.google.com/notebooks/data_table.ipynb>data table notebook</a>'\n",
              "          + ' to learn more about interactive tables.';\n",
              "        element.innerHTML = '';\n",
              "        dataTable['output_type'] = 'display_data';\n",
              "        await google.colab.output.renderOutput(dataTable, element);\n",
              "        const docLink = document.createElement('div');\n",
              "        docLink.innerHTML = docLinkHtml;\n",
              "        element.appendChild(docLink);\n",
              "      }\n",
              "    </script>\n",
              "  </div>\n",
              "\n",
              "\n",
              "    <div id=\"df-850d4e88-09e9-4e00-a8e0-9878bfdf854f\">\n",
              "      <button class=\"colab-df-quickchart\" onclick=\"quickchart('df-850d4e88-09e9-4e00-a8e0-9878bfdf854f')\"\n",
              "                title=\"Suggest charts\"\n",
              "                style=\"display:none;\">\n",
              "\n",
              "<svg xmlns=\"http://www.w3.org/2000/svg\" height=\"24px\"viewBox=\"0 0 24 24\"\n",
              "     width=\"24px\">\n",
              "    <g>\n",
              "        <path d=\"M19 3H5c-1.1 0-2 .9-2 2v14c0 1.1.9 2 2 2h14c1.1 0 2-.9 2-2V5c0-1.1-.9-2-2-2zM9 17H7v-7h2v7zm4 0h-2V7h2v10zm4 0h-2v-4h2v4z\"/>\n",
              "    </g>\n",
              "</svg>\n",
              "      </button>\n",
              "\n",
              "<style>\n",
              "  .colab-df-quickchart {\n",
              "      --bg-color: #E8F0FE;\n",
              "      --fill-color: #1967D2;\n",
              "      --hover-bg-color: #E2EBFA;\n",
              "      --hover-fill-color: #174EA6;\n",
              "      --disabled-fill-color: #AAA;\n",
              "      --disabled-bg-color: #DDD;\n",
              "  }\n",
              "\n",
              "  [theme=dark] .colab-df-quickchart {\n",
              "      --bg-color: #3B4455;\n",
              "      --fill-color: #D2E3FC;\n",
              "      --hover-bg-color: #434B5C;\n",
              "      --hover-fill-color: #FFFFFF;\n",
              "      --disabled-bg-color: #3B4455;\n",
              "      --disabled-fill-color: #666;\n",
              "  }\n",
              "\n",
              "  .colab-df-quickchart {\n",
              "    background-color: var(--bg-color);\n",
              "    border: none;\n",
              "    border-radius: 50%;\n",
              "    cursor: pointer;\n",
              "    display: none;\n",
              "    fill: var(--fill-color);\n",
              "    height: 32px;\n",
              "    padding: 0;\n",
              "    width: 32px;\n",
              "  }\n",
              "\n",
              "  .colab-df-quickchart:hover {\n",
              "    background-color: var(--hover-bg-color);\n",
              "    box-shadow: 0 1px 2px rgba(60, 64, 67, 0.3), 0 1px 3px 1px rgba(60, 64, 67, 0.15);\n",
              "    fill: var(--button-hover-fill-color);\n",
              "  }\n",
              "\n",
              "  .colab-df-quickchart-complete:disabled,\n",
              "  .colab-df-quickchart-complete:disabled:hover {\n",
              "    background-color: var(--disabled-bg-color);\n",
              "    fill: var(--disabled-fill-color);\n",
              "    box-shadow: none;\n",
              "  }\n",
              "\n",
              "  .colab-df-spinner {\n",
              "    border: 2px solid var(--fill-color);\n",
              "    border-color: transparent;\n",
              "    border-bottom-color: var(--fill-color);\n",
              "    animation:\n",
              "      spin 1s steps(1) infinite;\n",
              "  }\n",
              "\n",
              "  @keyframes spin {\n",
              "    0% {\n",
              "      border-color: transparent;\n",
              "      border-bottom-color: var(--fill-color);\n",
              "      border-left-color: var(--fill-color);\n",
              "    }\n",
              "    20% {\n",
              "      border-color: transparent;\n",
              "      border-left-color: var(--fill-color);\n",
              "      border-top-color: var(--fill-color);\n",
              "    }\n",
              "    30% {\n",
              "      border-color: transparent;\n",
              "      border-left-color: var(--fill-color);\n",
              "      border-top-color: var(--fill-color);\n",
              "      border-right-color: var(--fill-color);\n",
              "    }\n",
              "    40% {\n",
              "      border-color: transparent;\n",
              "      border-right-color: var(--fill-color);\n",
              "      border-top-color: var(--fill-color);\n",
              "    }\n",
              "    60% {\n",
              "      border-color: transparent;\n",
              "      border-right-color: var(--fill-color);\n",
              "    }\n",
              "    80% {\n",
              "      border-color: transparent;\n",
              "      border-right-color: var(--fill-color);\n",
              "      border-bottom-color: var(--fill-color);\n",
              "    }\n",
              "    90% {\n",
              "      border-color: transparent;\n",
              "      border-bottom-color: var(--fill-color);\n",
              "    }\n",
              "  }\n",
              "</style>\n",
              "\n",
              "      <script>\n",
              "        async function quickchart(key) {\n",
              "          const quickchartButtonEl =\n",
              "            document.querySelector('#' + key + ' button');\n",
              "          quickchartButtonEl.disabled = true;  // To prevent multiple clicks.\n",
              "          quickchartButtonEl.classList.add('colab-df-spinner');\n",
              "          try {\n",
              "            const charts = await google.colab.kernel.invokeFunction(\n",
              "                'suggestCharts', [key], {});\n",
              "          } catch (error) {\n",
              "            console.error('Error during call to suggestCharts:', error);\n",
              "          }\n",
              "          quickchartButtonEl.classList.remove('colab-df-spinner');\n",
              "          quickchartButtonEl.classList.add('colab-df-quickchart-complete');\n",
              "        }\n",
              "        (() => {\n",
              "          let quickchartButtonEl =\n",
              "            document.querySelector('#df-850d4e88-09e9-4e00-a8e0-9878bfdf854f button');\n",
              "          quickchartButtonEl.style.display =\n",
              "            google.colab.kernel.accessAllowed ? 'block' : 'none';\n",
              "        })();\n",
              "      </script>\n",
              "    </div>\n",
              "\n",
              "  <div id=\"id_5ea1b1cb-5c9b-4839-a44f-cff7012ff1a6\">\n",
              "    <style>\n",
              "      .colab-df-generate {\n",
              "        background-color: #E8F0FE;\n",
              "        border: none;\n",
              "        border-radius: 50%;\n",
              "        cursor: pointer;\n",
              "        display: none;\n",
              "        fill: #1967D2;\n",
              "        height: 32px;\n",
              "        padding: 0 0 0 0;\n",
              "        width: 32px;\n",
              "      }\n",
              "\n",
              "      .colab-df-generate:hover {\n",
              "        background-color: #E2EBFA;\n",
              "        box-shadow: 0px 1px 2px rgba(60, 64, 67, 0.3), 0px 1px 3px 1px rgba(60, 64, 67, 0.15);\n",
              "        fill: #174EA6;\n",
              "      }\n",
              "\n",
              "      [theme=dark] .colab-df-generate {\n",
              "        background-color: #3B4455;\n",
              "        fill: #D2E3FC;\n",
              "      }\n",
              "\n",
              "      [theme=dark] .colab-df-generate:hover {\n",
              "        background-color: #434B5C;\n",
              "        box-shadow: 0px 1px 3px 1px rgba(0, 0, 0, 0.15);\n",
              "        filter: drop-shadow(0px 1px 2px rgba(0, 0, 0, 0.3));\n",
              "        fill: #FFFFFF;\n",
              "      }\n",
              "    </style>\n",
              "    <button class=\"colab-df-generate\" onclick=\"generateWithVariable('Data_subset')\"\n",
              "            title=\"Generate code using this dataframe.\"\n",
              "            style=\"display:none;\">\n",
              "\n",
              "  <svg xmlns=\"http://www.w3.org/2000/svg\" height=\"24px\"viewBox=\"0 0 24 24\"\n",
              "       width=\"24px\">\n",
              "    <path d=\"M7,19H8.4L18.45,9,17,7.55,7,17.6ZM5,21V16.75L18.45,3.32a2,2,0,0,1,2.83,0l1.4,1.43a1.91,1.91,0,0,1,.58,1.4,1.91,1.91,0,0,1-.58,1.4L9.25,21ZM18.45,9,17,7.55Zm-12,3A5.31,5.31,0,0,0,4.9,8.1,5.31,5.31,0,0,0,1,6.5,5.31,5.31,0,0,0,4.9,4.9,5.31,5.31,0,0,0,6.5,1,5.31,5.31,0,0,0,8.1,4.9,5.31,5.31,0,0,0,12,6.5,5.46,5.46,0,0,0,6.5,12Z\"/>\n",
              "  </svg>\n",
              "    </button>\n",
              "    <script>\n",
              "      (() => {\n",
              "      const buttonEl =\n",
              "        document.querySelector('#id_5ea1b1cb-5c9b-4839-a44f-cff7012ff1a6 button.colab-df-generate');\n",
              "      buttonEl.style.display =\n",
              "        google.colab.kernel.accessAllowed ? 'block' : 'none';\n",
              "\n",
              "      buttonEl.onclick = () => {\n",
              "        google.colab.notebook.generateWithVariable('Data_subset');\n",
              "      }\n",
              "      })();\n",
              "    </script>\n",
              "  </div>\n",
              "\n",
              "    </div>\n",
              "  </div>\n"
            ],
            "application/vnd.google.colaboratory.intrinsic+json": {
              "type": "dataframe",
              "variable_name": "Data_subset",
              "summary": "{\n  \"name\": \"Data_subset\",\n  \"rows\": 4897,\n  \"fields\": [\n    {\n      \"column\": \"sold_price\",\n      \"properties\": {\n        \"dtype\": \"number\",\n        \"std\": 308877.2384085967,\n        \"min\": 300000.0,\n        \"max\": 5300000.0,\n        \"num_unique_values\": 1083,\n        \"samples\": [\n          1831392.0,\n          802300.0,\n          665000.0\n        ],\n        \"semantic_type\": \"\",\n        \"description\": \"\"\n      }\n    },\n    {\n      \"column\": \"longitude\",\n      \"properties\": {\n        \"dtype\": \"number\",\n        \"std\": 0.11993509540002618,\n        \"min\": -112.520168,\n        \"max\": -109.454637,\n        \"num_unique_values\": 4677,\n        \"samples\": [\n          -111.035665,\n          -111.096767,\n          -110.85849\n        ],\n        \"semantic_type\": \"\",\n        \"description\": \"\"\n      }\n    },\n    {\n      \"column\": \"latitude\",\n      \"properties\": {\n        \"dtype\": \"number\",\n        \"std\": 0.16279657628208652,\n        \"min\": 31.356362,\n        \"max\": 34.927884,\n        \"num_unique_values\": 4731,\n        \"samples\": [\n          32.31351,\n          31.791327,\n          32.467716\n        ],\n        \"semantic_type\": \"\",\n        \"description\": \"\"\n      }\n    },\n    {\n      \"column\": \"lot_acres\",\n      \"properties\": {\n        \"dtype\": \"number\",\n        \"std\": 43.404720824415705,\n        \"min\": 0.0,\n        \"max\": 2154.0,\n        \"num_unique_values\": 629,\n        \"samples\": [\n          3.61,\n          8.46,\n          5.58\n        ],\n        \"semantic_type\": \"\",\n        \"description\": \"\"\n      }\n    },\n    {\n      \"column\": \"taxes\",\n      \"properties\": {\n        \"dtype\": \"number\",\n        \"std\": 174745.8356837727,\n        \"min\": 0.0,\n        \"max\": 12215075.0,\n        \"num_unique_values\": 4649,\n        \"samples\": [\n          2334.0,\n          11809.0,\n          1286.59\n        ],\n        \"semantic_type\": \"\",\n        \"description\": \"\"\n      }\n    },\n    {\n      \"column\": \"year_built\",\n      \"properties\": {\n        \"dtype\": \"number\",\n        \"std\": 66,\n        \"min\": 0,\n        \"max\": 2019,\n        \"num_unique_values\": 112,\n        \"samples\": [\n          1928,\n          1961,\n          1999\n        ],\n        \"semantic_type\": \"\",\n        \"description\": \"\"\n      }\n    },\n    {\n      \"column\": \"bedrooms\",\n      \"properties\": {\n        \"dtype\": \"number\",\n        \"std\": 0,\n        \"min\": 1,\n        \"max\": 19,\n        \"num_unique_values\": 13,\n        \"samples\": [\n          10,\n          19,\n          13\n        ],\n        \"semantic_type\": \"\",\n        \"description\": \"\"\n      }\n    },\n    {\n      \"column\": \"bathrooms\",\n      \"properties\": {\n        \"dtype\": \"number\",\n        \"std\": 1.1494266207846646,\n        \"min\": 1.0,\n        \"max\": 36.0,\n        \"num_unique_values\": 17,\n        \"samples\": [\n          10.0,\n          2.0,\n          8.0\n        ],\n        \"semantic_type\": \"\",\n        \"description\": \"\"\n      }\n    },\n    {\n      \"column\": \"sqrt_ft\",\n      \"properties\": {\n        \"dtype\": \"number\",\n        \"std\": 1042.1511766798028,\n        \"min\": 1100.0,\n        \"max\": 13000.0,\n        \"num_unique_values\": 2341,\n        \"samples\": [\n          3914.0,\n          4515.0,\n          3440.0\n        ],\n        \"semantic_type\": \"\",\n        \"description\": \"\"\n      }\n    },\n    {\n      \"column\": \"garage\",\n      \"properties\": {\n        \"dtype\": \"number\",\n        \"std\": 1.1924922073608857,\n        \"min\": 0.0,\n        \"max\": 30.0,\n        \"num_unique_values\": 21,\n        \"samples\": [\n          0.0,\n          10.0,\n          30.0\n        ],\n        \"semantic_type\": \"\",\n        \"description\": \"\"\n      }\n    },\n    {\n      \"column\": \"fireplaces\",\n      \"properties\": {\n        \"dtype\": \"number\",\n        \"std\": 1,\n        \"min\": 0,\n        \"max\": 9,\n        \"num_unique_values\": 10,\n        \"samples\": [\n          9,\n          5,\n          3\n        ],\n        \"semantic_type\": \"\",\n        \"description\": \"\"\n      }\n    },\n    {\n      \"column\": \"HOA\",\n      \"properties\": {\n        \"dtype\": \"number\",\n        \"std\": 86.52813720643452,\n        \"min\": 0.0,\n        \"max\": 925.0,\n        \"num_unique_values\": 360,\n        \"samples\": [\n          33.33,\n          127.0,\n          58.36\n        ],\n        \"semantic_type\": \"\",\n        \"description\": \"\"\n      }\n    },\n    {\n      \"column\": \"sold_price_normal\",\n      \"properties\": {\n        \"dtype\": \"number\",\n        \"std\": 0.9999894573920318,\n        \"min\": -1.53,\n        \"max\": 14.66,\n        \"num_unique_values\": 378,\n        \"samples\": [\n          -0.15,\n          -0.49,\n          -0.5\n        ],\n        \"semantic_type\": \"\",\n        \"description\": \"\"\n      }\n    },\n    {\n      \"column\": \"sqrt_ft_normal\",\n      \"properties\": {\n        \"dtype\": \"number\",\n        \"std\": 1.0000179531367464,\n        \"min\": -2.5,\n        \"max\": 8.92,\n        \"num_unique_values\": 501,\n        \"samples\": [\n          -1.0,\n          -0.08,\n          -0.66\n        ],\n        \"semantic_type\": \"\",\n        \"description\": \"\"\n      }\n    },\n    {\n      \"column\": \"pps\",\n      \"properties\": {\n        \"dtype\": \"number\",\n        \"std\": 59.55800413675843,\n        \"min\": 56.652456809513126,\n        \"max\": 712.7882599580713,\n        \"num_unique_values\": 4764,\n        \"samples\": [\n          273.45918933925594,\n          184.27518427518427,\n          186.55902247436177\n        ],\n        \"semantic_type\": \"\",\n        \"description\": \"\"\n      }\n    },\n    {\n      \"column\": \"zipcode\",\n      \"properties\": {\n        \"dtype\": \"number\",\n        \"std\": 36,\n        \"min\": 85118,\n        \"max\": 86323,\n        \"num_unique_values\": 53,\n        \"samples\": [\n          85743,\n          86323,\n          85713\n        ],\n        \"semantic_type\": \"\",\n        \"description\": \"\"\n      }\n    },\n    {\n      \"column\": \"bin_label\",\n      \"properties\": {\n        \"dtype\": \"number\",\n        \"std\": 1.223663449291015,\n        \"min\": 1.0,\n        \"max\": 14.0,\n        \"num_unique_values\": 14,\n        \"samples\": [\n          4.0,\n          2.0,\n          10.0\n        ],\n        \"semantic_type\": \"\",\n        \"description\": \"\"\n      }\n    }\n  ]\n}"
            }
          },
          "metadata": {},
          "execution_count": 545
        }
      ],
      "source": [
        "Data_subset"
      ]
    },
    {
      "cell_type": "code",
      "execution_count": null,
      "metadata": {
        "colab": {
          "base_uri": "https://localhost:8080/",
          "height": 981
        },
        "id": "Zeq4rxkAPWkp",
        "outputId": "0bff0027-8c38-4294-d87d-3d2f54916f48"
      },
      "outputs": [
        {
          "output_type": "execute_result",
          "data": {
            "text/plain": [
              "<Axes: >"
            ]
          },
          "metadata": {},
          "execution_count": 546
        },
        {
          "output_type": "display_data",
          "data": {
            "text/plain": [
              "<Figure size 1000x1000 with 2 Axes>"
            ],
            "image/png": "[encoded data removed]"
          },
          "metadata": {}
        }
      ],
      "source": [
        "correlation_matrix = Data_subset.corr()\n",
        "plt.figure(figsize=(10,10))\n",
        "#plot heat map\n",
        "sns.heatmap(correlation_matrix, annot=True, cmap=\n",
        "                                        \"RdYlGn\"\n",
        "                                        #\"inferno\"\n",
        "                                        #\"cividis\"\n",
        "                                        #\"bwr\"\n",
        "                                               )"
      ]
    },
    {
      "cell_type": "markdown",
      "metadata": {
        "id": "GOEUT8JzRboj"
      },
      "source": [
        "As I am taking sold_price as my dependent variable. The independent variables - longitude, latitude,taxes and year_built has not much correlation as observed by above matrix."
      ]
    },
    {
      "cell_type": "code",
      "execution_count": null,
      "metadata": {
        "colab": {
          "base_uri": "https://localhost:8080/",
          "height": 443
        },
        "id": "NU3OF7zNfhWe",
        "outputId": "e5bad810-fe4e-4003-d66b-9060dc951033"
      },
      "outputs": [
        {
          "output_type": "execute_result",
          "data": {
            "text/plain": [
              "      sold_price   longitude   latitude  lot_acres     taxes  year_built  \\\n",
              "0      5300000.0 -110.378200  31.356362    2154.00   5272.00        1941   \n",
              "1      4200000.0 -111.045371  31.594213    1707.00  10422.36        1997   \n",
              "3      4500000.0 -111.035925  31.645878     636.67   8418.58        1930   \n",
              "4      3411450.0 -110.813768  32.285162       3.21  15393.00        1995   \n",
              "5      3250000.0 -110.910593  32.339090       1.67  27802.84        1999   \n",
              "...          ...         ...        ...        ...       ...         ...   \n",
              "4994    535000.0 -110.922291  32.317496       0.18   4414.00        2002   \n",
              "4995    495000.0 -110.661829  31.907917       4.98   2017.00        2005   \n",
              "4996    550000.0 -110.858556  32.316373       1.42   4822.01        1990   \n",
              "4997    475000.0 -110.755428  32.964708      12.06   1000.00        1969   \n",
              "4998    550000.0 -111.055528  32.296871       1.01   5822.93        2009   \n",
              "\n",
              "      bedrooms  bathrooms  sqrt_ft  garage  fireplaces        HOA  \\\n",
              "0           13       10.0  10500.0     0.0           6    0.00000   \n",
              "1            2        2.0   7300.0     0.0           5    0.00000   \n",
              "3            7        5.0   9019.0     4.0           4   82.62059   \n",
              "4            4        6.0   6396.0     3.0           5   55.00000   \n",
              "5            3        4.0   6842.0     3.0           5  422.00000   \n",
              "...        ...        ...      ...     ...         ...        ...   \n",
              "4994         3        2.0   2106.0     2.0           1  198.00000   \n",
              "4995         5        3.0   3601.0     3.0           1   82.62059   \n",
              "4996         4        3.0   2318.0     3.0           1   43.00000   \n",
              "4997         3        2.0   1772.0     0.0           0   82.62059   \n",
              "4998         4        4.0   3724.0     3.0           1   82.62059   \n",
              "\n",
              "      sold_price_normal  sqrt_ft_normal         pps  zipcode  bin_label  \n",
              "0                 14.66            6.52  504.761905    85637       10.0  \n",
              "1                 11.09            3.45  575.342466    85646       11.0  \n",
              "3                 12.07            5.10  498.946668    85646        9.0  \n",
              "4                  8.54            2.58  533.372420    85750       10.0  \n",
              "5                  8.02            3.01  475.007308    85718        9.0  \n",
              "...                 ...             ...         ...      ...        ...  \n",
              "4994              -0.77           -1.53  254.036087    85718        5.0  \n",
              "4995              -0.90           -0.10  137.461816    85641        2.0  \n",
              "4996              -0.72           -1.33  237.273512    85750        4.0  \n",
              "4997              -0.97           -1.85  268.058691    85192        5.0  \n",
              "4998              -0.72            0.02  147.690655    85745        2.0  \n",
              "\n",
              "[4897 rows x 17 columns]"
            ],
            "text/html": [
              "\n",
              "  <div id=\"df-17ff1361-092a-4752-a61f-4bc2e276325f\" class=\"colab-df-container\">\n",
              "    <div>\n",
              "<style scoped>\n",
              "    .dataframe tbody tr th:only-of-type {\n",
              "        vertical-align: middle;\n",
              "    }\n",
              "\n",
              "    .dataframe tbody tr th {\n",
              "        vertical-align: top;\n",
              "    }\n",
              "\n",
              "    .dataframe thead th {\n",
              "        text-align: right;\n",
              "    }\n",
              "</style>\n",
              "<table border=\"1\" class=\"dataframe\">\n",
              "  <thead>\n",
              "    <tr style=\"text-align: right;\">\n",
              "      <th></th>\n",
              "      <th>sold_price</th>\n",
              "      <th>longitude</th>\n",
              "      <th>latitude</th>\n",
              "      <th>lot_acres</th>\n",
              "      <th>taxes</th>\n",
              "      <th>year_built</th>\n",
              "      <th>bedrooms</th>\n",
              "      <th>bathrooms</th>\n",
              "      <th>sqrt_ft</th>\n",
              "      <th>garage</th>\n",
              "      <th>fireplaces</th>\n",
              "      <th>HOA</th>\n",
              "      <th>sold_price_normal</th>\n",
              "      <th>sqrt_ft_normal</th>\n",
              "      <th>pps</th>\n",
              "      <th>zipcode</th>\n",
              "      <th>bin_label</th>\n",
              "    </tr>\n",
              "  </thead>\n",
              "  <tbody>\n",
              "    <tr>\n",
              "      <th>0</th>\n",
              "      <td>5300000.0</td>\n",
              "      <td>-110.378200</td>\n",
              "      <td>31.356362</td>\n",
              "      <td>2154.00</td>\n",
              "      <td>5272.00</td>\n",
              "      <td>1941</td>\n",
              "      <td>13</td>\n",
              "      <td>10.0</td>\n",
              "      <td>10500.0</td>\n",
              "      <td>0.0</td>\n",
              "      <td>6</td>\n",
              "      <td>0.00000</td>\n",
              "      <td>14.66</td>\n",
              "      <td>6.52</td>\n",
              "      <td>504.761905</td>\n",
              "      <td>85637</td>\n",
              "      <td>10.0</td>\n",
              "    </tr>\n",
              "    <tr>\n",
              "      <th>1</th>\n",
              "      <td>4200000.0</td>\n",
              "      <td>-111.045371</td>\n",
              "      <td>31.594213</td>\n",
              "      <td>1707.00</td>\n",
              "      <td>10422.36</td>\n",
              "      <td>1997</td>\n",
              "      <td>2</td>\n",
              "      <td>2.0</td>\n",
              "      <td>7300.0</td>\n",
              "      <td>0.0</td>\n",
              "      <td>5</td>\n",
              "      <td>0.00000</td>\n",
              "      <td>11.09</td>\n",
              "      <td>3.45</td>\n",
              "      <td>575.342466</td>\n",
              "      <td>85646</td>\n",
              "      <td>11.0</td>\n",
              "    </tr>\n",
              "    <tr>\n",
              "      <th>3</th>\n",
              "      <td>4500000.0</td>\n",
              "      <td>-111.035925</td>\n",
              "      <td>31.645878</td>\n",
              "      <td>636.67</td>\n",
              "      <td>8418.58</td>\n",
              "      <td>1930</td>\n",
              "      <td>7</td>\n",
              "      <td>5.0</td>\n",
              "      <td>9019.0</td>\n",
              "      <td>4.0</td>\n",
              "      <td>4</td>\n",
              "      <td>82.62059</td>\n",
              "      <td>12.07</td>\n",
              "      <td>5.10</td>\n",
              "      <td>498.946668</td>\n",
              "      <td>85646</td>\n",
              "      <td>9.0</td>\n",
              "    </tr>\n",
              "    <tr>\n",
              "      <th>4</th>\n",
              "      <td>3411450.0</td>\n",
              "      <td>-110.813768</td>\n",
              "      <td>32.285162</td>\n",
              "      <td>3.21</td>\n",
              "      <td>15393.00</td>\n",
              "      <td>1995</td>\n",
              "      <td>4</td>\n",
              "      <td>6.0</td>\n",
              "      <td>6396.0</td>\n",
              "      <td>3.0</td>\n",
              "      <td>5</td>\n",
              "      <td>55.00000</td>\n",
              "      <td>8.54</td>\n",
              "      <td>2.58</td>\n",
              "      <td>533.372420</td>\n",
              "      <td>85750</td>\n",
              "      <td>10.0</td>\n",
              "    </tr>\n",
              "    <tr>\n",
              "      <th>5</th>\n",
              "      <td>3250000.0</td>\n",
              "      <td>-110.910593</td>\n",
              "      <td>32.339090</td>\n",
              "      <td>1.67</td>\n",
              "      <td>27802.84</td>\n",
              "      <td>1999</td>\n",
              "      <td>3</td>\n",
              "      <td>4.0</td>\n",
              "      <td>6842.0</td>\n",
              "      <td>3.0</td>\n",
              "      <td>5</td>\n",
              "      <td>422.00000</td>\n",
              "      <td>8.02</td>\n",
              "      <td>3.01</td>\n",
              "      <td>475.007308</td>\n",
              "      <td>85718</td>\n",
              "      <td>9.0</td>\n",
              "    </tr>\n",
              "    <tr>\n",
              "      <th>...</th>\n",
              "      <td>...</td>\n",
              "      <td>...</td>\n",
              "      <td>...</td>\n",
              "      <td>...</td>\n",
              "      <td>...</td>\n",
              "      <td>...</td>\n",
              "      <td>...</td>\n",
              "      <td>...</td>\n",
              "      <td>...</td>\n",
              "      <td>...</td>\n",
              "      <td>...</td>\n",
              "      <td>...</td>\n",
              "      <td>...</td>\n",
              "      <td>...</td>\n",
              "      <td>...</td>\n",
              "      <td>...</td>\n",
              "      <td>...</td>\n",
              "    </tr>\n",
              "    <tr>\n",
              "      <th>4994</th>\n",
              "      <td>535000.0</td>\n",
              "      <td>-110.922291</td>\n",
              "      <td>32.317496</td>\n",
              "      <td>0.18</td>\n",
              "      <td>4414.00</td>\n",
              "      <td>2002</td>\n",
              "      <td>3</td>\n",
              "      <td>2.0</td>\n",
              "      <td>2106.0</td>\n",
              "      <td>2.0</td>\n",
              "      <td>1</td>\n",
              "      <td>198.00000</td>\n",
              "      <td>-0.77</td>\n",
              "      <td>-1.53</td>\n",
              "      <td>254.036087</td>\n",
              "      <td>85718</td>\n",
              "      <td>5.0</td>\n",
              "    </tr>\n",
              "    <tr>\n",
              "      <th>4995</th>\n",
              "      <td>495000.0</td>\n",
              "      <td>-110.661829</td>\n",
              "      <td>31.907917</td>\n",
              "      <td>4.98</td>\n",
              "      <td>2017.00</td>\n",
              "      <td>2005</td>\n",
              "      <td>5</td>\n",
              "      <td>3.0</td>\n",
              "      <td>3601.0</td>\n",
              "      <td>3.0</td>\n",
              "      <td>1</td>\n",
              "      <td>82.62059</td>\n",
              "      <td>-0.90</td>\n",
              "      <td>-0.10</td>\n",
              "      <td>137.461816</td>\n",
              "      <td>85641</td>\n",
              "      <td>2.0</td>\n",
              "    </tr>\n",
              "    <tr>\n",
              "      <th>4996</th>\n",
              "      <td>550000.0</td>\n",
              "      <td>-110.858556</td>\n",
              "      <td>32.316373</td>\n",
              "      <td>1.42</td>\n",
              "      <td>4822.01</td>\n",
              "      <td>1990</td>\n",
              "      <td>4</td>\n",
              "      <td>3.0</td>\n",
              "      <td>2318.0</td>\n",
              "      <td>3.0</td>\n",
              "      <td>1</td>\n",
              "      <td>43.00000</td>\n",
              "      <td>-0.72</td>\n",
              "      <td>-1.33</td>\n",
              "      <td>237.273512</td>\n",
              "      <td>85750</td>\n",
              "      <td>4.0</td>\n",
              "    </tr>\n",
              "    <tr>\n",
              "      <th>4997</th>\n",
              "      <td>475000.0</td>\n",
              "      <td>-110.755428</td>\n",
              "      <td>32.964708</td>\n",
              "      <td>12.06</td>\n",
              "      <td>1000.00</td>\n",
              "      <td>1969</td>\n",
              "      <td>3</td>\n",
              "      <td>2.0</td>\n",
              "      <td>1772.0</td>\n",
              "      <td>0.0</td>\n",
              "      <td>0</td>\n",
              "      <td>82.62059</td>\n",
              "      <td>-0.97</td>\n",
              "      <td>-1.85</td>\n",
              "      <td>268.058691</td>\n",
              "      <td>85192</td>\n",
              "      <td>5.0</td>\n",
              "    </tr>\n",
              "    <tr>\n",
              "      <th>4998</th>\n",
              "      <td>550000.0</td>\n",
              "      <td>-111.055528</td>\n",
              "      <td>32.296871</td>\n",
              "      <td>1.01</td>\n",
              "      <td>5822.93</td>\n",
              "      <td>2009</td>\n",
              "      <td>4</td>\n",
              "      <td>4.0</td>\n",
              "      <td>3724.0</td>\n",
              "      <td>3.0</td>\n",
              "      <td>1</td>\n",
              "      <td>82.62059</td>\n",
              "      <td>-0.72</td>\n",
              "      <td>0.02</td>\n",
              "      <td>147.690655</td>\n",
              "      <td>85745</td>\n",
              "      <td>2.0</td>\n",
              "    </tr>\n",
              "  </tbody>\n",
              "</table>\n",
              "<p>4897 rows × 17 columns</p>\n",
              "</div>\n",
              "    <div class=\"colab-df-buttons\">\n",
              "\n",
              "  <div class=\"colab-df-container\">\n",
              "    <button class=\"colab-df-convert\" onclick=\"convertToInteractive('df-17ff1361-092a-4752-a61f-4bc2e276325f')\"\n",
              "            title=\"Convert this dataframe to an interactive table.\"\n",
              "            style=\"display:none;\">\n",
              "\n",
              "  <svg xmlns=\"http://www.w3.org/2000/svg\" height=\"24px\" viewBox=\"0 -960 960 960\">\n",
              "    <path d=\"M120-120v-720h720v720H120Zm60-500h600v-160H180v160Zm220 220h160v-160H400v160Zm0 220h160v-160H400v160ZM180-400h160v-160H180v160Zm440 0h160v-160H620v160ZM180-180h160v-160H180v160Zm440 0h160v-160H620v160Z\"/>\n",
              "  </svg>\n",
              "    </button>\n",
              "\n",
              "  <style>\n",
              "    .colab-df-container {\n",
              "      display:flex;\n",
              "      gap: 12px;\n",
              "    }\n",
              "\n",
              "    .colab-df-convert {\n",
              "      background-color: #E8F0FE;\n",
              "      border: none;\n",
              "      border-radius: 50%;\n",
              "      cursor: pointer;\n",
              "      display: none;\n",
              "      fill: #1967D2;\n",
              "      height: 32px;\n",
              "      padding: 0 0 0 0;\n",
              "      width: 32px;\n",
              "    }\n",
              "\n",
              "    .colab-df-convert:hover {\n",
              "      background-color: #E2EBFA;\n",
              "      box-shadow: 0px 1px 2px rgba(60, 64, 67, 0.3), 0px 1px 3px 1px rgba(60, 64, 67, 0.15);\n",
              "      fill: #174EA6;\n",
              "    }\n",
              "\n",
              "    .colab-df-buttons div {\n",
              "      margin-bottom: 4px;\n",
              "    }\n",
              "\n",
              "    [theme=dark] .colab-df-convert {\n",
              "      background-color: #3B4455;\n",
              "      fill: #D2E3FC;\n",
              "    }\n",
              "\n",
              "    [theme=dark] .colab-df-convert:hover {\n",
              "      background-color: #434B5C;\n",
              "      box-shadow: 0px 1px 3px 1px rgba(0, 0, 0, 0.15);\n",
              "      filter: drop-shadow(0px 1px 2px rgba(0, 0, 0, 0.3));\n",
              "      fill: #FFFFFF;\n",
              "    }\n",
              "  </style>\n",
              "\n",
              "    <script>\n",
              "      const buttonEl =\n",
              "        document.querySelector('#df-17ff1361-092a-4752-a61f-4bc2e276325f button.colab-df-convert');\n",
              "      buttonEl.style.display =\n",
              "        google.colab.kernel.accessAllowed ? 'block' : 'none';\n",
              "\n",
              "      async function convertToInteractive(key) {\n",
              "        const element = document.querySelector('#df-17ff1361-092a-4752-a61f-4bc2e276325f');\n",
              "        const dataTable =\n",
              "          await google.colab.kernel.invokeFunction('convertToInteractive',\n",
              "                                                    [key], {});\n",
              "        if (!dataTable) return;\n",
              "\n",
              "        const docLinkHtml = 'Like what you see? Visit the ' +\n",
              "          '<a target=\"_blank\" href=https://colab.research.google.com/notebooks/data_table.ipynb>data table notebook</a>'\n",
              "          + ' to learn more about interactive tables.';\n",
              "        element.innerHTML = '';\n",
              "        dataTable['output_type'] = 'display_data';\n",
              "        await google.colab.output.renderOutput(dataTable, element);\n",
              "        const docLink = document.createElement('div');\n",
              "        docLink.innerHTML = docLinkHtml;\n",
              "        element.appendChild(docLink);\n",
              "      }\n",
              "    </script>\n",
              "  </div>\n",
              "\n",
              "\n",
              "    <div id=\"df-4713719b-9bf1-4bf2-a654-6c6e0e731cc2\">\n",
              "      <button class=\"colab-df-quickchart\" onclick=\"quickchart('df-4713719b-9bf1-4bf2-a654-6c6e0e731cc2')\"\n",
              "                title=\"Suggest charts\"\n",
              "                style=\"display:none;\">\n",
              "\n",
              "<svg xmlns=\"http://www.w3.org/2000/svg\" height=\"24px\"viewBox=\"0 0 24 24\"\n",
              "     width=\"24px\">\n",
              "    <g>\n",
              "        <path d=\"M19 3H5c-1.1 0-2 .9-2 2v14c0 1.1.9 2 2 2h14c1.1 0 2-.9 2-2V5c0-1.1-.9-2-2-2zM9 17H7v-7h2v7zm4 0h-2V7h2v10zm4 0h-2v-4h2v4z\"/>\n",
              "    </g>\n",
              "</svg>\n",
              "      </button>\n",
              "\n",
              "<style>\n",
              "  .colab-df-quickchart {\n",
              "      --bg-color: #E8F0FE;\n",
              "      --fill-color: #1967D2;\n",
              "      --hover-bg-color: #E2EBFA;\n",
              "      --hover-fill-color: #174EA6;\n",
              "      --disabled-fill-color: #AAA;\n",
              "      --disabled-bg-color: #DDD;\n",
              "  }\n",
              "\n",
              "  [theme=dark] .colab-df-quickchart {\n",
              "      --bg-color: #3B4455;\n",
              "      --fill-color: #D2E3FC;\n",
              "      --hover-bg-color: #434B5C;\n",
              "      --hover-fill-color: #FFFFFF;\n",
              "      --disabled-bg-color: #3B4455;\n",
              "      --disabled-fill-color: #666;\n",
              "  }\n",
              "\n",
              "  .colab-df-quickchart {\n",
              "    background-color: var(--bg-color);\n",
              "    border: none;\n",
              "    border-radius: 50%;\n",
              "    cursor: pointer;\n",
              "    display: none;\n",
              "    fill: var(--fill-color);\n",
              "    height: 32px;\n",
              "    padding: 0;\n",
              "    width: 32px;\n",
              "  }\n",
              "\n",
              "  .colab-df-quickchart:hover {\n",
              "    background-color: var(--hover-bg-color);\n",
              "    box-shadow: 0 1px 2px rgba(60, 64, 67, 0.3), 0 1px 3px 1px rgba(60, 64, 67, 0.15);\n",
              "    fill: var(--button-hover-fill-color);\n",
              "  }\n",
              "\n",
              "  .colab-df-quickchart-complete:disabled,\n",
              "  .colab-df-quickchart-complete:disabled:hover {\n",
              "    background-color: var(--disabled-bg-color);\n",
              "    fill: var(--disabled-fill-color);\n",
              "    box-shadow: none;\n",
              "  }\n",
              "\n",
              "  .colab-df-spinner {\n",
              "    border: 2px solid var(--fill-color);\n",
              "    border-color: transparent;\n",
              "    border-bottom-color: var(--fill-color);\n",
              "    animation:\n",
              "      spin 1s steps(1) infinite;\n",
              "  }\n",
              "\n",
              "  @keyframes spin {\n",
              "    0% {\n",
              "      border-color: transparent;\n",
              "      border-bottom-color: var(--fill-color);\n",
              "      border-left-color: var(--fill-color);\n",
              "    }\n",
              "    20% {\n",
              "      border-color: transparent;\n",
              "      border-left-color: var(--fill-color);\n",
              "      border-top-color: var(--fill-color);\n",
              "    }\n",
              "    30% {\n",
              "      border-color: transparent;\n",
              "      border-left-color: var(--fill-color);\n",
              "      border-top-color: var(--fill-color);\n",
              "      border-right-color: var(--fill-color);\n",
              "    }\n",
              "    40% {\n",
              "      border-color: transparent;\n",
              "      border-right-color: var(--fill-color);\n",
              "      border-top-color: var(--fill-color);\n",
              "    }\n",
              "    60% {\n",
              "      border-color: transparent;\n",
              "      border-right-color: var(--fill-color);\n",
              "    }\n",
              "    80% {\n",
              "      border-color: transparent;\n",
              "      border-right-color: var(--fill-color);\n",
              "      border-bottom-color: var(--fill-color);\n",
              "    }\n",
              "    90% {\n",
              "      border-color: transparent;\n",
              "      border-bottom-color: var(--fill-color);\n",
              "    }\n",
              "  }\n",
              "</style>\n",
              "\n",
              "      <script>\n",
              "        async function quickchart(key) {\n",
              "          const quickchartButtonEl =\n",
              "            document.querySelector('#' + key + ' button');\n",
              "          quickchartButtonEl.disabled = true;  // To prevent multiple clicks.\n",
              "          quickchartButtonEl.classList.add('colab-df-spinner');\n",
              "          try {\n",
              "            const charts = await google.colab.kernel.invokeFunction(\n",
              "                'suggestCharts', [key], {});\n",
              "          } catch (error) {\n",
              "            console.error('Error during call to suggestCharts:', error);\n",
              "          }\n",
              "          quickchartButtonEl.classList.remove('colab-df-spinner');\n",
              "          quickchartButtonEl.classList.add('colab-df-quickchart-complete');\n",
              "        }\n",
              "        (() => {\n",
              "          let quickchartButtonEl =\n",
              "            document.querySelector('#df-4713719b-9bf1-4bf2-a654-6c6e0e731cc2 button');\n",
              "          quickchartButtonEl.style.display =\n",
              "            google.colab.kernel.accessAllowed ? 'block' : 'none';\n",
              "        })();\n",
              "      </script>\n",
              "    </div>\n",
              "\n",
              "  <div id=\"id_314c894a-c89b-4bea-b84c-699efc232ed5\">\n",
              "    <style>\n",
              "      .colab-df-generate {\n",
              "        background-color: #E8F0FE;\n",
              "        border: none;\n",
              "        border-radius: 50%;\n",
              "        cursor: pointer;\n",
              "        display: none;\n",
              "        fill: #1967D2;\n",
              "        height: 32px;\n",
              "        padding: 0 0 0 0;\n",
              "        width: 32px;\n",
              "      }\n",
              "\n",
              "      .colab-df-generate:hover {\n",
              "        background-color: #E2EBFA;\n",
              "        box-shadow: 0px 1px 2px rgba(60, 64, 67, 0.3), 0px 1px 3px 1px rgba(60, 64, 67, 0.15);\n",
              "        fill: #174EA6;\n",
              "      }\n",
              "\n",
              "      [theme=dark] .colab-df-generate {\n",
              "        background-color: #3B4455;\n",
              "        fill: #D2E3FC;\n",
              "      }\n",
              "\n",
              "      [theme=dark] .colab-df-generate:hover {\n",
              "        background-color: #434B5C;\n",
              "        box-shadow: 0px 1px 3px 1px rgba(0, 0, 0, 0.15);\n",
              "        filter: drop-shadow(0px 1px 2px rgba(0, 0, 0, 0.3));\n",
              "        fill: #FFFFFF;\n",
              "      }\n",
              "    </style>\n",
              "    <button class=\"colab-df-generate\" onclick=\"generateWithVariable('Data_subset')\"\n",
              "            title=\"Generate code using this dataframe.\"\n",
              "            style=\"display:none;\">\n",
              "\n",
              "  <svg xmlns=\"http://www.w3.org/2000/svg\" height=\"24px\"viewBox=\"0 0 24 24\"\n",
              "       width=\"24px\">\n",
              "    <path d=\"M7,19H8.4L18.45,9,17,7.55,7,17.6ZM5,21V16.75L18.45,3.32a2,2,0,0,1,2.83,0l1.4,1.43a1.91,1.91,0,0,1,.58,1.4,1.91,1.91,0,0,1-.58,1.4L9.25,21ZM18.45,9,17,7.55Zm-12,3A5.31,5.31,0,0,0,4.9,8.1,5.31,5.31,0,0,0,1,6.5,5.31,5.31,0,0,0,4.9,4.9,5.31,5.31,0,0,0,6.5,1,5.31,5.31,0,0,0,8.1,4.9,5.31,5.31,0,0,0,12,6.5,5.46,5.46,0,0,0,6.5,12Z\"/>\n",
              "  </svg>\n",
              "    </button>\n",
              "    <script>\n",
              "      (() => {\n",
              "      const buttonEl =\n",
              "        document.querySelector('#id_314c894a-c89b-4bea-b84c-699efc232ed5 button.colab-df-generate');\n",
              "      buttonEl.style.display =\n",
              "        google.colab.kernel.accessAllowed ? 'block' : 'none';\n",
              "\n",
              "      buttonEl.onclick = () => {\n",
              "        google.colab.notebook.generateWithVariable('Data_subset');\n",
              "      }\n",
              "      })();\n",
              "    </script>\n",
              "  </div>\n",
              "\n",
              "    </div>\n",
              "  </div>\n"
            ],
            "application/vnd.google.colaboratory.intrinsic+json": {
              "type": "dataframe",
              "variable_name": "Data_subset",
              "summary": "{\n  \"name\": \"Data_subset\",\n  \"rows\": 4897,\n  \"fields\": [\n    {\n      \"column\": \"sold_price\",\n      \"properties\": {\n        \"dtype\": \"number\",\n        \"std\": 308877.2384085967,\n        \"min\": 300000.0,\n        \"max\": 5300000.0,\n        \"num_unique_values\": 1083,\n        \"samples\": [\n          1831392.0,\n          802300.0,\n          665000.0\n        ],\n        \"semantic_type\": \"\",\n        \"description\": \"\"\n      }\n    },\n    {\n      \"column\": \"longitude\",\n      \"properties\": {\n        \"dtype\": \"number\",\n        \"std\": 0.11993509540002618,\n        \"min\": -112.520168,\n        \"max\": -109.454637,\n        \"num_unique_values\": 4677,\n        \"samples\": [\n          -111.035665,\n          -111.096767,\n          -110.85849\n        ],\n        \"semantic_type\": \"\",\n        \"description\": \"\"\n      }\n    },\n    {\n      \"column\": \"latitude\",\n      \"properties\": {\n        \"dtype\": \"number\",\n        \"std\": 0.16279657628208652,\n        \"min\": 31.356362,\n        \"max\": 34.927884,\n        \"num_unique_values\": 4731,\n        \"samples\": [\n          32.31351,\n          31.791327,\n          32.467716\n        ],\n        \"semantic_type\": \"\",\n        \"description\": \"\"\n      }\n    },\n    {\n      \"column\": \"lot_acres\",\n      \"properties\": {\n        \"dtype\": \"number\",\n        \"std\": 43.404720824415705,\n        \"min\": 0.0,\n        \"max\": 2154.0,\n        \"num_unique_values\": 629,\n        \"samples\": [\n          3.61,\n          8.46,\n          5.58\n        ],\n        \"semantic_type\": \"\",\n        \"description\": \"\"\n      }\n    },\n    {\n      \"column\": \"taxes\",\n      \"properties\": {\n        \"dtype\": \"number\",\n        \"std\": 174745.8356837727,\n        \"min\": 0.0,\n        \"max\": 12215075.0,\n        \"num_unique_values\": 4649,\n        \"samples\": [\n          2334.0,\n          11809.0,\n          1286.59\n        ],\n        \"semantic_type\": \"\",\n        \"description\": \"\"\n      }\n    },\n    {\n      \"column\": \"year_built\",\n      \"properties\": {\n        \"dtype\": \"number\",\n        \"std\": 66,\n        \"min\": 0,\n        \"max\": 2019,\n        \"num_unique_values\": 112,\n        \"samples\": [\n          1928,\n          1961,\n          1999\n        ],\n        \"semantic_type\": \"\",\n        \"description\": \"\"\n      }\n    },\n    {\n      \"column\": \"bedrooms\",\n      \"properties\": {\n        \"dtype\": \"number\",\n        \"std\": 0,\n        \"min\": 1,\n        \"max\": 19,\n        \"num_unique_values\": 13,\n        \"samples\": [\n          10,\n          19,\n          13\n        ],\n        \"semantic_type\": \"\",\n        \"description\": \"\"\n      }\n    },\n    {\n      \"column\": \"bathrooms\",\n      \"properties\": {\n        \"dtype\": \"number\",\n        \"std\": 1.1494266207846646,\n        \"min\": 1.0,\n        \"max\": 36.0,\n        \"num_unique_values\": 17,\n        \"samples\": [\n          10.0,\n          2.0,\n          8.0\n        ],\n        \"semantic_type\": \"\",\n        \"description\": \"\"\n      }\n    },\n    {\n      \"column\": \"sqrt_ft\",\n      \"properties\": {\n        \"dtype\": \"number\",\n        \"std\": 1042.1511766798028,\n        \"min\": 1100.0,\n        \"max\": 13000.0,\n        \"num_unique_values\": 2341,\n        \"samples\": [\n          3914.0,\n          4515.0,\n          3440.0\n        ],\n        \"semantic_type\": \"\",\n        \"description\": \"\"\n      }\n    },\n    {\n      \"column\": \"garage\",\n      \"properties\": {\n        \"dtype\": \"number\",\n        \"std\": 1.1924922073608857,\n        \"min\": 0.0,\n        \"max\": 30.0,\n        \"num_unique_values\": 21,\n        \"samples\": [\n          0.0,\n          10.0,\n          30.0\n        ],\n        \"semantic_type\": \"\",\n        \"description\": \"\"\n      }\n    },\n    {\n      \"column\": \"fireplaces\",\n      \"properties\": {\n        \"dtype\": \"number\",\n        \"std\": 1,\n        \"min\": 0,\n        \"max\": 9,\n        \"num_unique_values\": 10,\n        \"samples\": [\n          9,\n          5,\n          3\n        ],\n        \"semantic_type\": \"\",\n        \"description\": \"\"\n      }\n    },\n    {\n      \"column\": \"HOA\",\n      \"properties\": {\n        \"dtype\": \"number\",\n        \"std\": 86.52813720643452,\n        \"min\": 0.0,\n        \"max\": 925.0,\n        \"num_unique_values\": 360,\n        \"samples\": [\n          33.33,\n          127.0,\n          58.36\n        ],\n        \"semantic_type\": \"\",\n        \"description\": \"\"\n      }\n    },\n    {\n      \"column\": \"sold_price_normal\",\n      \"properties\": {\n        \"dtype\": \"number\",\n        \"std\": 0.9999894573920318,\n        \"min\": -1.53,\n        \"max\": 14.66,\n        \"num_unique_values\": 378,\n        \"samples\": [\n          -0.15,\n          -0.49,\n          -0.5\n        ],\n        \"semantic_type\": \"\",\n        \"description\": \"\"\n      }\n    },\n    {\n      \"column\": \"sqrt_ft_normal\",\n      \"properties\": {\n        \"dtype\": \"number\",\n        \"std\": 1.0000179531367464,\n        \"min\": -2.5,\n        \"max\": 8.92,\n        \"num_unique_values\": 501,\n        \"samples\": [\n          -1.0,\n          -0.08,\n          -0.66\n        ],\n        \"semantic_type\": \"\",\n        \"description\": \"\"\n      }\n    },\n    {\n      \"column\": \"pps\",\n      \"properties\": {\n        \"dtype\": \"number\",\n        \"std\": 59.55800413675843,\n        \"min\": 56.652456809513126,\n        \"max\": 712.7882599580713,\n        \"num_unique_values\": 4764,\n        \"samples\": [\n          273.45918933925594,\n          184.27518427518427,\n          186.55902247436177\n        ],\n        \"semantic_type\": \"\",\n        \"description\": \"\"\n      }\n    },\n    {\n      \"column\": \"zipcode\",\n      \"properties\": {\n        \"dtype\": \"number\",\n        \"std\": 36,\n        \"min\": 85118,\n        \"max\": 86323,\n        \"num_unique_values\": 53,\n        \"samples\": [\n          85743,\n          86323,\n          85713\n        ],\n        \"semantic_type\": \"\",\n        \"description\": \"\"\n      }\n    },\n    {\n      \"column\": \"bin_label\",\n      \"properties\": {\n        \"dtype\": \"number\",\n        \"std\": 1.223663449291015,\n        \"min\": 1.0,\n        \"max\": 14.0,\n        \"num_unique_values\": 14,\n        \"samples\": [\n          4.0,\n          2.0,\n          10.0\n        ],\n        \"semantic_type\": \"\",\n        \"description\": \"\"\n      }\n    }\n  ]\n}"
            }
          },
          "metadata": {},
          "execution_count": 547
        }
      ],
      "source": [
        "Data_subset"
      ]
    },
    {
      "cell_type": "code",
      "execution_count": null,
      "metadata": {
        "id": "zLObHakjfhS8"
      },
      "outputs": [],
      "source": [
        "X = Data_subset.to_numpy()"
      ]
    },
    {
      "cell_type": "code",
      "execution_count": null,
      "metadata": {
        "colab": {
          "base_uri": "https://localhost:8080/"
        },
        "id": "7ev8oQMMfhPx",
        "outputId": "9392b4d8-a839-4b19-b57e-01b097a12c86"
      },
      "outputs": [
        {
          "output_type": "execute_result",
          "data": {
            "text/plain": [
              "array([[ 5.30000000e+06, -1.10378200e+02,  3.13563620e+01, ...,\n",
              "         5.04761905e+02,  8.56370000e+04,  1.00000000e+01],\n",
              "       [ 4.20000000e+06, -1.11045371e+02,  3.15942130e+01, ...,\n",
              "         5.75342466e+02,  8.56460000e+04,  1.10000000e+01],\n",
              "       [ 4.50000000e+06, -1.11035925e+02,  3.16458780e+01, ...,\n",
              "         4.98946668e+02,  8.56460000e+04,  9.00000000e+00],\n",
              "       ...,\n",
              "       [ 5.50000000e+05, -1.10858556e+02,  3.23163730e+01, ...,\n",
              "         2.37273512e+02,  8.57500000e+04,  4.00000000e+00],\n",
              "       [ 4.75000000e+05, -1.10755428e+02,  3.29647080e+01, ...,\n",
              "         2.68058691e+02,  8.51920000e+04,  5.00000000e+00],\n",
              "       [ 5.50000000e+05, -1.11055528e+02,  3.22968710e+01, ...,\n",
              "         1.47690655e+02,  8.57450000e+04,  2.00000000e+00]])"
            ]
          },
          "metadata": {},
          "execution_count": 549
        }
      ],
      "source": [
        "X"
      ]
    },
    {
      "cell_type": "code",
      "source": [
        "X.shape"
      ],
      "metadata": {
        "colab": {
          "base_uri": "https://localhost:8080/"
        },
        "id": "Uyynny7TkSb8",
        "outputId": "1fc4ca92-fe55-4a1f-a1b6-42a963af5575"
      },
      "execution_count": null,
      "outputs": [
        {
          "output_type": "execute_result",
          "data": {
            "text/plain": [
              "(4897, 17)"
            ]
          },
          "metadata": {},
          "execution_count": 550
        }
      ]
    },
    {
      "cell_type": "code",
      "execution_count": null,
      "metadata": {
        "id": "Y_zTcS95gNAV"
      },
      "outputs": [],
      "source": [
        "y = X[:, -1]"
      ]
    },
    {
      "cell_type": "code",
      "execution_count": null,
      "metadata": {
        "id": "N26SwEE9oPsE"
      },
      "outputs": [],
      "source": [
        "y = y.astype(int)"
      ]
    },
    {
      "cell_type": "code",
      "execution_count": null,
      "metadata": {
        "colab": {
          "base_uri": "https://localhost:8080/"
        },
        "id": "4VR_WzQJgM9Q",
        "outputId": "e190a6ed-d8b2-43cf-b177-84e838294f6e"
      },
      "outputs": [
        {
          "output_type": "execute_result",
          "data": {
            "text/plain": [
              "array([10, 11,  9, ...,  4,  5,  2])"
            ]
          },
          "metadata": {},
          "execution_count": 553
        }
      ],
      "source": [
        "y"
      ]
    },
    {
      "cell_type": "code",
      "source": [
        "#X = X[:, :-1]"
      ],
      "metadata": {
        "id": "E5knyp3OkK4k"
      },
      "execution_count": null,
      "outputs": []
    },
    {
      "cell_type": "code",
      "source": [
        "X.shape"
      ],
      "metadata": {
        "colab": {
          "base_uri": "https://localhost:8080/"
        },
        "id": "9dQM7cYekYsc",
        "outputId": "a2e7bf97-cb42-4c89-e711-ed5666b642f4"
      },
      "execution_count": null,
      "outputs": [
        {
          "output_type": "execute_result",
          "data": {
            "text/plain": [
              "(4897, 17)"
            ]
          },
          "metadata": {},
          "execution_count": 555
        }
      ]
    },
    {
      "cell_type": "code",
      "source": [
        "X1 = X[:,:-1]"
      ],
      "metadata": {
        "id": "mmbyUcX_Rc_J"
      },
      "execution_count": null,
      "outputs": []
    },
    {
      "cell_type": "code",
      "execution_count": null,
      "metadata": {
        "id": "viUkzQ1I0gCi"
      },
      "outputs": [],
      "source": [
        "X_train = X1[:int(0.8 * len(X))]"
      ]
    },
    {
      "cell_type": "code",
      "execution_count": null,
      "metadata": {
        "id": "cnWCdu7B7sJJ"
      },
      "outputs": [],
      "source": [
        "y_train =y[:int(0.8* len(y))]"
      ]
    },
    {
      "cell_type": "code",
      "execution_count": null,
      "metadata": {
        "id": "-hdapQsw8A9k"
      },
      "outputs": [],
      "source": [
        "X_test = X1[int(0.8 * len(X)):]"
      ]
    },
    {
      "cell_type": "code",
      "source": [
        "y_test = y[int(0.8 * len(y)):]"
      ],
      "metadata": {
        "id": "27V1SUR5Q5qh"
      },
      "execution_count": null,
      "outputs": []
    },
    {
      "cell_type": "code",
      "source": [
        "X1_test = X_test[:, (1,2,15,5,6,7,9,10,11)]"
      ],
      "metadata": {
        "id": "oV9ApB7-RuhD"
      },
      "execution_count": null,
      "outputs": []
    },
    {
      "cell_type": "code",
      "execution_count": null,
      "metadata": {
        "id": "UX70YuBpgM7V"
      },
      "outputs": [],
      "source": [
        "X1_train = X_train[:, (1,2,15,5,6,7,9,10,11)]"
      ]
    },
    {
      "cell_type": "code",
      "source": [
        "X1_test.shape"
      ],
      "metadata": {
        "colab": {
          "base_uri": "https://localhost:8080/"
        },
        "id": "vqx3yzbMP2zs",
        "outputId": "d2955cd7-226d-4bfa-9bf0-7eb2efa86bdc"
      },
      "execution_count": null,
      "outputs": [
        {
          "output_type": "execute_result",
          "data": {
            "text/plain": [
              "(980, 9)"
            ]
          },
          "metadata": {},
          "execution_count": 563
        }
      ]
    },
    {
      "cell_type": "code",
      "source": [
        "y_test.shape"
      ],
      "metadata": {
        "colab": {
          "base_uri": "https://localhost:8080/"
        },
        "id": "iHR5XZ5gSd9R",
        "outputId": "d9e9f0dc-18af-40d0-823a-56b2ed9ea4d6"
      },
      "execution_count": null,
      "outputs": [
        {
          "output_type": "execute_result",
          "data": {
            "text/plain": [
              "(980,)"
            ]
          },
          "metadata": {},
          "execution_count": 564
        }
      ]
    },
    {
      "cell_type": "code",
      "source": [
        "X1_train"
      ],
      "metadata": {
        "colab": {
          "base_uri": "https://localhost:8080/"
        },
        "id": "8KRjCr8r2qbn",
        "outputId": "31225ad8-5768-4202-ab61-0e503b9c6c87"
      },
      "execution_count": null,
      "outputs": [
        {
          "output_type": "execute_result",
          "data": {
            "text/plain": [
              "array([[-1.10378200e+02,  3.13563620e+01,  8.56370000e+04, ...,\n",
              "         0.00000000e+00,  6.00000000e+00,  0.00000000e+00],\n",
              "       [-1.11045371e+02,  3.15942130e+01,  8.56460000e+04, ...,\n",
              "         0.00000000e+00,  5.00000000e+00,  0.00000000e+00],\n",
              "       [-1.11035925e+02,  3.16458780e+01,  8.56460000e+04, ...,\n",
              "         4.00000000e+00,  4.00000000e+00,  8.26205900e+01],\n",
              "       ...,\n",
              "       [-1.10844128e+02,  3.23254630e+01,  8.57500000e+04, ...,\n",
              "         2.00000000e+00,  1.00000000e+00,  1.50000000e+02],\n",
              "       [-1.10985768e+02,  3.24643050e+01,  8.57550000e+04, ...,\n",
              "         3.00000000e+00,  0.00000000e+00,  4.87880000e+02],\n",
              "       [-1.10995754e+02,  3.23315720e+01,  8.57040000e+04, ...,\n",
              "         3.00000000e+00,  1.00000000e+00,  8.26205900e+01]])"
            ]
          },
          "metadata": {},
          "execution_count": 565
        }
      ]
    },
    {
      "cell_type": "code",
      "execution_count": null,
      "metadata": {
        "colab": {
          "base_uri": "https://localhost:8080/"
        },
        "id": "ZqSp-aFD8d2Q",
        "outputId": "ba57f475-9f03-4928-bfe0-9774414d0ce1"
      },
      "outputs": [
        {
          "output_type": "execute_result",
          "data": {
            "text/plain": [
              "(3917, 9)"
            ]
          },
          "metadata": {},
          "execution_count": 566
        }
      ],
      "source": [
        "X1_train.shape"
      ]
    },
    {
      "cell_type": "code",
      "execution_count": null,
      "metadata": {
        "colab": {
          "base_uri": "https://localhost:8080/"
        },
        "id": "0hyESjyTo-nR",
        "outputId": "24002316-9d33-40be-d5fe-d53ea6ffa464"
      },
      "outputs": [
        {
          "output_type": "execute_result",
          "data": {
            "text/plain": [
              "dtype('float64')"
            ]
          },
          "metadata": {},
          "execution_count": 567
        }
      ],
      "source": [
        "X1_train.dtype"
      ]
    },
    {
      "cell_type": "code",
      "execution_count": null,
      "metadata": {
        "colab": {
          "base_uri": "https://localhost:8080/"
        },
        "id": "uOCrxZXlgM5Z",
        "outputId": "5f237eff-10d3-4e61-ede8-006260869f1e"
      },
      "outputs": [
        {
          "output_type": "execute_result",
          "data": {
            "text/plain": [
              "(3917,)"
            ]
          },
          "metadata": {},
          "execution_count": 568
        }
      ],
      "source": [
        "y_train.shape"
      ]
    },
    {
      "cell_type": "code",
      "source": [
        "#N = y_test.size\n",
        "#D = X1_test.shape[1]"
      ],
      "metadata": {
        "id": "jEW0qEO6uJ3u"
      },
      "execution_count": null,
      "outputs": []
    },
    {
      "cell_type": "markdown",
      "source": [
        "#KNN Classifier"
      ],
      "metadata": {
        "id": "YoLdbpmUnPD4"
      }
    },
    {
      "cell_type": "code",
      "execution_count": null,
      "metadata": {
        "id": "w6L8uNR58IOS"
      },
      "outputs": [],
      "source": [
        "class KNNClassifier():\n",
        "\n",
        "  def fit(self, X,y):\n",
        "    self.X = X\n",
        "    self.y = y\n",
        "\n",
        "  def predict (self, X, K, epsilon = 1e-3):\n",
        "    N = y_test.size\n",
        "    D = X_test.shape[1]\n",
        "    N = len(X)\n",
        "    y_hat = np.zeros(N)\n",
        "\n",
        "    for i in range(N):\n",
        "      dist2 = np.sum((self.X-X[i])**2, axis=1)\n",
        "      idxt = np.argsort(dist2)[:K]\n",
        "      gamma_k = 1/(np.sqrt(dist2[idxt]+epsilon))\n",
        "\n",
        "      y_hat[i] = np.bincount(self.y[idxt],weights = gamma_k).argmax()\n",
        "\n",
        "    return y_hat"
      ]
    },
    {
      "cell_type": "code",
      "execution_count": null,
      "metadata": {
        "id": "E3ZjKhBhnF1q"
      },
      "outputs": [],
      "source": [
        "knn_instance = KNNClassifier()"
      ]
    },
    {
      "cell_type": "code",
      "execution_count": null,
      "metadata": {
        "id": "UHr-UMOJnFzt"
      },
      "outputs": [],
      "source": [
        "knn_instance.fit(X1_train,y_train)"
      ]
    },
    {
      "cell_type": "code",
      "execution_count": null,
      "metadata": {
        "id": "C574wgsEnFvy"
      },
      "outputs": [],
      "source": [
        "def accuracy(y,y_hat):\n",
        "  return np.mean(y==y_hat)"
      ]
    },
    {
      "cell_type": "code",
      "execution_count": null,
      "metadata": {
        "id": "h-rroyRFnFxu"
      },
      "outputs": [],
      "source": [
        "y_hat_test = knn_instance.predict(X1_test, K= 30)"
      ]
    },
    {
      "cell_type": "code",
      "execution_count": null,
      "metadata": {
        "id": "Ko8tmdAinFkG",
        "colab": {
          "base_uri": "https://localhost:8080/"
        },
        "outputId": "cf9ca7e1-72c1-4abf-e550-274abddcc31a"
      },
      "outputs": [
        {
          "output_type": "execute_result",
          "data": {
            "text/plain": [
              "np.float64(0.47959183673469385)"
            ]
          },
          "metadata": {},
          "execution_count": 575
        }
      ],
      "source": [
        "accuracy(y_test, y_hat_test)"
      ]
    },
    {
      "cell_type": "code",
      "source": [
        "bin_test = y_hat_test.reshape(-1, 1)"
      ],
      "metadata": {
        "id": "KrtI0IHJTxh3"
      },
      "execution_count": null,
      "outputs": []
    },
    {
      "cell_type": "code",
      "source": [
        "y_hat_train = knn_instance.predict(X1_train, K =30)"
      ],
      "metadata": {
        "id": "KGtJV3BotNwf"
      },
      "execution_count": null,
      "outputs": []
    },
    {
      "cell_type": "code",
      "source": [
        "accuracy(y_train, y_hat_train)"
      ],
      "metadata": {
        "id": "APb_aOGstNlS",
        "colab": {
          "base_uri": "https://localhost:8080/"
        },
        "outputId": "e35640d6-4333-48d6-9980-3f4594844f89"
      },
      "execution_count": null,
      "outputs": [
        {
          "output_type": "execute_result",
          "data": {
            "text/plain": [
              "np.float64(0.9839162624457493)"
            ]
          },
          "metadata": {},
          "execution_count": 578
        }
      ]
    },
    {
      "cell_type": "code",
      "source": [
        "y_hat_train"
      ],
      "metadata": {
        "id": "6LiCrchgfnQO",
        "colab": {
          "base_uri": "https://localhost:8080/"
        },
        "outputId": "36aca202-6626-47e6-fe64-aabb5f403de8"
      },
      "execution_count": null,
      "outputs": [
        {
          "output_type": "execute_result",
          "data": {
            "text/plain": [
              "array([10., 11.,  9., ...,  4.,  5.,  4.])"
            ]
          },
          "metadata": {},
          "execution_count": 579
        }
      ]
    },
    {
      "cell_type": "code",
      "source": [
        "y_hat_train1 = y_hat_train.reshape(-1, 1)"
      ],
      "metadata": {
        "id": "tlcukbLHiYD6"
      },
      "execution_count": null,
      "outputs": []
    },
    {
      "cell_type": "code",
      "source": [
        "bin = y_hat_train1.astype(int)"
      ],
      "metadata": {
        "id": "ojGXJiGdfryP"
      },
      "execution_count": null,
      "outputs": []
    },
    {
      "cell_type": "code",
      "source": [
        "bin"
      ],
      "metadata": {
        "id": "XxpY_FoqfyTS",
        "colab": {
          "base_uri": "https://localhost:8080/"
        },
        "outputId": "ee03faeb-9ef9-4b05-d64e-1718392dc53a"
      },
      "execution_count": null,
      "outputs": [
        {
          "output_type": "execute_result",
          "data": {
            "text/plain": [
              "array([[10],\n",
              "       [11],\n",
              "       [ 9],\n",
              "       ...,\n",
              "       [ 4],\n",
              "       [ 5],\n",
              "       [ 4]])"
            ]
          },
          "metadata": {},
          "execution_count": 582
        }
      ]
    },
    {
      "cell_type": "code",
      "source": [
        "bin.shape"
      ],
      "metadata": {
        "id": "k5x8JKfNDEeR",
        "colab": {
          "base_uri": "https://localhost:8080/"
        },
        "outputId": "f30cc51f-be33-4880-e893-6192c4f80459"
      },
      "execution_count": null,
      "outputs": [
        {
          "output_type": "execute_result",
          "data": {
            "text/plain": [
              "(3917, 1)"
            ]
          },
          "metadata": {},
          "execution_count": 583
        }
      ]
    },
    {
      "cell_type": "code",
      "source": [
        "#X_train = np.hstack((X_train, bin))"
      ],
      "metadata": {
        "id": "i9fAbAOihSj3"
      },
      "execution_count": null,
      "outputs": []
    },
    {
      "cell_type": "code",
      "source": [
        "X_train.shape"
      ],
      "metadata": {
        "id": "iAsr9nYzgAkZ",
        "colab": {
          "base_uri": "https://localhost:8080/"
        },
        "outputId": "8129c53f-c00f-4948-e38f-dbfb70307877"
      },
      "execution_count": null,
      "outputs": [
        {
          "output_type": "execute_result",
          "data": {
            "text/plain": [
              "(3917, 16)"
            ]
          },
          "metadata": {},
          "execution_count": 585
        }
      ]
    },
    {
      "cell_type": "markdown",
      "source": [
        "#MultiVariate Linear Regression"
      ],
      "metadata": {
        "id": "A9ag8UoVuorY"
      }
    },
    {
      "cell_type": "code",
      "source": [
        "def MAE(Y, Y_hat):\n",
        "  return np.sum(np.abs((Y-Y_hat)))/len(Y)\n",
        "\n",
        "def R2(Y, Y_hat):\n",
        "  N = len(Y)\n",
        "  return 1-((np.sum((Y-Y_hat)**2)/np.sum((Y_hat-np.mean(Y))**2)))\n",
        "\n",
        "def OLS(Y, Y_hat, N):\n",
        "  return ((1/(2*N))*np.sum((Y-Y_hat)**2))"
      ],
      "metadata": {
        "id": "ThIkOn8b8DCZ"
      },
      "execution_count": null,
      "outputs": []
    },
    {
      "cell_type": "code",
      "source": [
        "class MVLinearRegression():\n",
        "\n",
        "\n",
        "  def fit(self, X, y, eta = 1e-3, epochs = 1e3, show_curve = True):\n",
        "\n",
        "    epochs = int(epochs)\n",
        "    N, D = X.shape\n",
        "    Y = y\n",
        "    #Begin SGD\n",
        "    self.W = np.random.randn(D) * 0.01\n",
        "    self.J = np.zeros(epochs)\n",
        "    # Begin SGD Progression\n",
        "    for epoch in range(epochs):\n",
        "      Y_hat = self.predict(X)\n",
        "      self.J[epoch] = OLS(Y, Y_hat, N)\n",
        "      self.W = self.W - (eta/N)*(X.T@(Y_hat-Y))\n",
        "      # Gradiant of J\n",
        "      grad=(1/N)*(X.T@(Y_hat-Y))\n",
        "      #Weight Update Rule:\n",
        "      self.W = self.W - eta*grad\n",
        "    if show_curve:\n",
        "      plt.figure()\n",
        "      plt.plot(self.J)\n",
        "      plt.xlabel(\"epochs\")\n",
        "      plt.ylabel(\"$\\mathcal{J}$\")\n",
        "      plt.title(\"Training Curve\")\n",
        "\n",
        "  def predict(self, X):\n",
        "    return X@self.W"
      ],
      "metadata": {
        "id": "B-Q83rPCuoaR"
      },
      "execution_count": null,
      "outputs": []
    },
    {
      "cell_type": "code",
      "source": [
        "#X2 = Data_cleaned[['sold_price_normal','bedrooms','bathrooms','Garages','pps']].copy().to_numpy()"
      ],
      "metadata": {
        "id": "Nl2mN-h6uoW0"
      },
      "execution_count": null,
      "outputs": []
    },
    {
      "cell_type": "code",
      "source": [
        "X_train.shape"
      ],
      "metadata": {
        "id": "KmVJZwiurcW_",
        "colab": {
          "base_uri": "https://localhost:8080/"
        },
        "outputId": "91261f9f-7493-42cf-a51e-469801766b5b"
      },
      "execution_count": null,
      "outputs": [
        {
          "output_type": "execute_result",
          "data": {
            "text/plain": [
              "(3917, 16)"
            ]
          },
          "metadata": {},
          "execution_count": 589
        }
      ]
    },
    {
      "cell_type": "code",
      "source": [
        "y_train_MV = X_train[:, 14]"
      ],
      "metadata": {
        "id": "D3d6edrCrcVJ"
      },
      "execution_count": null,
      "outputs": []
    },
    {
      "cell_type": "code",
      "source": [
        "y_train_MV"
      ],
      "metadata": {
        "id": "Lh6bgLdJrcTw",
        "colab": {
          "base_uri": "https://localhost:8080/"
        },
        "outputId": "18182c75-643e-447e-b3d4-530aae3da6f7"
      },
      "execution_count": null,
      "outputs": [
        {
          "output_type": "execute_result",
          "data": {
            "text/plain": [
              "array([504.76190476, 575.34246575, 498.94666815, ..., 214.77975974,\n",
              "       251.8362069 , 208.82971268])"
            ]
          },
          "metadata": {},
          "execution_count": 591
        }
      ]
    },
    {
      "cell_type": "code",
      "source": [
        "X_train_MV = X_train[:, (5,6,7,9,10,11,15)]"
      ],
      "metadata": {
        "id": "8Spk5tIqrcSW"
      },
      "execution_count": null,
      "outputs": []
    },
    {
      "cell_type": "code",
      "source": [
        "X_train_MV"
      ],
      "metadata": {
        "id": "89dbb1iErcQo",
        "colab": {
          "base_uri": "https://localhost:8080/"
        },
        "outputId": "824a342c-61f8-4197-aee0-f73d5064a402"
      },
      "execution_count": null,
      "outputs": [
        {
          "output_type": "execute_result",
          "data": {
            "text/plain": [
              "array([[1.941000e+03, 1.300000e+01, 1.000000e+01, ..., 6.000000e+00,\n",
              "        0.000000e+00, 8.563700e+04],\n",
              "       [1.997000e+03, 2.000000e+00, 2.000000e+00, ..., 5.000000e+00,\n",
              "        0.000000e+00, 8.564600e+04],\n",
              "       [1.930000e+03, 7.000000e+00, 5.000000e+00, ..., 4.000000e+00,\n",
              "        8.262059e+01, 8.564600e+04],\n",
              "       ...,\n",
              "       [1.999000e+03, 3.000000e+00, 3.000000e+00, ..., 1.000000e+00,\n",
              "        1.500000e+02, 8.575000e+04],\n",
              "       [2.019000e+03, 2.000000e+00, 3.000000e+00, ..., 0.000000e+00,\n",
              "        4.878800e+02, 8.575500e+04],\n",
              "       [2.003000e+03, 4.000000e+00, 4.000000e+00, ..., 1.000000e+00,\n",
              "        8.262059e+01, 8.570400e+04]])"
            ]
          },
          "metadata": {},
          "execution_count": 593
        }
      ]
    },
    {
      "cell_type": "code",
      "source": [
        "X_train_MV = np.hstack((X_train_MV, bin))"
      ],
      "metadata": {
        "id": "7CNYYFxmKuYI"
      },
      "execution_count": null,
      "outputs": []
    },
    {
      "cell_type": "code",
      "source": [
        "X_train_MV.shape, y_train_MV.shape"
      ],
      "metadata": {
        "id": "svlnHleiJ285",
        "colab": {
          "base_uri": "https://localhost:8080/"
        },
        "outputId": "a141b673-c532-4d19-f0fc-886375d87538"
      },
      "execution_count": null,
      "outputs": [
        {
          "output_type": "execute_result",
          "data": {
            "text/plain": [
              "((3917, 8), (3917,))"
            ]
          },
          "metadata": {},
          "execution_count": 595
        }
      ]
    },
    {
      "cell_type": "code",
      "source": [
        "my_reg = MVLinearRegression()"
      ],
      "metadata": {
        "id": "kZJhn_2mrcMl"
      },
      "execution_count": null,
      "outputs": []
    },
    {
      "cell_type": "code",
      "source": [
        "y_test_MV = X_test[:, 14]"
      ],
      "metadata": {
        "id": "Y-9_z41iiJJq"
      },
      "execution_count": null,
      "outputs": []
    },
    {
      "cell_type": "code",
      "source": [
        "X_test_MV = X_test[:, (5,6,7,9,10,11, 15)]"
      ],
      "metadata": {
        "id": "osMTST5MiJCV"
      },
      "execution_count": null,
      "outputs": []
    },
    {
      "cell_type": "code",
      "source": [
        "X_test_MV = np.hstack((X_test_MV, bin_test))"
      ],
      "metadata": {
        "id": "4LZNNUECTcnV"
      },
      "execution_count": null,
      "outputs": []
    },
    {
      "cell_type": "code",
      "source": [
        "X_test_MV"
      ],
      "metadata": {
        "id": "Kwnmg8VTiI-U",
        "colab": {
          "base_uri": "https://localhost:8080/"
        },
        "outputId": "a3d1e843-13b2-4e69-b8ee-5f1cf983a85d"
      },
      "execution_count": null,
      "outputs": [
        {
          "output_type": "execute_result",
          "data": {
            "text/plain": [
              "array([[1.956000e+03, 4.000000e+00, 3.000000e+00, ..., 8.262059e+01,\n",
              "        8.571800e+04, 3.000000e+00],\n",
              "       [1.996000e+03, 4.000000e+00, 4.000000e+00, ..., 2.123800e+02,\n",
              "        8.574900e+04, 3.000000e+00],\n",
              "       [1.998000e+03, 3.000000e+00, 3.000000e+00, ..., 1.800000e+02,\n",
              "        8.573900e+04, 4.000000e+00],\n",
              "       ...,\n",
              "       [1.990000e+03, 4.000000e+00, 3.000000e+00, ..., 4.300000e+01,\n",
              "        8.575000e+04, 3.000000e+00],\n",
              "       [1.969000e+03, 3.000000e+00, 2.000000e+00, ..., 8.262059e+01,\n",
              "        8.519200e+04, 3.000000e+00],\n",
              "       [2.009000e+03, 4.000000e+00, 4.000000e+00, ..., 8.262059e+01,\n",
              "        8.574500e+04, 4.000000e+00]])"
            ]
          },
          "metadata": {},
          "execution_count": 600
        }
      ]
    },
    {
      "cell_type": "code",
      "source": [
        "my_reg.fit(X_train_MV,y_train_MV,eta=2e-12, epochs=3000)"
      ],
      "metadata": {
        "id": "8Cfbp6HYrcJR",
        "colab": {
          "base_uri": "https://localhost:8080/",
          "height": 480
        },
        "outputId": "6fe547e0-4b73-4e3b-f4f5-3806e7c9ac14"
      },
      "execution_count": null,
      "outputs": [
        {
          "output_type": "display_data",
          "data": {
            "text/plain": [
              "<Figure size 640x480 with 1 Axes>"
            ],
            "image/png": "[encoded data removed]"
          },
          "metadata": {}
        }
      ]
    },
    {
      "cell_type": "code",
      "source": [
        "y_hat_train_MV = my_reg.predict(X_train_MV)"
      ],
      "metadata": {
        "id": "z4EvbQmFQ9Ze"
      },
      "execution_count": null,
      "outputs": []
    },
    {
      "cell_type": "code",
      "source": [
        "MAE(y_train_MV,y_hat_train_MV)"
      ],
      "metadata": {
        "id": "TT9FssnzQ9WM",
        "colab": {
          "base_uri": "https://localhost:8080/"
        },
        "outputId": "0b1f27b5-70d3-446f-8c5a-55a8c19e37b3"
      },
      "execution_count": null,
      "outputs": [
        {
          "output_type": "execute_result",
          "data": {
            "text/plain": [
              "np.float64(42.56980974118692)"
            ]
          },
          "metadata": {},
          "execution_count": 603
        }
      ]
    },
    {
      "cell_type": "code",
      "source": [
        "y_hat_test_MV = my_reg.predict(X_test_MV)"
      ],
      "metadata": {
        "id": "Kzx4VVrSQ9UM"
      },
      "execution_count": null,
      "outputs": []
    },
    {
      "cell_type": "code",
      "source": [
        "MAE(y_test_MV,y_hat_test_MV)"
      ],
      "metadata": {
        "id": "BKquwE0PQ9R5",
        "colab": {
          "base_uri": "https://localhost:8080/"
        },
        "outputId": "d4d63af0-6bb9-4a6a-94d0-d9674ab1f82c"
      },
      "execution_count": null,
      "outputs": [
        {
          "output_type": "execute_result",
          "data": {
            "text/plain": [
              "np.float64(40.202015599842184)"
            ]
          },
          "metadata": {},
          "execution_count": 605
        }
      ]
    },
    {
      "cell_type": "code",
      "source": [
        "class FastLR():\n",
        "  def fit(self,X,y):\n",
        "    self.W = np.linalg.solve(X.T@X,X.T@y)\n",
        "\n",
        "  def predict(self,X):\n",
        "    return np.matmul(X,self.W)\n",
        "\n",
        "fastlr = FastLR()"
      ],
      "metadata": {
        "id": "xCA4SDKarAIh"
      },
      "execution_count": null,
      "outputs": []
    },
    {
      "cell_type": "code",
      "source": [
        "fastlr.fit(X_train_MV,y_train_MV)"
      ],
      "metadata": {
        "id": "rUcWQONOq__s"
      },
      "execution_count": null,
      "outputs": []
    },
    {
      "cell_type": "code",
      "source": [
        "y_hat_train_flr = fastlr.predict(X_train_MV)"
      ],
      "metadata": {
        "id": "Yga91x_sq_74"
      },
      "execution_count": null,
      "outputs": []
    },
    {
      "cell_type": "code",
      "source": [
        "MAE(y_train_MV, y_hat_train_flr)"
      ],
      "metadata": {
        "colab": {
          "base_uri": "https://localhost:8080/"
        },
        "id": "mbgNhL7Wq_4R",
        "outputId": "6908f481-96e6-42eb-bb1b-447d04aace2a"
      },
      "execution_count": null,
      "outputs": [
        {
          "output_type": "execute_result",
          "data": {
            "text/plain": [
              "np.float64(12.527221950693752)"
            ]
          },
          "metadata": {},
          "execution_count": 609
        }
      ]
    },
    {
      "cell_type": "code",
      "source": [
        "y_hat_test_flr = fastlr.predict(X_test_MV)"
      ],
      "metadata": {
        "id": "acEVulxvrdQ9"
      },
      "execution_count": null,
      "outputs": []
    },
    {
      "cell_type": "code",
      "source": [
        "MAE(y_test_MV, y_hat_test_flr)"
      ],
      "metadata": {
        "colab": {
          "base_uri": "https://localhost:8080/"
        },
        "id": "ij_eDQZvrdFz",
        "outputId": "012281fe-d2e0-43b1-d07d-c002b88d8e03"
      },
      "execution_count": null,
      "outputs": [
        {
          "output_type": "execute_result",
          "data": {
            "text/plain": [
              "np.float64(32.84317981374097)"
            ]
          },
          "metadata": {},
          "execution_count": 611
        }
      ]
    },
    {
      "cell_type": "code",
      "source": [],
      "metadata": {
        "id": "-ywqSo93jObl"
      },
      "execution_count": null,
      "outputs": []
    },
    {
      "cell_type": "markdown",
      "source": [
        "# Price Prediction using Simple Linear Regression"
      ],
      "metadata": {
        "id": "v71-GgrGF0xD"
      }
    },
    {
      "cell_type": "code",
      "source": [
        "# Defining a function using KNN classifier and Multivariate linear regression to calcuate the sold_price\n",
        "\n",
        "def soldprice_predict_FLR_KNN(latitude, longitude, sqft, year_built, bedrooms, bathrooms, garage, fireplaces, hoa, zipcode):\n",
        "\n",
        "    #lat_long = [latitude, longitude]\n",
        "    long_lat = [longitude,latitude,year_built, bedrooms, bathrooms, garage, fireplaces, hoa, zipcode]\n",
        "\n",
        "\n",
        "    bin = knn_instance.predict(long_lat, K=20)\n",
        "    bin = bin.flatten()[0]\n",
        "\n",
        "\n",
        "    m = np.array([year_built, bedrooms, bathrooms, garage, fireplaces, hoa, zipcode])\n",
        "    m = np.append(m, bin)\n",
        "    m = m.reshape(1, -1)\n",
        "\n",
        "\n",
        "    price_per_sqft = fastlr.predict(m)\n",
        "    predicted_price = sqft*price_per_sqft\n",
        "\n",
        "\n",
        "    return predicted_price"
      ],
      "metadata": {
        "id": "6yNGjVnnr8Gw"
      },
      "execution_count": null,
      "outputs": []
    },
    {
      "cell_type": "code",
      "source": [
        "soldprice_predict_FLR_KNN(32.218900,-110.869863 ,1159,1954,3,2.0,1.0,0.0,0.0, 85711)"
      ],
      "metadata": {
        "colab": {
          "base_uri": "https://localhost:8080/"
        },
        "id": "NK2Cwx_Lr8E0",
        "outputId": "5a403294-f79e-493f-8c4a-1087e59bf649"
      },
      "execution_count": null,
      "outputs": [
        {
          "output_type": "execute_result",
          "data": {
            "text/plain": [
              "array([204970.98336039])"
            ]
          },
          "metadata": {},
          "execution_count": 613
        }
      ]
    },
    {
      "cell_type": "code",
      "source": [
        "soldprice_predict_FLR_KNN(32.28643,-110.929 ,3904,1952,4,4.0,2.0,2.0,0.0, 85718)"
      ],
      "metadata": {
        "colab": {
          "base_uri": "https://localhost:8080/"
        },
        "id": "CdWBPVKsr8Cw",
        "outputId": "adabceb8-187d-475a-b216-7ea6c7a8ec76"
      },
      "execution_count": null,
      "outputs": [
        {
          "output_type": "execute_result",
          "data": {
            "text/plain": [
              "array([687541.5133139])"
            ]
          },
          "metadata": {},
          "execution_count": 614
        }
      ]
    },
    {
      "cell_type": "code",
      "source": [
        "soldprice_predict_FLR_KNN(32.23827,-110.936 ,1909,1958,3,4,0,1,0, 85719)"
      ],
      "metadata": {
        "colab": {
          "base_uri": "https://localhost:8080/"
        },
        "id": "UgvHGJEjr8A3",
        "outputId": "1881e3db-8793-4385-cafe-68da07adfb11"
      },
      "execution_count": null,
      "outputs": [
        {
          "output_type": "execute_result",
          "data": {
            "text/plain": [
              "array([338097.87641377])"
            ]
          },
          "metadata": {},
          "execution_count": 615
        }
      ]
    },
    {
      "cell_type": "markdown",
      "source": [
        "#Test function"
      ],
      "metadata": {
        "id": "OEg8gqSgsNqV"
      }
    },
    {
      "cell_type": "markdown",
      "source": [
        "## For Sqft Prediction"
      ],
      "metadata": {
        "id": "qArdLg6hsKUB"
      }
    },
    {
      "cell_type": "code",
      "source": [
        "# Defining a function using KNN classifier and Multivariate linear regression to calcuate the sqft\n",
        "\n",
        "def sqft_predict_MV_KNN(longitude, latitude, sold_price, year_built, bedrooms, bathrooms, garage, fireplaces, hoa, zipcode):\n",
        "\n",
        "    lat_long = [latitude, longitude,year_built, bedrooms, bathrooms, garage, fireplaces, hoa, zipcode]\n",
        "\n",
        "\n",
        "    bin = knn_instance.predict(lat_long, K=20)\n",
        "    bin = bin.flatten()[0]\n",
        "\n",
        "\n",
        "    m = np.array([year_built, bedrooms, bathrooms, garage, fireplaces, hoa, zipcode])\n",
        "    m = np.append(m, bin)\n",
        "    m = m.reshape(1, -1)\n",
        "\n",
        "\n",
        "    price_per_sqft = my_reg.predict(m)\n",
        "    predicted_sqft = sold_price/price_per_sqft\n",
        "\n",
        "\n",
        "    return predicted_sqft"
      ],
      "metadata": {
        "id": "d9uXQKynQ9Ph"
      },
      "execution_count": null,
      "outputs": []
    },
    {
      "cell_type": "code",
      "source": [
        "sqft_predict_MV_KNN(-110.378200,31.356362,5300000.0,1941,13,10.0,0.0,6.0,0.0, 85637)"
      ],
      "metadata": {
        "id": "JR2cjT_LQ9NQ",
        "colab": {
          "base_uri": "https://localhost:8080/"
        },
        "outputId": "ed165da7-0bd0-4164-8f27-d912593db510"
      },
      "execution_count": null,
      "outputs": [
        {
          "output_type": "execute_result",
          "data": {
            "text/plain": [
              "array([24274.12841894])"
            ]
          },
          "metadata": {},
          "execution_count": 617
        }
      ]
    },
    {
      "cell_type": "markdown",
      "source": [
        "## For Sold_Price Prediction"
      ],
      "metadata": {
        "id": "heACp7hjsGNt"
      }
    },
    {
      "cell_type": "code",
      "source": [
        "\n",
        "# Defining a function using KNN classifier and Multivariate linear regression to calcuate the sold_price\n",
        "\n",
        "def soldprice_predict_MV_KNN(latitude, longitude, sqft, year_built, bedrooms, bathrooms, garage, fireplaces, hoa, zipcode):\n",
        "\n",
        "    #lat_long = [latitude, longitude]\n",
        "    long_lat = [longitude,latitude, year_built, bedrooms, bathrooms, garage, fireplaces, hoa, zipcode]\n",
        "\n",
        "\n",
        "    bin = knn_instance.predict(long_lat, K=20)\n",
        "    bin = bin.flatten()[0]\n",
        "\n",
        "\n",
        "    m = np.array([year_built, bedrooms, bathrooms, garage, fireplaces, hoa, zipcode])\n",
        "    m = np.append(m, bin)\n",
        "    m = m.reshape(1, -1)\n",
        "\n",
        "\n",
        "    price_per_sqft = my_reg.predict(m)\n",
        "    predicted_price = sqft*price_per_sqft\n",
        "\n",
        "\n",
        "    return predicted_price"
      ],
      "metadata": {
        "id": "cJdn2_CydBvL"
      },
      "execution_count": null,
      "outputs": []
    },
    {
      "cell_type": "code",
      "source": [
        "soldprice_predict_MV_KNN(-110.378200,31.356362,10500,1941,13,10.0,0.0,6.0,0.0, 85637)"
      ],
      "metadata": {
        "colab": {
          "base_uri": "https://localhost:8080/"
        },
        "id": "KD3zfE1LctMK",
        "outputId": "adcd789f-888a-4543-9b7b-48fa788ec50d"
      },
      "execution_count": null,
      "outputs": [
        {
          "output_type": "execute_result",
          "data": {
            "text/plain": [
              "array([2292564.29065344])"
            ]
          },
          "metadata": {},
          "execution_count": 619
        }
      ]
    },
    {
      "cell_type": "code",
      "source": [
        "soldprice_predict_MV_KNN(32.218900,-110.869863 ,1159,1954,3,2.0,1.0,0.0,0.0, 85711)"
      ],
      "metadata": {
        "colab": {
          "base_uri": "https://localhost:8080/"
        },
        "id": "ogrI2U-hdu8F",
        "outputId": "de745031-7aa0-424e-c759-cb362882bf5f"
      },
      "execution_count": null,
      "outputs": [
        {
          "output_type": "execute_result",
          "data": {
            "text/plain": [
              "array([253001.48513286])"
            ]
          },
          "metadata": {},
          "execution_count": 620
        }
      ]
    },
    {
      "cell_type": "code",
      "source": [
        "soldprice_predict_MV_KNN(32.28643,-110.929 ,3904,1952,4,4.0,2.0,2.0,0.0, 85718)"
      ],
      "metadata": {
        "id": "apYI0GZbfHop",
        "colab": {
          "base_uri": "https://localhost:8080/"
        },
        "outputId": "7aaa6d84-5c08-4ad9-b70d-4abf1b3431c5"
      },
      "execution_count": null,
      "outputs": [
        {
          "output_type": "execute_result",
          "data": {
            "text/plain": [
              "array([852453.49829854])"
            ]
          },
          "metadata": {},
          "execution_count": 621
        }
      ]
    },
    {
      "cell_type": "code",
      "source": [
        "soldprice_predict_MV_KNN(32.23827,-110.936 ,1909,1958,3,4,0,1,0, 85719)"
      ],
      "metadata": {
        "colab": {
          "base_uri": "https://localhost:8080/"
        },
        "id": "3TBuNnFQojX3",
        "outputId": "b45f68fe-ed67-4fb2-ad18-8249a854eaad"
      },
      "execution_count": null,
      "outputs": [
        {
          "output_type": "execute_result",
          "data": {
            "text/plain": [
              "array([416803.13221361])"
            ]
          },
          "metadata": {},
          "execution_count": 622
        }
      ]
    },
    {
      "cell_type": "code",
      "source": [
        "soldprice_predict_MV_KNN(32.1435337, -110.9122849, 1642, 2001, 4,2,2,0,22,85706)"
      ],
      "metadata": {
        "colab": {
          "base_uri": "https://localhost:8080/"
        },
        "id": "lfVrDl8rp22S",
        "outputId": "64c7fd4a-aa0a-4620-fc7d-2ce4faf1976b"
      },
      "execution_count": null,
      "outputs": [
        {
          "output_type": "execute_result",
          "data": {
            "text/plain": [
              "array([358079.88255536])"
            ]
          },
          "metadata": {},
          "execution_count": 623
        }
      ]
    },
    {
      "cell_type": "code",
      "source": [
        "soldprice_predict_FLR_KNN(32.1435337, -110.9122849, 1642, 2001, 4,2,2,0,22,85706)"
      ],
      "metadata": {
        "colab": {
          "base_uri": "https://localhost:8080/"
        },
        "id": "eAhUsI2y8tqF",
        "outputId": "34f42c98-d6b1-4a20-e5c2-2b04b56caece"
      },
      "execution_count": null,
      "outputs": [
        {
          "output_type": "execute_result",
          "data": {
            "text/plain": [
              "array([288696.37503258])"
            ]
          },
          "metadata": {},
          "execution_count": 624
        }
      ]
    },
    {
      "cell_type": "code",
      "source": [
        "test_KNN1 = knn_instance.predict((-110.9122849, 32.1435337), K= 200)"
      ],
      "metadata": {
        "id": "u8d3vYQ59Pkq"
      },
      "execution_count": null,
      "outputs": []
    },
    {
      "cell_type": "code",
      "source": [
        "test_KNN1"
      ],
      "metadata": {
        "colab": {
          "base_uri": "https://localhost:8080/"
        },
        "id": "HANPZ-5j9_Fu",
        "outputId": "c25ce9a5-8f4a-4dc5-f801-100ee6de2248"
      },
      "execution_count": null,
      "outputs": [
        {
          "output_type": "execute_result",
          "data": {
            "text/plain": [
              "array([3., 3.])"
            ]
          },
          "metadata": {},
          "execution_count": 626
        }
      ]
    },
    {
      "cell_type": "code",
      "source": [
        "soldprice_predict_MV_KNN(32.2956831, -110.8872431, 2402, 1959, 3,3,8,1,7,85718)"
      ],
      "metadata": {
        "colab": {
          "base_uri": "https://localhost:8080/"
        },
        "id": "nldxwfgZ-vlo",
        "outputId": "b1eacca9-56b4-4d33-d159-9543cf74cb15"
      },
      "execution_count": null,
      "outputs": [
        {
          "output_type": "execute_result",
          "data": {
            "text/plain": [
              "array([524309.03167146])"
            ]
          },
          "metadata": {},
          "execution_count": 627
        }
      ]
    },
    {
      "cell_type": "code",
      "source": [
        "soldprice_predict_FLR_KNN(32.2956831, -110.8872431, 2402, 1959, 3,3,8,1,7,85718)"
      ],
      "metadata": {
        "colab": {
          "base_uri": "https://localhost:8080/"
        },
        "id": "O8Z1sSQS-viD",
        "outputId": "24d23ca7-9273-41b3-daad-2f8dc6687750"
      },
      "execution_count": null,
      "outputs": [
        {
          "output_type": "execute_result",
          "data": {
            "text/plain": [
              "array([429052.39472503])"
            ]
          },
          "metadata": {},
          "execution_count": 628
        }
      ]
    },
    {
      "cell_type": "code",
      "source": [
        "soldprice_predict_MV_KNN(32.2803591, -110.8871833, 4500, 1971, 6,4,2,2,7,85718)"
      ],
      "metadata": {
        "colab": {
          "base_uri": "https://localhost:8080/"
        },
        "id": "VS4rVEGa-AaK",
        "outputId": "9947636f-c170-4992-dbe1-5a45557f0f05"
      },
      "execution_count": null,
      "outputs": [
        {
          "output_type": "execute_result",
          "data": {
            "text/plain": [
              "array([982285.41439287])"
            ]
          },
          "metadata": {},
          "execution_count": 629
        }
      ]
    },
    {
      "cell_type": "code",
      "source": [
        "soldprice_predict_FLR_KNN(32.2956831, -110.8872431, 2402, 1959, 3,3,8,1,7,85718)"
      ],
      "metadata": {
        "colab": {
          "base_uri": "https://localhost:8080/"
        },
        "id": "qDUqXwbmAA-o",
        "outputId": "b1c4df40-6cc3-4f6e-c919-2bfba516c540"
      },
      "execution_count": null,
      "outputs": [
        {
          "output_type": "execute_result",
          "data": {
            "text/plain": [
              "array([429052.39472503])"
            ]
          },
          "metadata": {},
          "execution_count": 630
        }
      ]
    },
    {
      "cell_type": "code",
      "source": [
        "soldprice_predict_FLR_KNN(32.176671, -110.969319, 806, 1948, 2,1,0,0,0,85714)"
      ],
      "metadata": {
        "colab": {
          "base_uri": "https://localhost:8080/"
        },
        "id": "1usPI64FAFqH",
        "outputId": "6cdef0a1-9d8f-4351-b703-f149ef602c55"
      },
      "execution_count": null,
      "outputs": [
        {
          "output_type": "execute_result",
          "data": {
            "text/plain": [
              "array([143411.51555907])"
            ]
          },
          "metadata": {},
          "execution_count": 631
        }
      ]
    },
    {
      "cell_type": "code",
      "source": [
        "soldprice_predict_FLR_KNN( 32.228117,-110.933154, 1969, 1947, 4,3,1,1,0,85716)"
      ],
      "metadata": {
        "colab": {
          "base_uri": "https://localhost:8080/"
        },
        "id": "bkjzDXt2cw5G",
        "outputId": "773299f1-0b85-499e-e9af-ce9a1758067a"
      },
      "execution_count": null,
      "outputs": [
        {
          "output_type": "execute_result",
          "data": {
            "text/plain": [
              "array([345875.79585123])"
            ]
          },
          "metadata": {},
          "execution_count": 632
        }
      ]
    },
    {
      "cell_type": "code",
      "source": [],
      "metadata": {
        "id": "IQtY0MrGdx-j"
      },
      "execution_count": null,
      "outputs": []
    },
    {
      "cell_type": "code",
      "source": [],
      "metadata": {
        "id": "BvVzGt8VGEth"
      },
      "execution_count": null,
      "outputs": []
    },
    {
      "cell_type": "code",
      "source": [
        "# Defining a function using KNN classifier and Multivariate linear regression to calcuate the sold_price\n",
        "\n",
        "def soldprice_Test_FLR_KNN(latitude, longitude, sqft, year_built, bedrooms, bathrooms, garage, fireplaces, hoa, zipcode):\n",
        "\n",
        "    #lat_long = [latitude, longitude]\n",
        "    long_lat = [longitude,latitude,year_built, bedrooms, bathrooms, garage, fireplaces, hoa, zipcode]\n",
        "\n",
        "\n",
        "    bin = knn_instance.predict(long_lat, K=20)\n",
        "    bin = bin.flatten()[0]\n",
        "\n",
        "\n",
        "    m = np.array([year_built, bedrooms, bathrooms, garage, fireplaces, hoa, zipcode])\n",
        "    m = np.append(m, bin)\n",
        "    m = m.reshape(1, -1)\n",
        "\n",
        "\n",
        "    price_per_sqft = fastlr.predict(m)\n",
        "    predicted_price = sqft*price_per_sqft\n",
        "\n",
        "\n",
        "    return predicted_price"
      ],
      "metadata": {
        "id": "XyYB3am6GEex"
      },
      "execution_count": null,
      "outputs": []
    },
    {
      "cell_type": "code",
      "source": [
        "soldprice_Test_FLR_KNN(32.228117,-110.933154, 1969, 1947, 4,3,1,1,0, 85716)"
      ],
      "metadata": {
        "colab": {
          "base_uri": "https://localhost:8080/"
        },
        "id": "6C2FTIZFGHda",
        "outputId": "14a86a8f-85f9-4497-e1d6-30914cf92c07"
      },
      "execution_count": null,
      "outputs": [
        {
          "output_type": "execute_result",
          "data": {
            "text/plain": [
              "array([345875.79585123])"
            ]
          },
          "metadata": {},
          "execution_count": 634
        }
      ]
    },
    {
      "cell_type": "code",
      "source": [
        "plt.figure(figsize=(10,7))\n",
        "y_actu = pd.Series(y_test, name='Actual')\n",
        "y_pred = pd.Series(y_hat_test, name='Predicted')\n",
        "cm = pd.crosstab(y_actu, y_pred)\n",
        "ax = sns.heatmap(cm, annot=True, fmt=\"d\")\n",
        "plt.ylabel('Actual Bin')\n",
        "plt.xlabel('Predicted Bin')\n",
        "\n"
      ],
      "metadata": {
        "id": "B8mYuDMvGV58",
        "colab": {
          "base_uri": "https://localhost:8080/",
          "height": 644
        },
        "outputId": "747c8bcc-8b96-4e95-8a27-35db35d293d9"
      },
      "execution_count": null,
      "outputs": [
        {
          "output_type": "execute_result",
          "data": {
            "text/plain": [
              "Text(0.5, 43.249999999999986, 'Predicted Bin')"
            ]
          },
          "metadata": {},
          "execution_count": 635
        },
        {
          "output_type": "display_data",
          "data": {
            "text/plain": [
              "<Figure size 1000x700 with 2 Axes>"
            ],
            "image/png": "[encoded data removed]"
          },
          "metadata": {}
        }
      ]
    },
    {
      "cell_type": "code",
      "source": [
        "plt.figure(figsize=(10,7))\n",
        "y_actu = pd.Series(y_train, name='Actual')\n",
        "y_pred = pd.Series(y_hat_train, name='Predicted')\n",
        "cm = pd.crosstab(y_actu, y_pred)\n",
        "ax = sns.heatmap(cm, annot=True, fmt=\"d\")\n",
        "plt.ylabel('Actual Bin')\n",
        "plt.xlabel('Predicted Bin')"
      ],
      "metadata": {
        "colab": {
          "base_uri": "https://localhost:8080/",
          "height": 644
        },
        "id": "sCywZwC_W3nb",
        "outputId": "a7c0f526-433b-4d4a-e1bc-6a87130ad26e"
      },
      "execution_count": null,
      "outputs": [
        {
          "output_type": "execute_result",
          "data": {
            "text/plain": [
              "Text(0.5, 43.249999999999986, 'Predicted Bin')"
            ]
          },
          "metadata": {},
          "execution_count": 636
        },
        {
          "output_type": "display_data",
          "data": {
            "text/plain": [
              "<Figure size 1000x700 with 2 Axes>"
            ],
            "image/png": "[encoded data removed]"
          },
          "metadata": {}
        }
      ]
    },
    {
      "cell_type": "code",
      "source": [],
      "metadata": {
        "id": "QE-hyGJWmxgi"
      },
      "execution_count": null,
      "outputs": []
    },
    {
      "cell_type": "code",
      "source": [],
      "metadata": {
        "id": "E-vd-LjemxdF"
      },
      "execution_count": null,
      "outputs": []
    },
    {
      "cell_type": "markdown",
      "source": [
        "#PRESENTATION TEST"
      ],
      "metadata": {
        "id": "aQlq9tLenT0s"
      }
    },
    {
      "cell_type": "code",
      "source": [
        "#def soldprice_predict_FLR_KNN(latitude, longitude, sqft, year_built, bedrooms, bathrooms, garage, fireplaces, hoa, zipcode):"
      ],
      "metadata": {
        "id": "IMC8u9T5mxbA"
      },
      "execution_count": null,
      "outputs": []
    },
    {
      "cell_type": "code",
      "source": [
        "soldprice_predict_FLR_KNN( 32.228117,-110.933154, 1969, 1947, 4,3,1,1,0,85716)"
      ],
      "metadata": {
        "colab": {
          "base_uri": "https://localhost:8080/"
        },
        "id": "MCHS-sZrmxY9",
        "outputId": "9261453c-9f73-44ff-f09a-732d37ac7cc9"
      },
      "execution_count": null,
      "outputs": [
        {
          "output_type": "execute_result",
          "data": {
            "text/plain": [
              "array([345875.79585123])"
            ]
          },
          "metadata": {},
          "execution_count": 644
        }
      ]
    },
    {
      "cell_type": "code",
      "source": [
        "soldprice_predict_FLR_KNN( 32.207747,-110.907999, 1390, 1936, 2,1,0,1,0,85711)"
      ],
      "metadata": {
        "colab": {
          "base_uri": "https://localhost:8080/"
        },
        "id": "n8eJvXn9FKzq",
        "outputId": "6114d4f9-d033-4354-88de-4cb089c9ae07"
      },
      "execution_count": null,
      "outputs": [
        {
          "output_type": "execute_result",
          "data": {
            "text/plain": [
              "array([247435.47853197])"
            ]
          },
          "metadata": {},
          "execution_count": 645
        }
      ]
    },
    {
      "cell_type": "code",
      "source": [],
      "metadata": {
        "id": "s2ZR7rSaRWoa"
      },
      "execution_count": null,
      "outputs": []
    },
    {
      "cell_type": "code",
      "source": [
        "soldprice_predict_FLR_KNN( 32.297232,-110.913548, 4948, 1988, 5,4,3,4,534,85718)"
      ],
      "metadata": {
        "colab": {
          "base_uri": "https://localhost:8080/"
        },
        "id": "ifQ7hLv-FKwQ",
        "outputId": "6470b163-0ab3-4bfe-ff48-02d3e8ffe20a"
      },
      "execution_count": null,
      "outputs": [
        {
          "output_type": "execute_result",
          "data": {
            "text/plain": [
              "array([905897.11546392])"
            ]
          },
          "metadata": {},
          "execution_count": 652
        }
      ]
    },
    {
      "cell_type": "code",
      "source": [
        "soldprice_predict_FLR_KNN( 32.135162,-110.973912, 1305, 1968, 3,2,0,0,0,85706)"
      ],
      "metadata": {
        "colab": {
          "base_uri": "https://localhost:8080/"
        },
        "id": "0VkC641CR81O",
        "outputId": "f7ff3f31-d40a-4e99-f9f3-c69a0af3dae1"
      },
      "execution_count": null,
      "outputs": [
        {
          "output_type": "execute_result",
          "data": {
            "text/plain": [
              "array([230485.69435198])"
            ]
          },
          "metadata": {},
          "execution_count": 660
        }
      ]
    },
    {
      "cell_type": "code",
      "source": [
        "166.7"
      ],
      "metadata": {
        "id": "wMrVYMXlR8xx"
      },
      "execution_count": null,
      "outputs": []
    },
    {
      "cell_type": "code",
      "source": [
        "soldprice_predict_MV_KNN( 32.1351841,-110.9739875, 1305, 1968, 3,2,0,0,0,85706)"
      ],
      "metadata": {
        "colab": {
          "base_uri": "https://localhost:8080/"
        },
        "id": "J5bDnD7tR8wA",
        "outputId": "a11d912d-5a21-4f38-def1-5cdae1b082ff"
      },
      "execution_count": null,
      "outputs": [
        {
          "output_type": "execute_result",
          "data": {
            "text/plain": [
              "array([284793.30125905])"
            ]
          },
          "metadata": {},
          "execution_count": 659
        }
      ]
    },
    {
      "cell_type": "code",
      "source": [],
      "metadata": {
        "id": "u24VdzjCR8t9"
      },
      "execution_count": null,
      "outputs": []
    },
    {
      "cell_type": "code",
      "source": [
        "a3 = 166700\n",
        "b3 = 230485\n",
        "c3 = (a-b)/a"
      ],
      "metadata": {
        "id": "4DKjrk_eYQ49"
      },
      "execution_count": null,
      "outputs": []
    },
    {
      "cell_type": "code",
      "source": [
        "c3"
      ],
      "metadata": {
        "colab": {
          "base_uri": "https://localhost:8080/"
        },
        "id": "VkYOck1Sa2de",
        "outputId": "d2db270f-d707-44ff-b37a-8210542e5cbe"
      },
      "execution_count": null,
      "outputs": [
        {
          "output_type": "execute_result",
          "data": {
            "text/plain": [
              "-0.3826334733053389"
            ]
          },
          "metadata": {},
          "execution_count": 664
        }
      ]
    },
    {
      "cell_type": "code",
      "source": [
        "a2 =\n",
        "b2 = 905897.67\n",
        "c2 ="
      ],
      "metadata": {
        "id": "OeOaeK6CbVou"
      },
      "execution_count": null,
      "outputs": []
    },
    {
      "cell_type": "code",
      "source": [
        "a2 =\n",
        "b2 = 905897.67\n",
        "c2 ="
      ],
      "metadata": {
        "id": "woBPEQxPT_9H"
      },
      "execution_count": null,
      "outputs": []
    }
  ],
  "metadata": {
    "colab": {
      "provenance": []
    },
    "kernelspec": {
      "display_name": "Python 3",
      "name": "python3"
    },
    "language_info": {
      "name": "python"
    }
  },
  "nbformat": 4,
  "nbformat_minor": 0
}